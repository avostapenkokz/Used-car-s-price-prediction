{
 "cells": [
  {
   "cell_type": "code",
   "execution_count": 1,
   "metadata": {
    "_cell_guid": "b1076dfc-b9ad-4769-8c92-a6c4dae69d19",
    "_uuid": "8f2839f25d086af736a60e9eeb907d3b93b6e0e5",
    "execution": {
     "iopub.execute_input": "2023-04-08T14:02:03.145403Z",
     "iopub.status.busy": "2023-04-08T14:02:03.144331Z",
     "iopub.status.idle": "2023-04-08T14:02:03.189677Z",
     "shell.execute_reply": "2023-04-08T14:02:03.188030Z",
     "shell.execute_reply.started": "2023-04-08T14:02:03.145345Z"
    },
    "papermill": {
     "duration": 0.042806,
     "end_time": "2023-04-03T06:19:11.337371",
     "exception": false,
     "start_time": "2023-04-03T06:19:11.294565",
     "status": "completed"
    },
    "tags": []
   },
   "outputs": [],
   "source": [
    "# # This Python 3 environment comes with many helpful analytics libraries installed\n",
    "# # It is defined by the kaggle/python Docker image: https://github.com/kaggle/docker-python\n",
    "# # For example, here's several helpful packages to load\n",
    "\n",
    "# import numpy as np # linear algebra\n",
    "# import pandas as pd # data processing, CSV file I/O (e.g. pd.read_csv)\n",
    "\n",
    "# # Input data files are available in the read-only \"../input/\" directory\n",
    "# # For example, running this (by clicking run or pressing Shift+Enter) will list all files under the input directory\n",
    "\n",
    "# import os\n",
    "# for dirname, _, filenames in os.walk('/kaggle/input'):\n",
    "#     for filename in filenames:\n",
    "#         print(os.path.join(dirname, filename))\n",
    "\n",
    "# # You can write up to 20GB to the current directory (/kaggle/working/) that gets preserved as output when you create a version using \"Save & Run All\" \n",
    "# # You can also write temporary files to /kaggle/temp/, but they won't be saved outside of the current session"
   ]
  },
  {
   "cell_type": "markdown",
   "metadata": {
    "papermill": {
     "duration": 0.019358,
     "end_time": "2023-04-03T06:19:11.378395",
     "exception": false,
     "start_time": "2023-04-03T06:19:11.359037",
     "status": "completed"
    },
    "tags": []
   },
   "source": [
    "# Прогнозирование стоимости автомобиля на вторичном рынке"
   ]
  },
  {
   "cell_type": "markdown",
   "metadata": {
    "papermill": {
     "duration": 0.019185,
     "end_time": "2023-04-03T06:19:11.417434",
     "exception": false,
     "start_time": "2023-04-03T06:19:11.398249",
     "status": "completed"
    },
    "tags": []
   },
   "source": [
    "## Цель проекта - разработка модели предсказания стоимости автомобиля на вторичном рынке на основе данных, полученных из открытых источников в сети Интернет."
   ]
  },
  {
   "cell_type": "markdown",
   "metadata": {
    "papermill": {
     "duration": 0.019383,
     "end_time": "2023-04-03T06:19:11.456038",
     "exception": false,
     "start_time": "2023-04-03T06:19:11.436655",
     "status": "completed"
    },
    "tags": []
   },
   "source": [
    "## Загрузка и ознакомление с данными."
   ]
  },
  {
   "cell_type": "markdown",
   "metadata": {
    "papermill": {
     "duration": 0.01904,
     "end_time": "2023-04-03T06:19:11.494120",
     "exception": false,
     "start_time": "2023-04-03T06:19:11.475080",
     "status": "completed"
    },
    "tags": []
   },
   "source": [
    "### Импортируем необходимые для работы библиотеки. "
   ]
  },
  {
   "cell_type": "code",
   "execution_count": 2,
   "metadata": {
    "execution": {
     "iopub.execute_input": "2023-04-08T14:02:03.193234Z",
     "iopub.status.busy": "2023-04-08T14:02:03.192697Z",
     "iopub.status.idle": "2023-04-08T14:02:16.495542Z",
     "shell.execute_reply": "2023-04-08T14:02:16.493944Z",
     "shell.execute_reply.started": "2023-04-08T14:02:03.193171Z"
    },
    "papermill": {
     "duration": 10.042353,
     "end_time": "2023-04-03T06:19:21.555909",
     "exception": false,
     "start_time": "2023-04-03T06:19:11.513556",
     "status": "completed"
    },
    "tags": []
   },
   "outputs": [
    {
     "name": "stdout",
     "output_type": "stream",
     "text": [
      "Requirement already satisfied: catboost in c:\\users\\user\\anaconda3\\lib\\site-packages (1.1.1)\n",
      "Requirement already satisfied: pandas>=0.24.0 in c:\\users\\user\\anaconda3\\lib\\site-packages (from catboost) (1.5.3)\n",
      "Requirement already satisfied: matplotlib in c:\\users\\user\\anaconda3\\lib\\site-packages (from catboost) (3.6.3)\n",
      "Requirement already satisfied: numpy>=1.16.0 in c:\\users\\user\\anaconda3\\lib\\site-packages (from catboost) (1.23.5)\n",
      "Requirement already satisfied: six in c:\\users\\user\\anaconda3\\lib\\site-packages (from catboost) (1.16.0)\n",
      "Requirement already satisfied: plotly in c:\\users\\user\\anaconda3\\lib\\site-packages (from catboost) (5.9.0)\n",
      "Requirement already satisfied: graphviz in c:\\users\\user\\anaconda3\\lib\\site-packages (from catboost) (0.20.1)\n",
      "Requirement already satisfied: scipy in c:\\users\\user\\anaconda3\\lib\\site-packages (from catboost) (1.9.3)\n",
      "Requirement already satisfied: pytz>=2020.1 in c:\\users\\user\\anaconda3\\lib\\site-packages (from pandas>=0.24.0->catboost) (2022.7)\n",
      "Requirement already satisfied: python-dateutil>=2.8.1 in c:\\users\\user\\anaconda3\\lib\\site-packages (from pandas>=0.24.0->catboost) (2.8.2)\n",
      "Requirement already satisfied: pillow>=6.2.0 in c:\\users\\user\\anaconda3\\lib\\site-packages (from matplotlib->catboost) (9.4.0)\n",
      "Requirement already satisfied: kiwisolver>=1.0.1 in c:\\users\\user\\anaconda3\\lib\\site-packages (from matplotlib->catboost) (1.4.4)\n",
      "Requirement already satisfied: fonttools>=4.22.0 in c:\\users\\user\\anaconda3\\lib\\site-packages (from matplotlib->catboost) (4.25.0)\n",
      "Requirement already satisfied: packaging>=20.0 in c:\\users\\user\\anaconda3\\lib\\site-packages (from matplotlib->catboost) (22.0)\n",
      "Requirement already satisfied: contourpy>=1.0.1 in c:\\users\\user\\anaconda3\\lib\\site-packages (from matplotlib->catboost) (1.0.5)\n",
      "Requirement already satisfied: pyparsing>=2.2.1 in c:\\users\\user\\anaconda3\\lib\\site-packages (from matplotlib->catboost) (3.0.9)\n",
      "Requirement already satisfied: cycler>=0.10 in c:\\users\\user\\anaconda3\\lib\\site-packages (from matplotlib->catboost) (0.11.0)\n",
      "Requirement already satisfied: tenacity>=6.2.0 in c:\\users\\user\\anaconda3\\lib\\site-packages (from plotly->catboost) (8.0.1)\n"
     ]
    }
   ],
   "source": [
    "! pip install catboost"
   ]
  },
  {
   "cell_type": "code",
   "execution_count": 3,
   "metadata": {
    "execution": {
     "iopub.execute_input": "2023-04-08T14:02:16.498917Z",
     "iopub.status.busy": "2023-04-08T14:02:16.498459Z",
     "iopub.status.idle": "2023-04-08T14:02:16.505079Z",
     "shell.execute_reply": "2023-04-08T14:02:16.503523Z",
     "shell.execute_reply.started": "2023-04-08T14:02:16.498877Z"
    },
    "papermill": {
     "duration": 0.032897,
     "end_time": "2023-04-03T06:19:21.622207",
     "exception": false,
     "start_time": "2023-04-03T06:19:21.589310",
     "status": "completed"
    },
    "tags": []
   },
   "outputs": [],
   "source": [
    "! pip install ydata_profiling"
   ]
  },
  {
   "cell_type": "code",
   "execution_count": 4,
   "metadata": {
    "execution": {
     "iopub.execute_input": "2023-04-08T14:02:16.509278Z",
     "iopub.status.busy": "2023-04-08T14:02:16.508832Z",
     "iopub.status.idle": "2023-04-08T14:02:18.387686Z",
     "shell.execute_reply": "2023-04-08T14:02:18.386055Z",
     "shell.execute_reply.started": "2023-04-08T14:02:16.509241Z"
    },
    "papermill": {
     "duration": 2.080938,
     "end_time": "2023-04-03T06:19:23.735393",
     "exception": false,
     "start_time": "2023-04-03T06:19:21.654455",
     "status": "completed"
    },
    "tags": []
   },
   "outputs": [],
   "source": [
    "# import optuna\n",
    "import pandas as pd\n",
    "import numpy as np\n",
    "import matplotlib.pyplot as plt\n",
    "import math\n",
    "import seaborn as sns\n",
    "from phik import phik_matrix\n",
    "\n",
    "from numpy.random import RandomState\n",
    "\n",
    "from catboost import CatBoostRegressor, Pool\n",
    "\n",
    "from ydata_profiling import ProfileReport\n",
    "\n",
    "from sklearn.impute import KNNImputer"
   ]
  },
  {
   "cell_type": "markdown",
   "metadata": {
    "papermill": {
     "duration": 0.021883,
     "end_time": "2023-04-03T06:19:23.779190",
     "exception": false,
     "start_time": "2023-04-03T06:19:23.757307",
     "status": "completed"
    },
    "tags": []
   },
   "source": [
    "### Открываем файлы и сохраняем в переменных."
   ]
  },
  {
   "cell_type": "code",
   "execution_count": 5,
   "metadata": {
    "execution": {
     "iopub.execute_input": "2023-04-08T14:02:18.389940Z",
     "iopub.status.busy": "2023-04-08T14:02:18.389519Z",
     "iopub.status.idle": "2023-04-08T14:02:21.777810Z",
     "shell.execute_reply": "2023-04-08T14:02:21.776251Z",
     "shell.execute_reply.started": "2023-04-08T14:02:18.389895Z"
    },
    "papermill": {
     "duration": 3.463199,
     "end_time": "2023-04-03T06:19:27.263392",
     "exception": false,
     "start_time": "2023-04-03T06:19:23.800193",
     "status": "completed"
    },
    "tags": []
   },
   "outputs": [
    {
     "name": "stdout",
     "output_type": "stream",
     "text": [
      "Размер тренировочных данных: (440236, 15)\n",
      "Размер тестовых данных: (110060, 14)\n",
      "\n"
     ]
    }
   ],
   "source": [
    "try:\n",
    "    train = pd.read_csv(\"/kaggle/input/used-cars-price-prediction/train.csv\")\n",
    "    test = pd.read_csv(\"/kaggle/input/used-cars-price-prediction/test.csv\")\n",
    "except:\n",
    "    train = pd.read_csv(\"train.csv\")\n",
    "    test = pd.read_csv(\"test.csv\")\n",
    "print(f\"Размер тренировочных данных: {train.shape}\\nРазмер тестовых данных: {test.shape}\\n\")"
   ]
  },
  {
   "cell_type": "code",
   "execution_count": 6,
   "metadata": {},
   "outputs": [],
   "source": [
    "initial_test = test"
   ]
  },
  {
   "cell_type": "markdown",
   "metadata": {
    "papermill": {
     "duration": 0.019468,
     "end_time": "2023-04-03T06:19:27.303084",
     "exception": false,
     "start_time": "2023-04-03T06:19:27.283616",
     "status": "completed"
    },
    "tags": []
   },
   "source": [
    "### Выводим первые 5 строк датафреймов."
   ]
  },
  {
   "cell_type": "code",
   "execution_count": 7,
   "metadata": {
    "execution": {
     "iopub.execute_input": "2023-04-08T14:02:21.780864Z",
     "iopub.status.busy": "2023-04-08T14:02:21.779531Z",
     "iopub.status.idle": "2023-04-08T14:02:21.821220Z",
     "shell.execute_reply": "2023-04-08T14:02:21.819607Z",
     "shell.execute_reply.started": "2023-04-08T14:02:21.780819Z"
    },
    "papermill": {
     "duration": 0.048292,
     "end_time": "2023-04-03T06:19:27.371421",
     "exception": false,
     "start_time": "2023-04-03T06:19:27.323129",
     "status": "completed"
    },
    "tags": []
   },
   "outputs": [
    {
     "data": {
      "text/html": [
       "<div>\n",
       "<style scoped>\n",
       "    .dataframe tbody tr th:only-of-type {\n",
       "        vertical-align: middle;\n",
       "    }\n",
       "\n",
       "    .dataframe tbody tr th {\n",
       "        vertical-align: top;\n",
       "    }\n",
       "\n",
       "    .dataframe thead th {\n",
       "        text-align: right;\n",
       "    }\n",
       "</style>\n",
       "<table border=\"1\" class=\"dataframe\">\n",
       "  <thead>\n",
       "    <tr style=\"text-align: right;\">\n",
       "      <th></th>\n",
       "      <th>year</th>\n",
       "      <th>make</th>\n",
       "      <th>model</th>\n",
       "      <th>trim</th>\n",
       "      <th>body</th>\n",
       "      <th>transmission</th>\n",
       "      <th>vin</th>\n",
       "      <th>state</th>\n",
       "      <th>condition</th>\n",
       "      <th>odometer</th>\n",
       "      <th>color</th>\n",
       "      <th>interior</th>\n",
       "      <th>seller</th>\n",
       "      <th>sellingprice</th>\n",
       "      <th>saledate</th>\n",
       "    </tr>\n",
       "  </thead>\n",
       "  <tbody>\n",
       "    <tr>\n",
       "      <th>0</th>\n",
       "      <td>2011</td>\n",
       "      <td>Ford</td>\n",
       "      <td>Edge</td>\n",
       "      <td>SEL</td>\n",
       "      <td>suv</td>\n",
       "      <td>automatic</td>\n",
       "      <td>2fmdk3jc4bba41556</td>\n",
       "      <td>md</td>\n",
       "      <td>4.2</td>\n",
       "      <td>111041.0</td>\n",
       "      <td>black</td>\n",
       "      <td>black</td>\n",
       "      <td>santander consumer</td>\n",
       "      <td>12500</td>\n",
       "      <td>Tue Jun 02 2015 02:30:00 GMT-0700 (PDT)</td>\n",
       "    </tr>\n",
       "    <tr>\n",
       "      <th>1</th>\n",
       "      <td>2014</td>\n",
       "      <td>Ford</td>\n",
       "      <td>Fusion</td>\n",
       "      <td>SE</td>\n",
       "      <td>Sedan</td>\n",
       "      <td>automatic</td>\n",
       "      <td>3fa6p0h75er208976</td>\n",
       "      <td>mo</td>\n",
       "      <td>3.5</td>\n",
       "      <td>31034.0</td>\n",
       "      <td>black</td>\n",
       "      <td>black</td>\n",
       "      <td>ars/avis budget group</td>\n",
       "      <td>14500</td>\n",
       "      <td>Wed Feb 25 2015 02:00:00 GMT-0800 (PST)</td>\n",
       "    </tr>\n",
       "    <tr>\n",
       "      <th>2</th>\n",
       "      <td>2012</td>\n",
       "      <td>Nissan</td>\n",
       "      <td>Sentra</td>\n",
       "      <td>2.0 SL</td>\n",
       "      <td>sedan</td>\n",
       "      <td>automatic</td>\n",
       "      <td>3n1ab6ap4cl698412</td>\n",
       "      <td>nj</td>\n",
       "      <td>2.2</td>\n",
       "      <td>35619.0</td>\n",
       "      <td>black</td>\n",
       "      <td>black</td>\n",
       "      <td>nissan-infiniti lt</td>\n",
       "      <td>9100</td>\n",
       "      <td>Wed Jun 10 2015 02:30:00 GMT-0700 (PDT)</td>\n",
       "    </tr>\n",
       "    <tr>\n",
       "      <th>3</th>\n",
       "      <td>2003</td>\n",
       "      <td>HUMMER</td>\n",
       "      <td>H2</td>\n",
       "      <td>Base</td>\n",
       "      <td>suv</td>\n",
       "      <td>automatic</td>\n",
       "      <td>5grgn23u93h101360</td>\n",
       "      <td>tx</td>\n",
       "      <td>2.8</td>\n",
       "      <td>131301.0</td>\n",
       "      <td>gold</td>\n",
       "      <td>beige</td>\n",
       "      <td>wichita falls ford lin inc</td>\n",
       "      <td>13300</td>\n",
       "      <td>Wed Jun 17 2015 03:00:00 GMT-0700 (PDT)</td>\n",
       "    </tr>\n",
       "    <tr>\n",
       "      <th>4</th>\n",
       "      <td>2007</td>\n",
       "      <td>Ford</td>\n",
       "      <td>Fusion</td>\n",
       "      <td>SEL</td>\n",
       "      <td>Sedan</td>\n",
       "      <td>automatic</td>\n",
       "      <td>3fahp08z17r268380</td>\n",
       "      <td>md</td>\n",
       "      <td>2.0</td>\n",
       "      <td>127709.0</td>\n",
       "      <td>black</td>\n",
       "      <td>black</td>\n",
       "      <td>purple heart</td>\n",
       "      <td>1300</td>\n",
       "      <td>Tue Feb 03 2015 04:00:00 GMT-0800 (PST)</td>\n",
       "    </tr>\n",
       "  </tbody>\n",
       "</table>\n",
       "</div>"
      ],
      "text/plain": [
       "   year    make   model    trim   body transmission                vin state  \\\n",
       "0  2011    Ford    Edge     SEL    suv    automatic  2fmdk3jc4bba41556    md   \n",
       "1  2014    Ford  Fusion      SE  Sedan    automatic  3fa6p0h75er208976    mo   \n",
       "2  2012  Nissan  Sentra  2.0 SL  sedan    automatic  3n1ab6ap4cl698412    nj   \n",
       "3  2003  HUMMER      H2    Base    suv    automatic  5grgn23u93h101360    tx   \n",
       "4  2007    Ford  Fusion     SEL  Sedan    automatic  3fahp08z17r268380    md   \n",
       "\n",
       "   condition  odometer  color interior                      seller  \\\n",
       "0        4.2  111041.0  black    black          santander consumer   \n",
       "1        3.5   31034.0  black    black       ars/avis budget group   \n",
       "2        2.2   35619.0  black    black          nissan-infiniti lt   \n",
       "3        2.8  131301.0   gold    beige  wichita falls ford lin inc   \n",
       "4        2.0  127709.0  black    black                purple heart   \n",
       "\n",
       "   sellingprice                                 saledate  \n",
       "0         12500  Tue Jun 02 2015 02:30:00 GMT-0700 (PDT)  \n",
       "1         14500  Wed Feb 25 2015 02:00:00 GMT-0800 (PST)  \n",
       "2          9100  Wed Jun 10 2015 02:30:00 GMT-0700 (PDT)  \n",
       "3         13300  Wed Jun 17 2015 03:00:00 GMT-0700 (PDT)  \n",
       "4          1300  Tue Feb 03 2015 04:00:00 GMT-0800 (PST)  "
      ]
     },
     "metadata": {},
     "output_type": "display_data"
    }
   ],
   "source": [
    "display(train.head(5))"
   ]
  },
  {
   "cell_type": "code",
   "execution_count": 8,
   "metadata": {
    "execution": {
     "iopub.execute_input": "2023-04-08T14:02:21.824246Z",
     "iopub.status.busy": "2023-04-08T14:02:21.823747Z",
     "iopub.status.idle": "2023-04-08T14:02:21.853011Z",
     "shell.execute_reply": "2023-04-08T14:02:21.851394Z",
     "shell.execute_reply.started": "2023-04-08T14:02:21.824196Z"
    },
    "papermill": {
     "duration": 0.041949,
     "end_time": "2023-04-03T06:19:27.434081",
     "exception": false,
     "start_time": "2023-04-03T06:19:27.392132",
     "status": "completed"
    },
    "tags": []
   },
   "outputs": [
    {
     "data": {
      "text/html": [
       "<div>\n",
       "<style scoped>\n",
       "    .dataframe tbody tr th:only-of-type {\n",
       "        vertical-align: middle;\n",
       "    }\n",
       "\n",
       "    .dataframe tbody tr th {\n",
       "        vertical-align: top;\n",
       "    }\n",
       "\n",
       "    .dataframe thead th {\n",
       "        text-align: right;\n",
       "    }\n",
       "</style>\n",
       "<table border=\"1\" class=\"dataframe\">\n",
       "  <thead>\n",
       "    <tr style=\"text-align: right;\">\n",
       "      <th></th>\n",
       "      <th>year</th>\n",
       "      <th>make</th>\n",
       "      <th>model</th>\n",
       "      <th>trim</th>\n",
       "      <th>body</th>\n",
       "      <th>transmission</th>\n",
       "      <th>vin</th>\n",
       "      <th>state</th>\n",
       "      <th>condition</th>\n",
       "      <th>odometer</th>\n",
       "      <th>color</th>\n",
       "      <th>interior</th>\n",
       "      <th>seller</th>\n",
       "      <th>saledate</th>\n",
       "    </tr>\n",
       "  </thead>\n",
       "  <tbody>\n",
       "    <tr>\n",
       "      <th>0</th>\n",
       "      <td>2005</td>\n",
       "      <td>Cadillac</td>\n",
       "      <td>CTS</td>\n",
       "      <td>Base</td>\n",
       "      <td>Sedan</td>\n",
       "      <td>automatic</td>\n",
       "      <td>1g6dp567450124779</td>\n",
       "      <td>ca</td>\n",
       "      <td>2.7</td>\n",
       "      <td>116970.0</td>\n",
       "      <td>silver</td>\n",
       "      <td>black</td>\n",
       "      <td>lexus of stevens creek</td>\n",
       "      <td>Wed Jan 14 2015 04:30:00 GMT-0800 (PST)</td>\n",
       "    </tr>\n",
       "    <tr>\n",
       "      <th>1</th>\n",
       "      <td>2014</td>\n",
       "      <td>GMC</td>\n",
       "      <td>Savana Cargo</td>\n",
       "      <td>2500</td>\n",
       "      <td>Van</td>\n",
       "      <td>NaN</td>\n",
       "      <td>1gtw7fca7e1902207</td>\n",
       "      <td>pa</td>\n",
       "      <td>4.4</td>\n",
       "      <td>6286.0</td>\n",
       "      <td>white</td>\n",
       "      <td>gray</td>\n",
       "      <td>u-haul</td>\n",
       "      <td>Fri Feb 27 2015 01:00:00 GMT-0800 (PST)</td>\n",
       "    </tr>\n",
       "    <tr>\n",
       "      <th>2</th>\n",
       "      <td>2013</td>\n",
       "      <td>Nissan</td>\n",
       "      <td>Murano</td>\n",
       "      <td>S</td>\n",
       "      <td>SUV</td>\n",
       "      <td>automatic</td>\n",
       "      <td>jn8az1mw6dw303497</td>\n",
       "      <td>oh</td>\n",
       "      <td>4.6</td>\n",
       "      <td>11831.0</td>\n",
       "      <td>gray</td>\n",
       "      <td>black</td>\n",
       "      <td>nissan-infiniti lt</td>\n",
       "      <td>Tue Feb 24 2015 01:30:00 GMT-0800 (PST)</td>\n",
       "    </tr>\n",
       "    <tr>\n",
       "      <th>3</th>\n",
       "      <td>2013</td>\n",
       "      <td>Chevrolet</td>\n",
       "      <td>Impala</td>\n",
       "      <td>LS Fleet</td>\n",
       "      <td>Sedan</td>\n",
       "      <td>automatic</td>\n",
       "      <td>2g1wf5e34d1160703</td>\n",
       "      <td>fl</td>\n",
       "      <td>2.3</td>\n",
       "      <td>57105.0</td>\n",
       "      <td>silver</td>\n",
       "      <td>black</td>\n",
       "      <td>onemain rem/auto club of miami inc dba north dad</td>\n",
       "      <td>Fri Mar 06 2015 02:00:00 GMT-0800 (PST)</td>\n",
       "    </tr>\n",
       "    <tr>\n",
       "      <th>4</th>\n",
       "      <td>2013</td>\n",
       "      <td>Nissan</td>\n",
       "      <td>Titan</td>\n",
       "      <td>SV</td>\n",
       "      <td>Crew Cab</td>\n",
       "      <td>automatic</td>\n",
       "      <td>1n6aa0ec3dn301209</td>\n",
       "      <td>tn</td>\n",
       "      <td>2.9</td>\n",
       "      <td>31083.0</td>\n",
       "      <td>black</td>\n",
       "      <td>black</td>\n",
       "      <td>nissan north america inc.</td>\n",
       "      <td>Wed Jun 03 2015 03:30:00 GMT-0700 (PDT)</td>\n",
       "    </tr>\n",
       "  </tbody>\n",
       "</table>\n",
       "</div>"
      ],
      "text/plain": [
       "   year       make         model      trim      body transmission  \\\n",
       "0  2005   Cadillac           CTS      Base     Sedan    automatic   \n",
       "1  2014        GMC  Savana Cargo      2500       Van          NaN   \n",
       "2  2013     Nissan        Murano         S       SUV    automatic   \n",
       "3  2013  Chevrolet        Impala  LS Fleet     Sedan    automatic   \n",
       "4  2013     Nissan         Titan        SV  Crew Cab    automatic   \n",
       "\n",
       "                 vin state  condition  odometer   color interior  \\\n",
       "0  1g6dp567450124779    ca        2.7  116970.0  silver    black   \n",
       "1  1gtw7fca7e1902207    pa        4.4    6286.0   white     gray   \n",
       "2  jn8az1mw6dw303497    oh        4.6   11831.0    gray    black   \n",
       "3  2g1wf5e34d1160703    fl        2.3   57105.0  silver    black   \n",
       "4  1n6aa0ec3dn301209    tn        2.9   31083.0   black    black   \n",
       "\n",
       "                                             seller  \\\n",
       "0                            lexus of stevens creek   \n",
       "1                                            u-haul   \n",
       "2                                nissan-infiniti lt   \n",
       "3  onemain rem/auto club of miami inc dba north dad   \n",
       "4                         nissan north america inc.   \n",
       "\n",
       "                                  saledate  \n",
       "0  Wed Jan 14 2015 04:30:00 GMT-0800 (PST)  \n",
       "1  Fri Feb 27 2015 01:00:00 GMT-0800 (PST)  \n",
       "2  Tue Feb 24 2015 01:30:00 GMT-0800 (PST)  \n",
       "3  Fri Mar 06 2015 02:00:00 GMT-0800 (PST)  \n",
       "4  Wed Jun 03 2015 03:30:00 GMT-0700 (PDT)  "
      ]
     },
     "metadata": {},
     "output_type": "display_data"
    }
   ],
   "source": [
    "display(test.head(5))"
   ]
  },
  {
   "cell_type": "markdown",
   "metadata": {
    "papermill": {
     "duration": 0.020483,
     "end_time": "2023-04-03T06:19:27.474429",
     "exception": false,
     "start_time": "2023-04-03T06:19:27.453946",
     "status": "completed"
    },
    "tags": []
   },
   "source": [
    "### Выводим основную информацию для датафреймов методом info() и методом ProfileReport()."
   ]
  },
  {
   "cell_type": "code",
   "execution_count": 9,
   "metadata": {
    "execution": {
     "iopub.execute_input": "2023-04-08T14:02:21.855403Z",
     "iopub.status.busy": "2023-04-08T14:02:21.854929Z",
     "iopub.status.idle": "2023-04-08T14:02:22.155788Z",
     "shell.execute_reply": "2023-04-08T14:02:22.154412Z",
     "shell.execute_reply.started": "2023-04-08T14:02:21.855356Z"
    },
    "papermill": {
     "duration": 0.205894,
     "end_time": "2023-04-03T06:19:27.700432",
     "exception": false,
     "start_time": "2023-04-03T06:19:27.494538",
     "status": "completed"
    },
    "tags": []
   },
   "outputs": [
    {
     "name": "stdout",
     "output_type": "stream",
     "text": [
      "<class 'pandas.core.frame.DataFrame'>\n",
      "RangeIndex: 440236 entries, 0 to 440235\n",
      "Data columns (total 15 columns):\n",
      " #   Column        Non-Null Count   Dtype  \n",
      "---  ------        --------------   -----  \n",
      " 0   year          440236 non-null  int64  \n",
      " 1   make          432193 non-null  object \n",
      " 2   model         432113 non-null  object \n",
      " 3   trim          431899 non-null  object \n",
      " 4   body          429843 non-null  object \n",
      " 5   transmission  388775 non-null  object \n",
      " 6   vin           440236 non-null  object \n",
      " 7   state         440236 non-null  object \n",
      " 8   condition     430831 non-null  float64\n",
      " 9   odometer      440167 non-null  float64\n",
      " 10  color         439650 non-null  object \n",
      " 11  interior      439650 non-null  object \n",
      " 12  seller        440236 non-null  object \n",
      " 13  sellingprice  440236 non-null  int64  \n",
      " 14  saledate      440236 non-null  object \n",
      "dtypes: float64(2), int64(2), object(11)\n",
      "memory usage: 50.4+ MB\n"
     ]
    }
   ],
   "source": [
    "train.info()"
   ]
  },
  {
   "cell_type": "code",
   "execution_count": 10,
   "metadata": {
    "execution": {
     "iopub.execute_input": "2023-04-08T14:02:22.158321Z",
     "iopub.status.busy": "2023-04-08T14:02:22.157458Z",
     "iopub.status.idle": "2023-04-08T14:02:22.165110Z",
     "shell.execute_reply": "2023-04-08T14:02:22.163595Z",
     "shell.execute_reply.started": "2023-04-08T14:02:22.158270Z"
    },
    "papermill": {
     "duration": 0.019712,
     "end_time": "2023-04-03T06:19:27.757782",
     "exception": false,
     "start_time": "2023-04-03T06:19:27.738070",
     "status": "completed"
    },
    "tags": []
   },
   "outputs": [],
   "source": [
    "ProfileReport(train)"
   ]
  },
  {
   "cell_type": "code",
   "execution_count": 11,
   "metadata": {
    "execution": {
     "iopub.execute_input": "2023-04-08T14:02:22.172352Z",
     "iopub.status.busy": "2023-04-08T14:02:22.171810Z",
     "iopub.status.idle": "2023-04-08T14:02:22.262050Z",
     "shell.execute_reply": "2023-04-08T14:02:22.260332Z",
     "shell.execute_reply.started": "2023-04-08T14:02:22.172297Z"
    },
    "papermill": {
     "duration": 0.075618,
     "end_time": "2023-04-03T06:19:27.853432",
     "exception": false,
     "start_time": "2023-04-03T06:19:27.777814",
     "status": "completed"
    },
    "tags": []
   },
   "outputs": [
    {
     "name": "stdout",
     "output_type": "stream",
     "text": [
      "<class 'pandas.core.frame.DataFrame'>\n",
      "RangeIndex: 110060 entries, 0 to 110059\n",
      "Data columns (total 14 columns):\n",
      " #   Column        Non-Null Count   Dtype  \n",
      "---  ------        --------------   -----  \n",
      " 0   year          110060 non-null  int64  \n",
      " 1   make          107999 non-null  object \n",
      " 2   model         107981 non-null  object \n",
      " 3   trim          107946 non-null  object \n",
      " 4   body          107466 non-null  object \n",
      " 5   transmission  97048 non-null   object \n",
      " 6   vin           110060 non-null  object \n",
      " 7   state         110060 non-null  object \n",
      " 8   condition     107681 non-null  float64\n",
      " 9   odometer      110041 non-null  float64\n",
      " 10  color         109902 non-null  object \n",
      " 11  interior      109902 non-null  object \n",
      " 12  seller        110060 non-null  object \n",
      " 13  saledate      110060 non-null  object \n",
      "dtypes: float64(2), int64(1), object(11)\n",
      "memory usage: 11.8+ MB\n"
     ]
    }
   ],
   "source": [
    "test.info()"
   ]
  },
  {
   "cell_type": "code",
   "execution_count": 12,
   "metadata": {
    "execution": {
     "iopub.execute_input": "2023-04-08T14:02:22.266275Z",
     "iopub.status.busy": "2023-04-08T14:02:22.264771Z",
     "iopub.status.idle": "2023-04-08T14:02:22.273816Z",
     "shell.execute_reply": "2023-04-08T14:02:22.272200Z",
     "shell.execute_reply.started": "2023-04-08T14:02:22.266216Z"
    },
    "papermill": {
     "duration": 0.019635,
     "end_time": "2023-04-03T06:19:27.893846",
     "exception": false,
     "start_time": "2023-04-03T06:19:27.874211",
     "status": "completed"
    },
    "tags": []
   },
   "outputs": [],
   "source": [
    "ProfileReport(test)"
   ]
  },
  {
   "cell_type": "markdown",
   "metadata": {
    "papermill": {
     "duration": 0.019786,
     "end_time": "2023-04-03T06:19:27.933583",
     "exception": false,
     "start_time": "2023-04-03T06:19:27.913797",
     "status": "completed"
    },
    "tags": []
   },
   "source": [
    "### В данных выявлены следующие недостатки:"
   ]
  },
  {
   "cell_type": "markdown",
   "metadata": {
    "papermill": {
     "duration": 0.019857,
     "end_time": "2023-04-03T06:19:27.974713",
     "exception": false,
     "start_time": "2023-04-03T06:19:27.954856",
     "status": "completed"
    },
    "tags": []
   },
   "source": [
    "- выявлены нарушение стиля в названиях колонок, а также их неточные названия;\n",
    "- присутствуют избыточные данные, не относящиеся к признакам и целевому признаку, а также данные с огромным количеством уникальных значений категориальных переменных, которые не подходят для целей машинного обучения;\n",
    "- присутствуют пропуски;\n",
    "- присутствуют аномальные значения в некоторых столбцах;\n",
    "- в категориальных признаках присутствуют неявные дубликаты;\n",
    "- присутствуют количественные признаки с разными разбросами значений, которые необходимо масштабировать посредством стандартизации данных;\n",
    "- присутствуют категориальные типы данных, которые необходимо преобразовать в численные для целей машинного обучения."
   ]
  },
  {
   "cell_type": "markdown",
   "metadata": {
    "papermill": {
     "duration": 0.019626,
     "end_time": "2023-04-03T06:19:28.014129",
     "exception": false,
     "start_time": "2023-04-03T06:19:27.994503",
     "status": "completed"
    },
    "tags": []
   },
   "source": [
    "## Предобработка данных."
   ]
  },
  {
   "cell_type": "markdown",
   "metadata": {
    "papermill": {
     "duration": 0.019574,
     "end_time": "2023-04-03T06:19:28.053615",
     "exception": false,
     "start_time": "2023-04-03T06:19:28.034041",
     "status": "completed"
    },
    "tags": []
   },
   "source": [
    "### В целях облегчения процесса поиска и обучения необходимой модели исключаем из датафрейма данные, не относящиеся к признакам, а также данные с огромным количеством уникальных значений категориальных переменных, которые не подходят для целей машинного обучения (это столбцы 'vin' и 'seller')."
   ]
  },
  {
   "cell_type": "code",
   "execution_count": 13,
   "metadata": {
    "execution": {
     "iopub.execute_input": "2023-04-08T14:02:22.276419Z",
     "iopub.status.busy": "2023-04-08T14:02:22.275898Z",
     "iopub.status.idle": "2023-04-08T14:02:22.388082Z",
     "shell.execute_reply": "2023-04-08T14:02:22.386508Z",
     "shell.execute_reply.started": "2023-04-08T14:02:22.276367Z"
    },
    "papermill": {
     "duration": 0.096173,
     "end_time": "2023-04-03T06:19:28.169777",
     "exception": false,
     "start_time": "2023-04-03T06:19:28.073604",
     "status": "completed"
    },
    "tags": []
   },
   "outputs": [],
   "source": [
    "train = train.drop(['vin', 'seller'], axis=1)"
   ]
  },
  {
   "cell_type": "code",
   "execution_count": 14,
   "metadata": {
    "execution": {
     "iopub.execute_input": "2023-04-08T14:02:22.390339Z",
     "iopub.status.busy": "2023-04-08T14:02:22.389853Z",
     "iopub.status.idle": "2023-04-08T14:02:22.420787Z",
     "shell.execute_reply": "2023-04-08T14:02:22.419296Z",
     "shell.execute_reply.started": "2023-04-08T14:02:22.390289Z"
    },
    "papermill": {
     "duration": 0.041654,
     "end_time": "2023-04-03T06:19:28.231626",
     "exception": false,
     "start_time": "2023-04-03T06:19:28.189972",
     "status": "completed"
    },
    "tags": []
   },
   "outputs": [],
   "source": [
    "test = test.drop(['vin', 'seller'], axis=1)"
   ]
  },
  {
   "cell_type": "markdown",
   "metadata": {
    "execution": {
     "iopub.execute_input": "2023-03-22T16:33:24.473901Z",
     "iopub.status.busy": "2023-03-22T16:33:24.473421Z",
     "iopub.status.idle": "2023-03-22T16:33:25.009915Z",
     "shell.execute_reply": "2023-03-22T16:33:25.008622Z",
     "shell.execute_reply.started": "2023-03-22T16:33:24.473860Z"
    },
    "papermill": {
     "duration": 0.020139,
     "end_time": "2023-04-03T06:19:28.272112",
     "exception": false,
     "start_time": "2023-04-03T06:19:28.251973",
     "status": "completed"
    },
    "tags": []
   },
   "source": [
    "### Исправляем названия столбцов в датафреймах."
   ]
  },
  {
   "cell_type": "code",
   "execution_count": 15,
   "metadata": {
    "execution": {
     "iopub.execute_input": "2023-04-08T14:02:22.424161Z",
     "iopub.status.busy": "2023-04-08T14:02:22.423646Z",
     "iopub.status.idle": "2023-04-08T14:02:22.528386Z",
     "shell.execute_reply": "2023-04-08T14:02:22.527356Z",
     "shell.execute_reply.started": "2023-04-08T14:02:22.424109Z"
    },
    "papermill": {
     "duration": 0.110963,
     "end_time": "2023-04-03T06:19:28.406715",
     "exception": false,
     "start_time": "2023-04-03T06:19:28.295752",
     "status": "completed"
    },
    "tags": []
   },
   "outputs": [],
   "source": [
    "train = train.rename(columns={'year':'production_year', 'make':'manufacturer', \n",
    "                              'transmission':'gearbox_type', 'odometer':'mileage', 'color':'body_color', \n",
    "                              'interior':'interior_color', 'sellingprice':'selling_price', \n",
    "                              'saledate':'sale_date'})\n",
    "test = test.rename(columns={'year':'production_year', 'make':'manufacturer',  \n",
    "                            'transmission':'gearbox_type', 'odometer':'mileage', 'color':'body_color', \n",
    "                            'interior':'interior_color', 'sellingprice':'selling_price',\n",
    "                            'saledate':'sale_date'})"
   ]
  },
  {
   "cell_type": "markdown",
   "metadata": {
    "papermill": {
     "duration": 0.019782,
     "end_time": "2023-04-03T06:19:28.446759",
     "exception": false,
     "start_time": "2023-04-03T06:19:28.426977",
     "status": "completed"
    },
    "tags": []
   },
   "source": [
    "### Удаление пропусков."
   ]
  },
  {
   "cell_type": "markdown",
   "metadata": {
    "papermill": {
     "duration": 0.020707,
     "end_time": "2023-04-03T06:19:28.487967",
     "exception": false,
     "start_time": "2023-04-03T06:19:28.467260",
     "status": "completed"
    },
    "tags": []
   },
   "source": [
    "#### Выводим количество пропущенных значений для каждого столбца."
   ]
  },
  {
   "cell_type": "code",
   "execution_count": 16,
   "metadata": {
    "execution": {
     "iopub.execute_input": "2023-04-08T14:02:22.531230Z",
     "iopub.status.busy": "2023-04-08T14:02:22.529895Z",
     "iopub.status.idle": "2023-04-08T14:02:22.738068Z",
     "shell.execute_reply": "2023-04-08T14:02:22.736737Z",
     "shell.execute_reply.started": "2023-04-08T14:02:22.531178Z"
    },
    "papermill": {
     "duration": 0.161988,
     "end_time": "2023-04-03T06:19:28.670028",
     "exception": false,
     "start_time": "2023-04-03T06:19:28.508040",
     "status": "completed"
    },
    "tags": []
   },
   "outputs": [
    {
     "data": {
      "text/plain": [
       "production_year        0\n",
       "manufacturer        8043\n",
       "model               8123\n",
       "trim                8337\n",
       "body               10393\n",
       "gearbox_type       51461\n",
       "state                  0\n",
       "condition           9405\n",
       "mileage               69\n",
       "body_color           586\n",
       "interior_color       586\n",
       "selling_price          0\n",
       "sale_date              0\n",
       "dtype: int64"
      ]
     },
     "execution_count": 16,
     "metadata": {},
     "output_type": "execute_result"
    }
   ],
   "source": [
    "train.isna().sum()"
   ]
  },
  {
   "cell_type": "code",
   "execution_count": 17,
   "metadata": {
    "execution": {
     "iopub.execute_input": "2023-04-08T14:02:22.743017Z",
     "iopub.status.busy": "2023-04-08T14:02:22.741660Z",
     "iopub.status.idle": "2023-04-08T14:02:22.804074Z",
     "shell.execute_reply": "2023-04-08T14:02:22.802352Z",
     "shell.execute_reply.started": "2023-04-08T14:02:22.742966Z"
    },
    "papermill": {
     "duration": 0.065099,
     "end_time": "2023-04-03T06:19:28.755238",
     "exception": false,
     "start_time": "2023-04-03T06:19:28.690139",
     "status": "completed"
    },
    "tags": []
   },
   "outputs": [
    {
     "data": {
      "text/plain": [
       "production_year        0\n",
       "manufacturer        2061\n",
       "model               2079\n",
       "trim                2114\n",
       "body                2594\n",
       "gearbox_type       13012\n",
       "state                  0\n",
       "condition           2379\n",
       "mileage               19\n",
       "body_color           158\n",
       "interior_color       158\n",
       "sale_date              0\n",
       "dtype: int64"
      ]
     },
     "execution_count": 17,
     "metadata": {},
     "output_type": "execute_result"
    }
   ],
   "source": [
    "test.isna().sum()"
   ]
  },
  {
   "cell_type": "markdown",
   "metadata": {
    "papermill": {
     "duration": 0.020559,
     "end_time": "2023-04-03T06:19:28.795825",
     "exception": false,
     "start_time": "2023-04-03T06:19:28.775266",
     "status": "completed"
    },
    "tags": []
   },
   "source": [
    "#### Заполняем пропуски в столбцах 'condition' и 'mileage' при помощи KNNImputer."
   ]
  },
  {
   "cell_type": "code",
   "execution_count": null,
   "metadata": {
    "execution": {
     "iopub.execute_input": "2023-04-08T14:02:22.807366Z",
     "iopub.status.busy": "2023-04-08T14:02:22.806323Z",
     "iopub.status.idle": "2023-04-08T14:04:10.440051Z",
     "shell.execute_reply": "2023-04-08T14:04:10.435009Z",
     "shell.execute_reply.started": "2023-04-08T14:02:22.807313Z"
    },
    "papermill": {
     "duration": 0.040121,
     "end_time": "2023-04-03T06:19:28.855785",
     "exception": false,
     "start_time": "2023-04-03T06:19:28.815664",
     "status": "completed"
    },
    "tags": []
   },
   "outputs": [],
   "source": [
    "imputer = KNNImputer(n_neighbors=5)\n",
    "cols_to_impute = ['condition', 'mileage']\n",
    "train[cols_to_impute] = imputer.fit_transform(train[cols_to_impute])\n",
    "test[cols_to_impute] = imputer.fit_transform(test[cols_to_impute])"
   ]
  },
  {
   "cell_type": "markdown",
   "metadata": {},
   "source": [
    "#### Логарифмируем значения столбца 'mileage' для обеспечения более эффективного машинного обучения в дальнейшем."
   ]
  },
  {
   "cell_type": "code",
   "execution_count": null,
   "metadata": {
    "execution": {
     "iopub.status.busy": "2023-04-08T14:04:10.441110Z",
     "iopub.status.idle": "2023-04-08T14:04:10.442027Z",
     "shell.execute_reply": "2023-04-08T14:04:10.441831Z",
     "shell.execute_reply.started": "2023-04-08T14:04:10.441804Z"
    }
   },
   "outputs": [],
   "source": [
    "train['mileage'] = np.log(train.mileage + 1)\n",
    "test['mileage'] = np.log(test.mileage + 1)\n",
    "\n",
    "train['selling_price'] = np.log(train.selling_price + 1)"
   ]
  },
  {
   "cell_type": "markdown",
   "metadata": {
    "papermill": {
     "duration": 0.020189,
     "end_time": "2023-04-03T06:19:28.896639",
     "exception": false,
     "start_time": "2023-04-03T06:19:28.876450",
     "status": "completed"
    },
    "tags": []
   },
   "source": [
    "#### Заполняем пропуски в столбце 'gearbox_type' наиболчее часто встречающимся заначением, а пропуски в других столбцах с категориальными переменными - значением 'unknown'."
   ]
  },
  {
   "cell_type": "code",
   "execution_count": null,
   "metadata": {
    "execution": {
     "iopub.status.busy": "2023-04-08T14:04:10.443010Z",
     "iopub.status.idle": "2023-04-08T14:04:10.444345Z",
     "shell.execute_reply": "2023-04-08T14:04:10.444140Z",
     "shell.execute_reply.started": "2023-04-08T14:04:10.444115Z"
    },
    "papermill": {
     "duration": 0.218269,
     "end_time": "2023-04-03T06:19:29.135124",
     "exception": false,
     "start_time": "2023-04-03T06:19:28.916855",
     "status": "completed"
    },
    "tags": []
   },
   "outputs": [],
   "source": [
    "train['manufacturer'] = train['manufacturer'].fillna('unknown')\n",
    "train['trim'] = train['trim'].fillna('unknown')\n",
    "train['body'] = train['body'].fillna('unknown')\n",
    "train['gearbox_type'] = train['gearbox_type'].fillna('automatic')\n",
    "train['body_color'] = train['body_color'].fillna('unknown')\n",
    "train['interior_color'] = train['interior_color'].fillna('unknown')\n",
    "train['model'] = train['model'].fillna('unknown')\n",
    "\n",
    "test['manufacturer'] = test['manufacturer'].fillna('unknown')\n",
    "test['trim'] = test['trim'].fillna('unknown')\n",
    "test['body'] = test['body'].fillna('unknown')\n",
    "test['gearbox_type'] = test['gearbox_type'].fillna('automatic')\n",
    "test['body_color'] = test['body_color'].fillna('unknown')\n",
    "test['interior_color'] = test['interior_color'].fillna('unknown')\n",
    "test['model'] = test['model'].fillna('unknown')"
   ]
  },
  {
   "cell_type": "markdown",
   "metadata": {
    "papermill": {
     "duration": 0.019912,
     "end_time": "2023-04-03T06:19:29.176106",
     "exception": false,
     "start_time": "2023-04-03T06:19:29.156194",
     "status": "completed"
    },
    "tags": []
   },
   "source": [
    "#### Удостоверяемся, что пропуски в данных устранены."
   ]
  },
  {
   "cell_type": "code",
   "execution_count": null,
   "metadata": {
    "execution": {
     "iopub.status.busy": "2023-04-08T14:04:10.445578Z",
     "iopub.status.idle": "2023-04-08T14:04:10.445993Z",
     "shell.execute_reply": "2023-04-08T14:04:10.445806Z",
     "shell.execute_reply.started": "2023-04-08T14:04:10.445784Z"
    },
    "papermill": {
     "duration": 0.162063,
     "end_time": "2023-04-03T06:19:29.358235",
     "exception": false,
     "start_time": "2023-04-03T06:19:29.196172",
     "status": "completed"
    },
    "tags": []
   },
   "outputs": [],
   "source": [
    "train.isna().sum()"
   ]
  },
  {
   "cell_type": "code",
   "execution_count": null,
   "metadata": {
    "execution": {
     "iopub.status.busy": "2023-04-08T14:04:10.447438Z",
     "iopub.status.idle": "2023-04-08T14:04:10.447880Z",
     "shell.execute_reply": "2023-04-08T14:04:10.447695Z",
     "shell.execute_reply.started": "2023-04-08T14:04:10.447674Z"
    },
    "papermill": {
     "duration": 0.065806,
     "end_time": "2023-04-03T06:19:29.445501",
     "exception": false,
     "start_time": "2023-04-03T06:19:29.379695",
     "status": "completed"
    },
    "tags": []
   },
   "outputs": [],
   "source": [
    "test.isna().sum()"
   ]
  },
  {
   "cell_type": "markdown",
   "metadata": {
    "papermill": {
     "duration": 0.020473,
     "end_time": "2023-04-03T06:19:29.486622",
     "exception": false,
     "start_time": "2023-04-03T06:19:29.466149",
     "status": "completed"
    },
    "tags": []
   },
   "source": [
    "### Удаление дубликатов."
   ]
  },
  {
   "cell_type": "markdown",
   "metadata": {
    "papermill": {
     "duration": 0.020089,
     "end_time": "2023-04-03T06:19:29.528232",
     "exception": false,
     "start_time": "2023-04-03T06:19:29.508143",
     "status": "completed"
    },
    "tags": []
   },
   "source": [
    "#### Удаление неявных дубликатов в столбце manufacturer."
   ]
  },
  {
   "cell_type": "code",
   "execution_count": null,
   "metadata": {
    "execution": {
     "iopub.status.busy": "2023-04-08T14:04:10.449918Z",
     "iopub.status.idle": "2023-04-08T14:04:10.450347Z",
     "shell.execute_reply": "2023-04-08T14:04:10.450155Z",
     "shell.execute_reply.started": "2023-04-08T14:04:10.450135Z"
    },
    "papermill": {
     "duration": 0.157059,
     "end_time": "2023-04-03T06:19:29.705640",
     "exception": false,
     "start_time": "2023-04-03T06:19:29.548581",
     "status": "completed"
    },
    "tags": []
   },
   "outputs": [],
   "source": [
    "train['manufacturer'] = train['manufacturer'].str.lower()\n",
    "test['manufacturer'] = test['manufacturer'].str.lower()\n",
    "#приводим значения столбца к нижнему регистру в целях удаления части неявных дубликатов"
   ]
  },
  {
   "cell_type": "code",
   "execution_count": null,
   "metadata": {
    "execution": {
     "iopub.status.busy": "2023-04-08T14:04:10.452687Z",
     "iopub.status.idle": "2023-04-08T14:04:10.453183Z",
     "shell.execute_reply": "2023-04-08T14:04:10.452981Z",
     "shell.execute_reply.started": "2023-04-08T14:04:10.452905Z"
    },
    "papermill": {
     "duration": 0.062592,
     "end_time": "2023-04-03T06:19:29.788948",
     "exception": false,
     "start_time": "2023-04-03T06:19:29.726356",
     "status": "completed"
    },
    "tags": []
   },
   "outputs": [],
   "source": [
    "train['manufacturer'].unique()\n",
    "#выявляем оставшиеся неявные дубликаты"
   ]
  },
  {
   "cell_type": "code",
   "execution_count": null,
   "metadata": {
    "execution": {
     "iopub.status.busy": "2023-04-08T14:04:10.454910Z",
     "iopub.status.idle": "2023-04-08T14:04:10.455345Z",
     "shell.execute_reply": "2023-04-08T14:04:10.455169Z",
     "shell.execute_reply.started": "2023-04-08T14:04:10.455147Z"
    },
    "papermill": {
     "duration": 0.037882,
     "end_time": "2023-04-03T06:19:29.847402",
     "exception": false,
     "start_time": "2023-04-03T06:19:29.809520",
     "status": "completed"
    },
    "tags": []
   },
   "outputs": [],
   "source": [
    "test['manufacturer'].unique()\n",
    "#выявляем оставшиеся неявные дубликаты"
   ]
  },
  {
   "cell_type": "code",
   "execution_count": null,
   "metadata": {
    "execution": {
     "iopub.status.busy": "2023-04-08T14:04:10.457304Z",
     "iopub.status.idle": "2023-04-08T14:04:10.457719Z",
     "shell.execute_reply": "2023-04-08T14:04:10.457544Z",
     "shell.execute_reply.started": "2023-04-08T14:04:10.457523Z"
    },
    "papermill": {
     "duration": 2.04699,
     "end_time": "2023-04-03T06:19:31.915222",
     "exception": false,
     "start_time": "2023-04-03T06:19:29.868232",
     "status": "completed"
    },
    "tags": []
   },
   "outputs": [],
   "source": [
    "train = train.replace('ford truck', 'ford')\n",
    "train = train.replace(['mercedes', 'mercedes-b'], 'mercedes-benz')\n",
    "train = train.replace('gmc truck', 'gmc')\n",
    "train = train.replace('mazda tk', 'mazda')\n",
    "train = train.replace(['dodge tk', 'ram'], 'dodge')\n",
    "train = train.replace('vw', 'volkswagen')\n",
    "train = train.replace('landrover', 'land rover')\n",
    "\n",
    "test = test.replace('chev truck', 'chevrolet')\n",
    "test = test.replace('mercedes', 'mercedes-benz')\n",
    "test = test.replace('ram', 'dodge')\n",
    "test = test.replace('ford tk', 'ford')\n",
    "test = test.replace('hyundai tk', 'hyundai')\n",
    "test = test.replace('vw', 'volkswagen')\n",
    "test = test.replace('landrover', 'land rover')\n",
    "\n",
    "#удаляем оставшиеся неявные дубликаты в обоих датасетах\n"
   ]
  },
  {
   "cell_type": "code",
   "execution_count": null,
   "metadata": {
    "execution": {
     "iopub.status.busy": "2023-04-08T14:04:10.458931Z",
     "iopub.status.idle": "2023-04-08T14:04:10.459930Z",
     "shell.execute_reply": "2023-04-08T14:04:10.459695Z",
     "shell.execute_reply.started": "2023-04-08T14:04:10.459664Z"
    },
    "papermill": {
     "duration": 0.429225,
     "end_time": "2023-04-03T06:19:32.366353",
     "exception": false,
     "start_time": "2023-04-03T06:19:31.937128",
     "status": "completed"
    },
    "tags": []
   },
   "outputs": [],
   "source": [
    "train = train.query('manufacturer != \"dot\"')\n",
    "train = train.query('manufacturer != \"lamborghini\"')\n",
    "train = train.query('manufacturer != \"airstream\"')\n",
    "#удаляем из обучающего набора данных три строки со значениями столбца manufacturer, которые отсутствуют\n",
    "#в тестовом наборе данных и, соответственно, не способствуют эффективному обучению модели."
   ]
  },
  {
   "cell_type": "markdown",
   "metadata": {
    "papermill": {
     "duration": 0.040232,
     "end_time": "2023-04-03T06:19:32.450463",
     "exception": false,
     "start_time": "2023-04-03T06:19:32.410231",
     "status": "completed"
    },
    "tags": []
   },
   "source": [
    "#### Удаление неявных дубликатов в столбце model"
   ]
  },
  {
   "cell_type": "code",
   "execution_count": null,
   "metadata": {
    "execution": {
     "iopub.status.busy": "2023-04-08T14:04:10.461543Z",
     "iopub.status.idle": "2023-04-08T14:04:10.461949Z",
     "shell.execute_reply": "2023-04-08T14:04:10.461773Z",
     "shell.execute_reply.started": "2023-04-08T14:04:10.461752Z"
    },
    "papermill": {
     "duration": 0.474517,
     "end_time": "2023-04-03T06:19:32.957268",
     "exception": false,
     "start_time": "2023-04-03T06:19:32.482751",
     "status": "completed"
    },
    "tags": []
   },
   "outputs": [],
   "source": [
    "train['model'] = train['model'].str.lower()\n",
    "test['model'] = test['model'].str.lower()\n",
    "train['trim'] = train['trim'].str.lower()\n",
    "test['trim'] = test['trim'].str.lower()\n",
    "#приводим значения столбца к нижнему регистру в целях удаления части неявных дубликатов"
   ]
  },
  {
   "cell_type": "code",
   "execution_count": null,
   "metadata": {
    "execution": {
     "iopub.status.busy": "2023-04-08T14:04:10.463136Z",
     "iopub.status.idle": "2023-04-08T14:04:10.463578Z",
     "shell.execute_reply": "2023-04-08T14:04:10.463351Z",
     "shell.execute_reply.started": "2023-04-08T14:04:10.463331Z"
    },
    "papermill": {
     "duration": 0.066658,
     "end_time": "2023-04-03T06:19:33.045130",
     "exception": false,
     "start_time": "2023-04-03T06:19:32.978472",
     "status": "completed"
    },
    "tags": []
   },
   "outputs": [],
   "source": [
    "train['model'].unique()"
   ]
  },
  {
   "cell_type": "code",
   "execution_count": null,
   "metadata": {
    "execution": {
     "iopub.status.busy": "2023-04-08T14:04:10.465667Z",
     "iopub.status.idle": "2023-04-08T14:04:10.466383Z",
     "shell.execute_reply": "2023-04-08T14:04:10.466056Z",
     "shell.execute_reply.started": "2023-04-08T14:04:10.466019Z"
    },
    "papermill": {
     "duration": 0.042438,
     "end_time": "2023-04-03T06:19:33.108813",
     "exception": false,
     "start_time": "2023-04-03T06:19:33.066375",
     "status": "completed"
    },
    "tags": []
   },
   "outputs": [],
   "source": [
    "test['model'].unique()"
   ]
  },
  {
   "cell_type": "code",
   "execution_count": null,
   "metadata": {
    "execution": {
     "iopub.status.busy": "2023-04-08T14:04:10.470264Z",
     "iopub.status.idle": "2023-04-08T14:04:10.470943Z",
     "shell.execute_reply": "2023-04-08T14:04:10.470646Z",
     "shell.execute_reply.started": "2023-04-08T14:04:10.470613Z"
    },
    "papermill": {
     "duration": 33.353499,
     "end_time": "2023-04-03T06:20:06.484814",
     "exception": false,
     "start_time": "2023-04-03T06:19:33.131315",
     "status": "completed"
    },
    "tags": []
   },
   "outputs": [],
   "source": [
    "train = train.replace({'model':{'uplandr':'uplander'}})\n",
    "train = train.replace({'model':{'b-series pickup':'b-series', 'b-series truck':'b-series'}})\n",
    "train = train.replace({'model':{'town and country':'town&country', 'twn&country':'town&country', 'twn/cntry':'town&country'}})\n",
    "train = train.replace({'model':{'g convertible':'g'}})\n",
    "train = train.replace({'model':{'f150':'f-150'}})\n",
    "train = train.replace({'model':{'g coupe':'g'}})\n",
    "train = train.replace({'model':{'g sedan':'g'}})\n",
    "train = train.replace({'model':{'e-series van':'e-series', 'e-series wagon':'e-series'}})\n",
    "train = train.replace({'model':{'pathfind':'pathfinder'}})\n",
    "train = train.replace({'model':{'tsx sport wagon':'tsx sport'}})\n",
    "train = train.replace({'model':{'elantra coupe':'elantra'}})\n",
    "train = train.replace({'model':{'genesis coupe':'genesis'}})\n",
    "train = train.replace({'model':{'expeditn':'expedition'}})\n",
    "train = train.replace({'model':{'beetle convertible':'beetle'}})\n",
    "train = train.replace({'model':{'q60 coupe':'q60'}})\n",
    "train = train.replace({'model':{'promaster cargo van':'promaster cargo'}})\n",
    "train = train.replace({'model':{'cts coupe':'cts'}})\n",
    "train = train.replace({'model':{'cts-v coupe':'cts-v'}})\n",
    "train = train.replace({'model':{'cts wagon':'cts'}})\n",
    "train = train.replace({'model':{'g37 convertible':'g37'}})\n",
    "train = train.replace({'model':{'transit van':'transit'}})\n",
    "train = train.replace({'model':{'rangerover':'range rover', 'range':'range rover', 'rr':'range rover'}})\n",
    "train = train.replace({'model':{'granturismo convertible':'granturismo'}})\n",
    "train = train.replace({'model':{'mountnr':'mountaineer'}})\n",
    "train = train.replace({'model':{'cts-v wagon':'cts-v'}})\n",
    "train = train.replace({'model':{'q60 convertible':'q60'}})\n",
    "train = train.replace({'model':{'g37 coupe':'g37'}})\n",
    "train = train.replace({'model':{'350':'f-350'}})\n",
    "train.loc[(train['model'] == \"1500\") & (train['manufacturer'] == \"chevrolet\"), 'model'] = 'silverado 1500'\n",
    "train.loc[(train['model'] == \"2500\") & (train['manufacturer'] == \"chevrolet\"), 'model'] = 'silverado 2500'\n",
    "train.loc[(train['model'] == \"3500\") & (train['manufacturer'] == \"chevrolet\"), 'model'] = 'silverado 3500'\n",
    "train.loc[(train['model'] == \"1500\") & (train['manufacturer'] == \"gmc\"), 'model'] = 'sierra 1500'\n",
    "train = train.replace({'model':{'sr':'sierra 1500'}})\n",
    "train.loc[(train['model'] == \"grand\") & (train['manufacturer'] == \"dodge\"), 'model'] = 'grand caravan'\n",
    "train.loc[(train['model'] == \"gr\") & (train['manufacturer'] == \"jeep\"), 'model'] = 'grand cherokee'\n",
    "train.loc[(train['model'] == \"gr\") & (train['manufacturer'] == \"dodge\"), 'model'] = 'grand caravan'\n",
    "train.loc[(train['model'] == \"grand\") & (train['manufacturer'] == \"jeep\"), 'model'] = 'grand cherokee'\n",
    "train.loc[(train['model'] == \"grand\") & (train['manufacturer'] == \"mercury\"), 'model'] = 'grand marquis'\n",
    "train = train.replace({'model':{'santa':'santa fe'}})\n",
    "train.loc[(train['model'] == \"town\") & (train['manufacturer'] == \"chrysler\"), 'model'] = 'town&country'\n",
    "train.loc[(train['model'] == \"1\") & (train['manufacturer'] == \"bmw\"), 'model'] = '1 series'\n",
    "train.loc[(train['model'] == \"town\") & (train['manufacturer'] == \"lincoln\"), 'model'] = 'town car'\n",
    "train.loc[(train['model'] == \"b1500\") & (train['manufacturer'] == \"dodge\"), 'model'] = 'ram1500'\n",
    "train = train.replace({'model':{'excurs':'excursion'}})\n",
    "\n",
    "train.loc[(train['model'] == \"g3500\") & (train['manufacturer'] == \"chevrolet\"), 'model'] = 'express'\n",
    "train.loc[(train['model'] == \"g1500\") & (train['manufacturer'] == \"chevrolet\"), 'model'] = 'express'\n",
    "test.loc[(test['model'] == \"g3500\") & (test['manufacturer'] == \"chevrolet\"), 'model'] = 'express'\n",
    "test.loc[(test['model'] == \"g1500\") & (test['manufacturer'] == \"chevrolet\"), 'model'] = 'express'\n",
    "\n",
    "train = train.replace({'model':{'300e':'e300'}})\n",
    "train = train.replace({'model':{'crown':'crown victoria'}})\n",
    "train.loc[(train['model'] == \"grand\") & (train['manufacturer'] == \"suzuki\"), 'model'] = 'grand vitara'\n",
    "train = train.replace({'model':{'pt':'pt cruiser'}})\n",
    "train.loc[(train['model'] == \"grand\") & (train['manufacturer'] == \"pontiac\") \n",
    "          & (train['trim'] == \"am se1\"), 'model'] = 'grand am'\n",
    "train.loc[(train['model'] == \"grand\") & (train['manufacturer'] == \"pontiac\") \n",
    "          & (train['trim'] == \"am se\"), 'model'] = 'grand am'\n",
    "train.loc[(train['model'] == \"grand\") & (train['manufacturer'] == \"pontiac\") \n",
    "          & (train['trim'] == \"prix se\"), 'model'] = 'grand prix'\n",
    "train.loc[(train['model'] == \"grand\") & (train['manufacturer'] == \"chrysler\"), 'model'] = 'grand voyager'\n",
    "train.loc[(train['model'] == \"grand\") & (train['manufacturer'] == \"plymouth\"), 'model'] = 'grand voyager'\n",
    "train.loc[(train['model'] == \"dodge\") & (train['trim'] != \"3500 sport\"), 'model'] = 'ram1500'\n",
    "train.loc[(train['model'] == \"dodge\") & (train['trim'] == \"3500 sport\"), 'model'] = 'ram3500'\n",
    "train.loc[(train['model'] == \"legacy\") & (train['trim'] != \"outback limited\"), 'model'] = 'outback'\n",
    "train.loc[(train['model'] == \"legacy\") & (train['trim'] != \"outback\"), 'model'] = 'outback'\n",
    "train = train.replace({'model':{'42c':'fortwo'}})\n",
    "train = train.replace({'model':{'comm':'express'}})\n",
    "train = train.replace({'model':{'f250':'f-250'}})\n",
    "train = train.replace({'model':{'750lxi':'750li'}})\n",
    "train = train.replace({'model':{'expedit':'expedition'}})\n",
    "train = train.replace({'model':{'pickup':'hilux'}})\n",
    "train = train.replace({'model':{'siera':'sierra 2500'}})\n",
    "train = train.replace({'model':{'capt':'captiva'}})\n",
    "train = train.replace({'model':{'rrs':'range rover sport'}})\n",
    "train = train.replace({'model':{'7':'7 series'}})\n",
    "train.loc[(train['model'] == \"grand\") & (train['manufacturer'] == \"pontiac\") \n",
    "          & (train['trim'] == \"am se\"), 'model'] = 'grand am'\n",
    "\n",
    "test = test.replace({'model':{'town and country':'town&country', 'twn&country':'town&country'}})\n",
    "test = test.replace({'model':{'b-series pickup':'b-series', 'b-series truck':'b-series'}})\n",
    "test = test.replace({'model':{'g convertible':'g'}})\n",
    "test = test.replace({'model':{'g coupe':'g'}})\n",
    "test = test.replace({'model':{'g sedan':'g'}})\n",
    "test = test.replace({'model':{'f150':'f-150'}})\n",
    "test = test.replace({'model':{'f250':'f-250'}})\n",
    "test = test.replace({'model':{'f350':'f-350'}})\n",
    "test = test.replace({'model':{'e-series van':'e-series', 'e-series wagon':'e-series'}})\n",
    "test = test.replace({'model':{'pathfind':'pathfinder'}})\n",
    "test = test.replace({'model':{'tsx sport wagon':'tsx sport'}})\n",
    "test = test.replace({'model':{'elantra coupe':'elantra'}})\n",
    "test = test.replace({'model':{'genesis coupe':'genesis'}})\n",
    "test = test.replace({'model':{'expeditn':'expedition'}})\n",
    "test = test.replace({'model':{'beetle convertible':'beetle'}})\n",
    "test = test.replace({'model':{'q60 coupe':'q60'}})\n",
    "test = test.replace({'model':{'promaster cargo van':'promaster cargo'}})\n",
    "test = test.replace({'model':{'cts coupe':'cts'}})\n",
    "test = test.replace({'model':{'cts-v coupe':'cts-v'}})\n",
    "test = test.replace({'model':{'cts wagon':'cts'}})\n",
    "test = test.replace({'model':{'g37 convertible':'g37'}})\n",
    "test = test.replace({'model':{'transit van':'transit'}})\n",
    "test = test.replace({'model':{'rangerover':'range rover', 'range':'range rover'}})\n",
    "test = test.replace({'model':{'granturismo convertible':'granturismo'}})\n",
    "test = test.replace({'model':{'q60 convertible':'q60'}})\n",
    "test = test.replace({'model':{'g37 coupe':'g37'}})\n",
    "test = test.replace({'model':{'gram3500':'ram3500'}})\n",
    "test.loc[(test['model'] == \"1500\") & (test['manufacturer'] == \"chevrolet\"), 'model'] = 'silverado 1500'\n",
    "test.loc[(test['model'] == \"1500\") & (test['manufacturer'] == \"gmc\"), 'model'] = 'sierra 1500'\n",
    "test.loc[(test['model'] == \"grand\") & (test['manufacturer'] == \"dodge\"), 'model'] = 'grand caravan'\n",
    "test.loc[(test['model'] == \"gr\") & (test['manufacturer'] == \"jeep\"), 'model'] = 'grand cherokee'\n",
    "test.loc[(test['model'] == \"gr\") & (test['manufacturer'] == \"dodge\"), 'model'] = 'grand caravan'\n",
    "test.loc[(test['model'] == \"grand\") & (test['manufacturer'] == \"jeep\"), 'model'] = 'grand cherokee'\n",
    "test.loc[(test['model'] == \"grand\") & (test['manufacturer'] == \"mercury\"), 'model'] = 'grand marquis'\n",
    "test = test.replace({'model':{'santa':'santa fe'}})\n",
    "test.loc[(test['model'] == \"town\") & (test['manufacturer'] == \"chrysler\"), 'model'] = 'town&country'\n",
    "test.loc[(test['model'] == \"grand\") & (test['manufacturer'] == \"pontiac\"), 'model'] = 'grand prix'\n",
    "test.loc[(test['model'] == \"2500\") & (test['manufacturer'] == \"chevrolet\"), 'model'] = 'silverado 2500'\n",
    "test.loc[(test['model'] == \"1\") & (test['manufacturer'] == \"bmw\"), 'model'] = '1 series'\n",
    "test = test.replace({'model':{'350':'f-350'}})\n",
    "test.loc[(test['model'] == \"town\") & (test['manufacturer'] == \"lincoln\"), 'model'] = 'town car'\n",
    "\n",
    "test.loc[(test['model'] == \"b1500\") & (test['manufacturer'] == \"dodge\"), 'model'] = 'ram1500'\n",
    "\n",
    "test = test.replace({'model':{'300e':'e300'}})\n",
    "\n",
    "\n",
    "train.loc[(train['model'] == \"gl-class\") & (train['trim'] == \"gl450 4matic\"), 'model'] = 'gl450'\n",
    "train.loc[(train['model'] == \"gl-class\") & (train['trim'] == \"gl450\"), 'model'] = 'gl450'\n",
    "train.loc[(train['model'] == \"gl-class\") & (train['trim'] == \"gl550\"), 'model'] = 'gl550'\n",
    "train.loc[(train['model'] == \"gl-class\") & (train['trim'] == \"gl320 cdi\"), 'model'] = 'gl320'\n",
    "train.loc[(train['model'] == \"gl-class\") & (train['trim'] == \"gl550 4matic\"), 'model'] = 'gl550'\n",
    "train.loc[(train['model'] == \"gl-class\") & (train['trim'] == \"gl350 bluetec\"), 'model'] = 'gl350'\n",
    "train.loc[(train['model'] == \"gl-class\") & (train['trim'] == \"gl320 bluetec\"), 'model'] = 'gl320'\n",
    "train.loc[(train['model'] == \"gl-class\") & (train['trim'] == \"gl350 bluetec 4matic\"), 'model'] = 'gl350'\n",
    "test.loc[(test['model'] == \"gl-class\") & (test['trim'] == \"gl450 4matic\"), 'model'] = 'gl450'\n",
    "test.loc[(test['model'] == \"gl-class\") & (test['trim'] == \"gl450\"), 'model'] = 'gl450'\n",
    "test.loc[(test['model'] == \"gl-class\") & (test['trim'] == \"gl550\"), 'model'] = 'gl550'\n",
    "test.loc[(test['model'] == \"gl-class\") & (test['trim'] == \"gl320 cdi\"), 'model'] = 'gl320'\n",
    "test.loc[(test['model'] == \"gl-class\") & (test['trim'] == \"gl550 4matic\"), 'model'] = 'gl550'\n",
    "test.loc[(test['model'] == \"gl-class\") & (test['trim'] == \"gl350 bluetec\"), 'model'] = 'gl350'\n",
    "test.loc[(test['model'] == \"gl-class\") & (test['trim'] == \"gl320 bluetec\"), 'model'] = 'gl320'\n",
    "test.loc[(test['model'] == \"gl-class\") & (test['trim'] == \"gl350 bluetec 4matic\"), 'model'] = 'gl350'\n",
    "test.loc[(test['model'] == \"gl-class\") & (test['trim'] == \"gl63 amg\"), 'model'] = 'gl63g'\n",
    "\n",
    "train.loc[(train['model'] == \"3 series\") & (train['trim'] == \"328i\"), 'model'] = '328i'\n",
    "train.loc[(train['model'] == \"3 series\") & (train['trim'] == \"328i xdrive\"), 'model'] = '328i'\n",
    "train.loc[(train['model'] == \"3 series\") & (train['trim'] == \"335is\"), 'model'] = '335is'\n",
    "train.loc[(train['model'] == \"3 series\") & (train['trim'] == \"328xi\"), 'model'] = '328xi'\n",
    "train.loc[(train['model'] == \"3 series\") & (train['trim'] == \"330xi\"), 'model'] = '330xi'\n",
    "train.loc[(train['model'] == \"3 series\") & (train['trim'] == \"325i\"), 'model'] = '325i'\n",
    "train.loc[(train['model'] == \"3 series\") & (train['trim'] == \"320i\"), 'model'] = '320i'\n",
    "train.loc[(train['model'] == \"3 series\") & (train['trim'] == \"328i xdrive sulev\"), 'model'] = '328i'\n",
    "train.loc[(train['model'] == \"3 series\") & (train['trim'] == \"335i\"), 'model'] = '335i'\n",
    "train.loc[(train['model'] == \"3 series\") & (train['trim'] == \"328d xdrive\"), 'model'] = '328d'\n",
    "train.loc[(train['model'] == \"3 series\") & (train['trim'] == \"328i xdrive sulev\"), 'model'] = '328i'\n",
    "train.loc[(train['model'] == \"3 series\") & (train['trim'] == \"330i\"), 'model'] = '330i'\n",
    "train.loc[(train['model'] == \"3 series\") & (train['trim'] == \"323i\"), 'model'] = '323i'\n",
    "train.loc[(train['model'] == \"3 series\") & (train['trim'] == \"325ci\"), 'model'] = '325ci'\n",
    "train.loc[(train['model'] == \"3 series\") & (train['trim'] == \"335i xdrive\"), 'model'] = '335i'\n",
    "train.loc[(train['model'] == \"3 series\") & (train['trim'] == \"325xi\"), 'model'] = '325xi'\n",
    "train.loc[(train['model'] == \"3 series\") & (train['trim'] == \"323is\"), 'model'] = '323is'\n",
    "train.loc[(train['model'] == \"3 series\") & (train['trim'] == \"320i xdrive\"), 'model'] = '320i'\n",
    "train.loc[(train['model'] == \"3 series\") & (train['trim'] == \"323ci\"), 'model'] = '323ci'\n",
    "train.loc[(train['model'] == \"3 series\") & (train['trim'] == \"activehybrid 3\"), 'model'] = 'activehybrid 3'\n",
    "train.loc[(train['model'] == \"3 series\") & (train['trim'] == \"335d\"), 'model'] = '335d'\n",
    "train.loc[(train['model'] == \"3 series\") & (train['trim'] == \"335xi\"), 'model'] = '335xi'\n",
    "train.loc[(train['model'] == \"3 series\") & (train['trim'] == \"330ci\"), 'model'] = '330ci'\n",
    "train.loc[(train['model'] == \"3 series\") & (train['trim'] == \"328i sulev\"), 'model'] = '328i'\n",
    "train.loc[(train['model'] == \"3 series\") & (train['trim'] == \"318i\"), 'model'] = '318i'\n",
    "train.loc[(train['model'] == \"3 series\") & (train['trim'] == \"328d\"), 'model'] = '328d'\n",
    "train.loc[(train['model'] == \"3 series\") & (train['trim'] == \"318ti\"), 'model'] = '318ti'\n",
    "train.loc[(train['model'] == \"3 series\") & (train['trim'] == \"328ci\"), 'model'] = '328ci'\n",
    "train.loc[(train['model'] == \"3 series\") & (train['trim'] == \"328i sulev\"), 'model'] = '328i'\n",
    "train.loc[(train['model'] == \"3 series\") & (train['trim'] == \"318i\"), 'model'] = '318i'\n",
    "train.loc[(train['model'] == \"3 series\") & (train['trim'] == \"328is\"), 'model'] = '328is'\n",
    "train.loc[(train['model'] == \"3 series\") & (train['trim'] == \"325is\"), 'model'] = '325is'\n",
    "test.loc[(test['model'] == \"3 series\") & (test['trim'] == \"328i\"), 'model'] = '328i'\n",
    "test.loc[(test['model'] == \"3 series\") & (test['trim'] == \"328i xdrive\"), 'model'] = '328i'\n",
    "test.loc[(test['model'] == \"3 series\") & (test['trim'] == \"335is\"), 'model'] = '335is'\n",
    "test.loc[(test['model'] == \"3 series\") & (test['trim'] == \"328xi\"), 'model'] = '328xi'\n",
    "test.loc[(test['model'] == \"3 series\") & (test['trim'] == \"330xi\"), 'model'] = '330xi'\n",
    "test.loc[(test['model'] == \"3 series\") & (test['trim'] == \"325i\"), 'model'] = '325i'\n",
    "test.loc[(test['model'] == \"3 series\") & (test['trim'] == \"320i\"), 'model'] = '320i'\n",
    "test.loc[(test['model'] == \"3 series\") & (test['trim'] == \"328i xdrive sulev\"), 'model'] = '328i'\n",
    "test.loc[(test['model'] == \"3 series\") & (test['trim'] == \"335i\"), 'model'] = '335i'\n",
    "test.loc[(test['model'] == \"3 series\") & (test['trim'] == \"328d xdrive\"), 'model'] = '328d'\n",
    "test.loc[(test['model'] == \"3 series\") & (test['trim'] == \"328i xdrive sulev\"), 'model'] = '328i'\n",
    "test.loc[(test['model'] == \"3 series\") & (test['trim'] == \"330i\"), 'model'] = '330i'\n",
    "test.loc[(test['model'] == \"3 series\") & (test['trim'] == \"323i\"), 'model'] = '323i'\n",
    "test.loc[(test['model'] == \"3 series\") & (test['trim'] == \"325ci\"), 'model'] = '325ci'\n",
    "test.loc[(test['model'] == \"3 series\") & (test['trim'] == \"335i xdrive\"), 'model'] = '335i'\n",
    "test.loc[(test['model'] == \"3 series\") & (test['trim'] == \"325xi\"), 'model'] = '325xi'\n",
    "test.loc[(test['model'] == \"3 series\") & (test['trim'] == \"323is\"), 'model'] = '323is'\n",
    "test.loc[(test['model'] == \"3 series\") & (test['trim'] == \"320i xdrive\"), 'model'] = '320i'\n",
    "test.loc[(test['model'] == \"3 series\") & (test['trim'] == \"323ci\"), 'model'] = '323ci'\n",
    "test.loc[(test['model'] == \"3 series\") & (test['trim'] == \"activehybrid 3\"), 'model'] = 'activehybrid 3'\n",
    "test.loc[(test['model'] == \"3 series\") & (test['trim'] == \"335d\"), 'model'] = '335d'\n",
    "test.loc[(test['model'] == \"3 series\") & (test['trim'] == \"335xi\"), 'model'] = '335xi'\n",
    "test.loc[(test['model'] == \"3 series\") & (test['trim'] == \"330ci\"), 'model'] = '330ci'\n",
    "test.loc[(test['model'] == \"3 series\") & (test['trim'] == \"328i sulev\"), 'model'] = '328i'\n",
    "test.loc[(test['model'] == \"3 series\") & (test['trim'] == \"318i\"), 'model'] = '318i'\n",
    "test.loc[(test['model'] == \"3 series\") & (test['trim'] == \"328d\"), 'model'] = '328d'\n",
    "test.loc[(test['model'] == \"3 series\") & (test['trim'] == \"318ti\"), 'model'] = '318ti'\n",
    "test.loc[(test['model'] == \"3 series\") & (test['trim'] == \"328ci\"), 'model'] = '328ci'\n",
    "test.loc[(test['model'] == \"3 series\") & (test['trim'] == \"328i sulev\"), 'model'] = '328i'\n",
    "test.loc[(test['model'] == \"3 series\") & (test['trim'] == \"318i\"), 'model'] = '318i'\n",
    "test.loc[(test['model'] == \"3 series\") & (test['trim'] == \"328is\"), 'model'] = '328is'\n",
    "test.loc[(test['model'] == \"3 series\") & (test['trim'] == \"325is\"), 'model'] = '325is'\n",
    "test.loc[(test['model'] == \"3 series\") & (test['trim'] == \"323it\"), 'model'] = '323it'\n",
    "\n",
    "train.loc[(train['model'] == \"e-class\") & (train['trim'] == \"e350 sport 4matic\"), 'model'] = 'e350'\n",
    "train.loc[(train['model'] == \"e-class\") & (train['trim'] == \"e350 sport\"), 'model'] = 'e350'\n",
    "train.loc[(train['model'] == \"e-class\") & (train['trim'] == \"e320\"), 'model'] = 'e320'\n",
    "train.loc[(train['model'] == \"e-class\") & (train['trim'] == \"e350 4matic\"), 'model'] = 'e350'\n",
    "train.loc[(train['model'] == \"e-class\") & (train['trim'] == \"e350\"), 'model'] = 'e350'\n",
    "train.loc[(train['model'] == \"e-class\") & (train['trim'] == \"e350 bluetec\"), 'model'] = 'e350'\n",
    "train.loc[(train['model'] == \"e-class\") & (train['trim'] == \"e63 amg\"), 'model'] = 'e63'\n",
    "train.loc[(train['model'] == \"e-class\") & (train['trim'] == \"e350 luxury 4matic\"), 'model'] = 'e350'\n",
    "train.loc[(train['model'] == \"e-class\") & (train['trim'] == \"e320 4matic\"), 'model'] = 'e320'\n",
    "train.loc[(train['model'] == \"e-class\") & (train['trim'] == \"e350 luxury\"), 'model'] = 'e350'\n",
    "train.loc[(train['model'] == \"e-class\") & (train['trim'] == \"e500\"), 'model'] = 'e500'\n",
    "train.loc[(train['model'] == \"e-class\") & (train['trim'] == \"e430\"), 'model'] = 'e430'\n",
    "train.loc[(train['model'] == \"e-class\") & (train['trim'] == \"e500 4matic\"), 'model'] = 'e500'\n",
    "train.loc[(train['model'] == \"e-class\") & (train['trim'] == \"e550\"), 'model'] = 'e550'\n",
    "train.loc[(train['model'] == \"e-class\") & (train['trim'] == \"e320 bluetec\"), 'model'] = 'e320'\n",
    "train.loc[(train['model'] == \"e-class\") & (train['trim'] == \"e550 4matic\"), 'model'] = 'e550'\n",
    "train.loc[(train['model'] == \"e-class\") & (train['trim'] == \"e430 4matic\"), 'model'] = 'e430'\n",
    "train.loc[(train['model'] == \"e-class\") & (train['trim'] == \"e350 sport bluetec\"), 'model'] = 'e350'\n",
    "train.loc[(train['model'] == \"e-class\") & (train['trim'] == \"e320 cdi\"), 'model'] = 'e320'\n",
    "train.loc[(train['model'] == \"e-class\") & (train['trim'] == \"e250 sport bluetec\"), 'model'] = 'e250'\n",
    "train.loc[(train['model'] == \"e-class\") & (train['trim'] == \"e55 amg\"), 'model'] = 'e55'\n",
    "train.loc[(train['model'] == \"e-class\") & (train['trim'] == \"e63 amg 4matic\"), 'model'] = 'e63'\n",
    "train.loc[(train['model'] == \"e-class\") & (train['trim'] == \"e550 sport 4matic\"), 'model'] = 'e550'\n",
    "train.loc[(train['model'] == \"e-class\") & (train['trim'] == \"e400 hybrid\"), 'model'] = 'e400'\n",
    "train.loc[(train['model'] == \"e-class\") & (train['trim'] == \"e250 luxury bluetec 4matic\"), 'model'] = 'e250'\n",
    "train.loc[(train['model'] == \"e-class\") & (train['trim'] == \"e420\"), 'model'] = 'e420'\n",
    "train.loc[(train['model'] == \"e-class\") & (train['trim'] == \"e300d\"), 'model'] = 'e300d'\n",
    "train.loc[(train['model'] == \"e-class\") & (train['trim'] == \"e400 sport hybrid\"), 'model'] = 'e400'\n",
    "test.loc[(test['model'] == \"e-class\") & (test['trim'] == \"e350 sport 4matic\"), 'model'] = 'e350'\n",
    "test.loc[(test['model'] == \"e-class\") & (test['trim'] == \"e350 sport\"), 'model'] = 'e350'\n",
    "test.loc[(test['model'] == \"e-class\") & (test['trim'] == \"e320\"), 'model'] = 'e320'\n",
    "test.loc[(test['model'] == \"e-class\") & (test['trim'] == \"e350 4matic\"), 'model'] = 'e350'\n",
    "test.loc[(test['model'] == \"e-class\") & (test['trim'] == \"e350\"), 'model'] = 'e350'\n",
    "test.loc[(test['model'] == \"e-class\") & (test['trim'] == \"e350 bluetec\"), 'model'] = 'e350'\n",
    "test.loc[(test['model'] == \"e-class\") & (test['trim'] == \"e63 amg\"), 'model'] = 'e63'\n",
    "test.loc[(test['model'] == \"e-class\") & (test['trim'] == \"e350 luxury 4matic\"), 'model'] = 'e350'\n",
    "test.loc[(test['model'] == \"e-class\") & (test['trim'] == \"e320 4matic\"), 'model'] = 'e320'\n",
    "test.loc[(test['model'] == \"e-class\") & (test['trim'] == \"e350 luxury\"), 'model'] = 'e350'\n",
    "test.loc[(test['model'] == \"e-class\") & (test['trim'] == \"e500\"), 'model'] = 'e500'\n",
    "test.loc[(test['model'] == \"e-class\") & (test['trim'] == \"e430\"), 'model'] = 'e430'\n",
    "test.loc[(test['model'] == \"e-class\") & (test['trim'] == \"e500 4matic\"), 'model'] = 'e500'\n",
    "test.loc[(test['model'] == \"e-class\") & (test['trim'] == \"e550\"), 'model'] = 'e550'\n",
    "test.loc[(test['model'] == \"e-class\") & (test['trim'] == \"e320 bluetec\"), 'model'] = 'e320'\n",
    "test.loc[(test['model'] == \"e-class\") & (test['trim'] == \"e550 4matic\"), 'model'] = 'e550'\n",
    "test.loc[(test['model'] == \"e-class\") & (test['trim'] == \"e430 4matic\"), 'model'] = 'e430'\n",
    "test.loc[(test['model'] == \"e-class\") & (test['trim'] == \"e350 sport bluetec\"), 'model'] = 'e350'\n",
    "test.loc[(test['model'] == \"e-class\") & (test['trim'] == \"e320 cdi\"), 'model'] = 'e320'\n",
    "test.loc[(test['model'] == \"e-class\") & (test['trim'] == \"e250 sport bluetec\"), 'model'] = 'e250'\n",
    "test.loc[(test['model'] == \"e-class\") & (test['trim'] == \"e55 amg\"), 'model'] = 'e55'\n",
    "test.loc[(test['model'] == \"e-class\") & (test['trim'] == \"e63 amg 4matic\"), 'model'] = 'e63'\n",
    "test.loc[(test['model'] == \"e-class\") & (test['trim'] == \"e550 sport 4matic\"), 'model'] = 'e550'\n",
    "test.loc[(test['model'] == \"e-class\") & (test['trim'] == \"e400 hybrid\"), 'model'] = 'e400'\n",
    "test.loc[(test['model'] == \"e-class\") & (test['trim'] == \"e250 luxury bluetec 4matic\"), 'model'] = 'e250'\n",
    "test.loc[(test['model'] == \"e-class\") & (test['trim'] == \"e420\"), 'model'] = 'e420'\n",
    "test.loc[(test['model'] == \"e-class\") & (test['trim'] == \"e300d\"), 'model'] = 'e300d'\n",
    "test.loc[(test['model'] == \"e-class\") & (test['trim'] == \"e400 sport hybrid\"), 'model'] = 'e400'\n",
    "test.loc[(test['model'] == \"e-class\") & (test['trim'] == \"e63 amg 4matic s-model\"), 'model'] = 'e63'\n",
    "test.loc[(test['model'] == \"e350\") & (test['manufacturer'] == \"ford\"), 'model'] = 'e-350'\n",
    "train.loc[(train['model'] == \"e350\") & (train['manufacturer'] == \"ford\"), 'model'] = 'e-350'\n",
    "test.loc[(test['model'] == \"e150\") & (test['manufacturer'] == \"ford\"), 'model'] = 'e-150'\n",
    "train.loc[(train['model'] == \"e150\") & (train['manufacturer'] == \"ford\"), 'model'] = 'e-150'\n",
    "test.loc[(test['model'] == \"e250\") & (test['manufacturer'] == \"ford\"), 'model'] = 'e-250'\n",
    "train.loc[(train['model'] == \"e250\") & (train['manufacturer'] == \"ford\"), 'model'] = 'e-250'\n",
    "\n",
    "train.loc[(train['model'] == \"5 series\") & (train['trim'] == \"535i xdrive\"), 'model'] = '535i'\n",
    "train.loc[(train['model'] == \"5 series\") & (train['trim'] == \"528i xdrive\"), 'model'] = '528i'\n",
    "train.loc[(train['model'] == \"5 series\") & (train['trim'] == \"530i\"), 'model'] = '530i'\n",
    "train.loc[(train['model'] == \"5 series\") & (train['trim'] == \"550i\"), 'model'] = '550i'\n",
    "train.loc[(train['model'] == \"5 series\") & (train['trim'] == \"545i\"), 'model'] = '545i'\n",
    "train.loc[(train['model'] == \"5 series\") & (train['trim'] == \"528i\"), 'model'] = '528i'\n",
    "train.loc[(train['model'] == \"5 series\") & (train['trim'] == \"525i\"), 'model'] = '525i'\n",
    "train.loc[(train['model'] == \"5 series\") & (train['trim'] == \"535d\"), 'model'] = '535d'\n",
    "train.loc[(train['model'] == \"5 series\") & (train['trim'] == \"535i\"), 'model'] = '535i'\n",
    "train.loc[(train['model'] == \"5 series\") & (train['trim'] == \"535xi\"), 'model'] = '535xi'\n",
    "train.loc[(train['model'] == \"5 series\") & (train['trim'] == \"550i xdrive\"), 'model'] = '550i'\n",
    "train.loc[(train['model'] == \"5 series\") & (train['trim'] == \"525xi\"), 'model'] = '525xi'\n",
    "train.loc[(train['model'] == \"5 series\") & (train['trim'] == \"540i\"), 'model'] = '540i'\n",
    "train.loc[(train['model'] == \"5 series\") & (train['trim'] == \"530x\"), 'model'] = '530x'\n",
    "train.loc[(train['model'] == \"5 series\") & (train['trim'] == \"528xi\"), 'model'] = '528xi'\n",
    "train.loc[(train['model'] == \"5 series\") & (train['trim'] == \"530xi\"), 'model'] = '530xi'\n",
    "train.loc[(train['model'] == \"5 series\") & (train['trim'] == \"535d xdrive\"), 'model'] = '535d'\n",
    "train.loc[(train['model'] == \"5 series\") & (train['trim'] == \"activehybrid 5\"), 'model'] = 'activehybrid 5'\n",
    "test.loc[(test['model'] == \"5 series\") & (test['trim'] == \"535i xdrive\"), 'model'] = '535i'\n",
    "test.loc[(test['model'] == \"5 series\") & (test['trim'] == \"528i xdrive\"), 'model'] = '528i'\n",
    "test.loc[(test['model'] == \"5 series\") & (test['trim'] == \"530i\"), 'model'] = '530i'\n",
    "test.loc[(test['model'] == \"5 series\") & (test['trim'] == \"550i\"), 'model'] = '550i'\n",
    "test.loc[(test['model'] == \"5 series\") & (test['trim'] == \"545i\"), 'model'] = '545i'\n",
    "test.loc[(test['model'] == \"5 series\") & (test['trim'] == \"528i\"), 'model'] = '528i'\n",
    "test.loc[(test['model'] == \"5 series\") & (test['trim'] == \"525i\"), 'model'] = '525i'\n",
    "test.loc[(test['model'] == \"5 series\") & (test['trim'] == \"535d\"), 'model'] = '535d'\n",
    "test.loc[(test['model'] == \"5 series\") & (test['trim'] == \"535i\"), 'model'] = '535i'\n",
    "test.loc[(test['model'] == \"5 series\") & (test['trim'] == \"535xi\"), 'model'] = '535xi'\n",
    "test.loc[(test['model'] == \"5 series\") & (test['trim'] == \"550i xdrive\"), 'model'] = '550i'\n",
    "test.loc[(test['model'] == \"5 series\") & (test['trim'] == \"525xi\"), 'model'] = '525xi'\n",
    "test.loc[(test['model'] == \"5 series\") & (test['trim'] == \"540i\"), 'model'] = '540i'\n",
    "test.loc[(test['model'] == \"5 series\") & (test['trim'] == \"530x\"), 'model'] = '530x'\n",
    "test.loc[(test['model'] == \"5 series\") & (test['trim'] == \"528xi\"), 'model'] = '528xi'\n",
    "test.loc[(test['model'] == \"5 series\") & (test['trim'] == \"530xi\"), 'model'] = '530xi'\n",
    "test.loc[(test['model'] == \"5 series\") & (test['trim'] == \"535d xdrive\"), 'model'] = '535d'\n",
    "test.loc[(test['model'] == \"5 series\") & (test['trim'] == \"activehybrid 5\"), 'model'] = 'activehybrid 5'\n",
    "\n",
    "train.loc[(train['model'] == \"sl-class\") & (train['trim'] == \"sl550\"), 'model'] = 'sl550'\n",
    "train.loc[(train['model'] == \"sl-class\") & (train['trim'] == \"sl55 amg\"), 'model'] = 'sl55'\n",
    "train.loc[(train['model'] == \"sl-class\") & (train['trim'] == \"sl500\"), 'model'] = 'sl500'\n",
    "train.loc[(train['model'] == \"sl-class\") & (train['trim'] == \"sl63 amg\"), 'model'] = 'sl63'\n",
    "train.loc[(train['model'] == \"sl-class\") & (train['trim'] == \"sl320\"), 'model'] = 'sl320'\n",
    "train.loc[(train['model'] == \"sl-class\") & (train['trim'] == \"sl600\"), 'model'] = 'sl600'\n",
    "train.loc[(train['model'] == \"sl-class\") & (train['trim'] == \"sl65 amg\"), 'model'] = 'sl65'\n",
    "test.loc[(test['model'] == \"sl-class\") & (test['trim'] == \"sl550\"), 'model'] = 'sl550'\n",
    "test.loc[(test['model'] == \"sl-class\") & (test['trim'] == \"sl55 amg\"), 'model'] = 'sl55'\n",
    "test.loc[(test['model'] == \"sl-class\") & (test['trim'] == \"sl500\"), 'model'] = 'sl500'\n",
    "test.loc[(test['model'] == \"sl-class\") & (test['trim'] == \"sl63 amg\"), 'model'] = 'sl63'\n",
    "test.loc[(test['model'] == \"sl-class\") & (test['trim'] == \"sl320\"), 'model'] = 'sl320'\n",
    "test.loc[(test['model'] == \"sl-class\") & (test['trim'] == \"sl600\"), 'model'] = 'sl600'\n",
    "test.loc[(test['model'] == \"sl-class\") & (test['trim'] == \"sl65 amg\"), 'model'] = 'sl65'\n",
    "test.loc[(test['model'] == \"sl-class\") & (test['trim'] == \"sl500\"), 'model'] = 'sl500'\n",
    "test.loc[(test['model'] == \"sl-class\") & (test['trim'] == \"sl550\"), 'model'] = 'sl550'\n",
    "test.loc[(test['model'] == \"sl-class\") & (test['trim'] == \"sl65 amg\"), 'model'] = 'sl65'\n",
    "\n",
    "train.loc[(train['model'] == \"e-series\") & (train['trim'] == \"e-250\"), 'model'] = 'e-250'\n",
    "train.loc[(train['model'] == \"e-series\") & (train['trim'] == \"e-150\"), 'model'] = 'e-150'\n",
    "train.loc[(train['model'] == \"e-series\") & (train['trim'] == \"e-350 super duty xl\"), 'model'] = 'e-350'\n",
    "train.loc[(train['model'] == \"e-series\") & (train['trim'] == \"e-350 super duty xlt\"), 'model'] = 'e-350'\n",
    "train.loc[(train['model'] == \"e-series\") & (train['trim'] == \"e-150 xlt\"), 'model'] = 'e-150'\n",
    "train.loc[(train['model'] == \"e-series\") & (train['trim'] == \"e-350 super duty\"), 'model'] = 'e-350'\n",
    "train.loc[(train['model'] == \"e-series\") & (train['trim'] == \"e-150 xl\"), 'model'] = 'e-150'\n",
    "train.loc[(train['model'] == \"e-series\") & (train['trim'] == \"e-250\"), 'model'] = 'e-250'\n",
    "train.loc[(train['model'] == \"e-series\") & (train['trim'] == \"e-150\"), 'model'] = 'e-150'\n",
    "test.loc[(test['model'] == \"e-series\") & (test['trim'] == \"e-250\"), 'model'] = 'e-250'\n",
    "test.loc[(test['model'] == \"e-series\") & (test['trim'] == \"e-150\"), 'model'] = 'e-150'\n",
    "test.loc[(test['model'] == \"e-series\") & (test['trim'] == \"e-350 super duty xl\"), 'model'] = 'e-350'\n",
    "test.loc[(test['model'] == \"e-series\") & (test['trim'] == \"e-350 super duty xlt\"), 'model'] = 'e-350'\n",
    "test.loc[(test['model'] == \"e-series\") & (test['trim'] == \"e-150 xlt\"), 'model'] = 'e-150'\n",
    "test.loc[(test['model'] == \"e-series\") & (test['trim'] == \"e-350 super duty\"), 'model'] = 'e-350'\n",
    "test.loc[(test['model'] == \"e-series\") & (test['trim'] == \"e-150 xl\"), 'model'] = 'e-150'\n",
    "test.loc[(test['model'] == \"e-series\") & (test['trim'] == \"e-250\"), 'model'] = 'e-250'\n",
    "test.loc[(test['model'] == \"e-series\") & (test['trim'] == \"e-150\"), 'model'] = 'e-150'\n",
    "\n",
    "\n",
    "train.loc[(train['model'] == \"e\") & (train['trim'] == \"wagon v8 xlt\"), 'model'] = 'wagon v8'\n",
    "test.loc[(test['model'] == \"e\") & (test['trim'] == \"wagon v8 xlt\"), 'model'] = 'wagon v8'\n",
    "\n",
    "\n",
    "train.loc[(train['model'] == \"1 series\") & (train['trim'] == \"135i\"), 'model'] = '135i'\n",
    "train.loc[(train['model'] == \"1 series\") & (train['trim'] == \"128i\"), 'model'] = '128i'\n",
    "train.loc[(train['model'] == \"1 series\") & (train['trim'] == \"128i sulev\"), 'model'] = '128i'\n",
    "train.loc[(train['model'] == \"1 series\") & (train['trim'] == \"135is\"), 'model'] = '135is'\n",
    "test.loc[(test['model'] == \"1 series\") & (test['trim'] == \"135i\"), 'model'] = '135i'\n",
    "test.loc[(test['model'] == \"1 series\") & (test['trim'] == \"128i\"), 'model'] = '128i'\n",
    "test.loc[(test['model'] == \"1 series\") & (test['trim'] == \"128i sulev\"), 'model'] = '128i'\n",
    "test.loc[(test['model'] == \"1 series\") & (test['trim'] == \"135is\"), 'model'] = '135is'\n",
    "test.loc[(test['model'] == \"1 series\") & (test['trim'] == \"series m\"), 'model'] = 'm'\n",
    "\n",
    "train = train.replace({'model':{'ram pickup 1500':'ram1500', '1500':'ram1500', 'ram van':'ram1500'}})\n",
    "test = test.replace({'model':{'ram pickup 1500':'ram1500', '1500':'ram1500'}})\n",
    "\n",
    "train = train.replace({'model':{'2500':'ram2500', 'ram pickup 2500':'ram2500'}})\n",
    "test = test.replace({'model':{'2500':'ram2500', 'ram pickup 2500':'ram2500'}})\n",
    "\n",
    "train = train.replace({'model':{'ram pickup 3500':'ram3500', '3500':'ram3500'}})\n",
    "test = test.replace({'model':{'ram pickup 3500':'ram3500', '3500':'ram3500'}})\n",
    "\n",
    "train.loc[(train['model'] == \"5 series gran turismo\") & (train['trim'] == \"550i xdrive\"), 'model'] = '550i'\n",
    "train.loc[(train['model'] == \"5 series gran turismo\") & (train['trim'] == \"535i xdrive\"), 'model'] = '535i'\n",
    "train.loc[(train['model'] == \"5 series gran turismo\") & (train['trim'] == \"535i\"), 'model'] = '535i'\n",
    "train.loc[(train['model'] == \"5 series gran turismo\") & (train['trim'] == \"550i\"), 'model'] = '550i'\n",
    "test.loc[(test['model'] == \"5 series gran turismo\") & (test['trim'] == \"550i xdrive\"), 'model'] = '550i'\n",
    "test.loc[(test['model'] == \"5 series gran turismo\") & (test['trim'] == \"535i xdrive\"), 'model'] = '535i'\n",
    "test.loc[(test['model'] == \"5 series gran turismo\") & (test['trim'] == \"535i\"), 'model'] = '535i'\n",
    "test.loc[(test['model'] == \"5 series gran turismo\") & (test['trim'] == \"550i\"), 'model'] = '550i'\n",
    "\n",
    "train = train.replace({'model':{'f-250 super duty':'f-250'}})\n",
    "test = test.replace({'model':{'f-250 super duty':'f-250'}})\n",
    "\n",
    "train = train.replace({'model':{'f-350 super duty':'f-350'}})\n",
    "test = test.replace({'model':{'f-350 super duty':'f-350'}})\n",
    "\n",
    "train = train.replace({'model':{'f-450 super duty':'f-450'}})\n",
    "test = test.replace({'model':{'f-450 super duty':'f-450'}})\n",
    "\n",
    "train.loc[(train['model'] == \"xj-series\") & (train['trim'] == \"vanden plas\"), 'model'] = 'vanden plas'\n",
    "train.loc[(train['model'] == \"xj-series\") & (train['trim'] == \"xj8\"), 'model'] = 'xj8'\n",
    "train.loc[(train['model'] == \"xj-series\") & (train['trim'] == \"xj8 l\"), 'model'] = 'xj8'\n",
    "train.loc[(train['model'] == \"xj-series\") & (train['trim'] == \"xjr\"), 'model'] = 'xjr'\n",
    "train.loc[(train['model'] == \"xj-series\") & (train['trim'] == \"xj8l\"), 'model'] = 'xj8'\n",
    "train.loc[(train['model'] == \"xj-series\") & (train['trim'] == \"xj6\"), 'model'] = 'xj6'\n",
    "train.loc[(train['model'] == \"xj-series\") & (train['trim'] == \"xj6 vanden plas\"), 'model'] = 'xj6 vanden plas'\n",
    "test.loc[(test['model'] == \"xj-series\") & (test['trim'] == \"vanden plas\"), 'model'] = 'vanden plas'\n",
    "test.loc[(test['model'] == \"xj-series\") & (test['trim'] == \"xj8\"), 'model'] = 'xj8'\n",
    "test.loc[(test['model'] == \"xj-series\") & (test['trim'] == \"xj8 l\"), 'model'] = 'xj8'\n",
    "test.loc[(test['model'] == \"xj-series\") & (test['trim'] == \"xjr\"), 'model'] = 'xjr'\n",
    "test.loc[(test['model'] == \"xj-series\") & (test['trim'] == \"xj8l\"), 'model'] = 'xj8'\n",
    "test.loc[(test['model'] == \"xj-series\") & (test['trim'] == \"xj6\"), 'model'] = 'xj6'\n",
    "test.loc[(test['model'] == \"xj-series\") & (test['trim'] == \"xj6 vanden plas\"), 'model'] = 'xj6 vanden plas'\n",
    "test.loc[(test['model'] == \"xj-series\") & (test['trim'] == \"xj6 sovereign\"), 'model'] = 'xj6 sovereign'\n",
    "test.loc[(test['model'] == \"xj-series\") & (test['trim'] == \"xj6l\"), 'model'] = 'xj6'\n",
    "\n",
    "train.loc[(train['model'] == \"r-class\") & (train['trim'] == \"r350\"), 'model'] = 'r350'\n",
    "train.loc[(train['model'] == \"r-class\") & (train['trim'] == \"r350 4matic\"), 'model'] = 'r350'\n",
    "train.loc[(train['model'] == \"r-class\") & (train['trim'] == \"r350 bluetec\"), 'model'] = 'r350'\n",
    "train.loc[(train['model'] == \"r-class\") & (train['trim'] == \"r500\"), 'model'] = 'r500'\n",
    "train.loc[(train['model'] == \"r-class\") & (train['trim'] == \"r320 cdi\"), 'model'] = 'r320'\n",
    "train.loc[(train['model'] == \"r-class\") & (train['trim'] == \"r320 bluetec\"), 'model'] = 'r320'\n",
    "test.loc[(test['model'] == \"r-class\") & (test['trim'] == \"r350\"), 'model'] = 'r350'\n",
    "test.loc[(test['model'] == \"r-class\") & (test['trim'] == \"r350 4matic\"), 'model'] = 'r350'\n",
    "test.loc[(test['model'] == \"r-class\") & (test['trim'] == \"r350 bluetec\"), 'model'] = 'r350'\n",
    "test.loc[(test['model'] == \"r-class\") & (test['trim'] == \"r500\"), 'model'] = 'r500'\n",
    "test.loc[(test['model'] == \"r-class\") & (test['trim'] == \"r320 cdi\"), 'model'] = 'r320'\n",
    "test.loc[(test['model'] == \"r-class\") & (test['trim'] == \"r320 bluetec\"), 'model'] = 'r320'\n",
    "\n",
    "train.loc[(train['model'] == \"express\") & (train['trim'] == \"ls 3500\"), 'model'] = 'express 3500'\n",
    "train.loc[(train['model'] == \"express\") & (train['trim'] == \"ls 2500\"), 'model'] = 'express 2500'\n",
    "train.loc[(train['model'] == \"express\") & (train['trim'] == \"1500\"), 'model'] = 'express 1500'\n",
    "train.loc[(train['model'] == \"express\") & (train['trim'] == \"3500\"), 'model'] = 'express 3500'\n",
    "train.loc[(train['model'] == \"express\") & (train['trim'] == \"cargo 4x2\"), 'model'] = 'express cargo'\n",
    "train.loc[(train['model'] == \"express\") & (train['trim'] == \"cutaway\"), 'model'] = 'express cutaway'\n",
    "train.loc[(train['model'] == \"express\") & (train['trim'] == \"cargo 4x2 upfitter\"), 'model'] = 'express cargo'\n",
    "train.loc[(train['model'] == \"express\") & (train['trim'] == \"ls 1500\"), 'model'] = 'express 1500'\n",
    "train.loc[(train['model'] == \"express\") & (train['trim'] == \"lt 3500\"), 'model'] = 'express 3500'\n",
    "train.loc[(train['model'] == \"express\") & (train['trim'] == \"pass 4x2\"), 'model'] = 'express pass'\n",
    "test.loc[(test['model'] == \"express\") & (test['trim'] == \"ls 3500\"), 'model'] = 'express 3500'\n",
    "test.loc[(test['model'] == \"express\") & (test['trim'] == \"3500\"), 'model'] = 'express 3500'\n",
    "test.loc[(test['model'] == \"express\") & (test['trim'] == \"ls 2500\"), 'model'] = 'express 2500'\n",
    "test.loc[(test['model'] == \"express\") & (test['trim'] == \"ls 1500\"), 'model'] = 'express 1500'\n",
    "\n",
    "train.loc[(train['model'] == \"express cargo\") & (train['trim'] == \"2500\"), 'model'] = 'express cargo 2500'\n",
    "train.loc[(train['model'] == \"express cargo\") & (train['trim'] == \"1500\"), 'model'] = 'express cargo 1500'\n",
    "train.loc[(train['model'] == \"express cargo\") & (train['trim'] == \"3500\"), 'model'] = 'express cargo 3500'\n",
    "train.loc[(train['model'] == \"express cargo\") & (train['trim'] == \"g3500\"), 'model'] = 'express cargo 3500'\n",
    "train.loc[(train['model'] == \"express cargo\") & (train['trim'] == \"g1500\"), 'model'] = 'express cargo 1500'\n",
    "test.loc[(test['model'] == \"express cargo\") & (test['trim'] == \"2500\"), 'model'] = 'express cargo 2500'\n",
    "test.loc[(test['model'] == \"express cargo\") & (test['trim'] == \"1500\"), 'model'] = 'express cargo 1500'\n",
    "test.loc[(test['model'] == \"express cargo\") & (test['trim'] == \"3500\"), 'model'] = 'express cargo 3500'\n",
    "test.loc[(test['model'] == \"express cargo\") & (test['trim'] == \"g3500\"), 'model'] = 'express cargo 3500'\n",
    "test.loc[(test['model'] == \"express cargo\") & (test['trim'] == \"g1500\"), 'model'] = 'express cargo 1500'\n",
    "\n",
    "train.loc[(train['model'] == \"m-class\") & (train['trim'] == \"ml500\"), 'model'] = 'ml500'\n",
    "train.loc[(train['model'] == \"m-class\") & (train['trim'] == \"ml350 4matic\"), 'model'] = 'ml350'\n",
    "train.loc[(train['model'] == \"m-class\") & (train['trim'] == \"ml430\"), 'model'] = 'ml430'\n",
    "train.loc[(train['model'] == \"m-class\") & (train['trim'] == \"ml350 bluetec\"), 'model'] = 'ml350'\n",
    "train.loc[(train['model'] == \"m-class\") & (train['trim'] == \"ml350\"), 'model'] = 'ml350'\n",
    "train.loc[(train['model'] == \"m-class\") & (train['trim'] == \"ml320\"), 'model'] = 'ml320'\n",
    "train.loc[(train['model'] == \"m-class\") & (train['trim'] == \"ml320 cdi\"), 'model'] = 'ml320'\n",
    "train.loc[(train['model'] == \"m-class\") & (train['trim'] == \"ml550\"), 'model'] = 'ml550'\n",
    "train.loc[(train['model'] == \"m-class\") & (train['trim'] == \"ml320 bluetec\"), 'model'] = 'ml320'\n",
    "train.loc[(train['model'] == \"m-class\") & (train['trim'] == \"ml550 4matic\"), 'model'] = 'ml550'\n",
    "train.loc[(train['model'] == \"m-class\") & (train['trim'] == \"ml350 bluetec 4matic\"), 'model'] = 'ml350'\n",
    "train.loc[(train['model'] == \"m-class\") & (train['trim'] == \"ml63 amg\"), 'model'] = 'ml63'\n",
    "train.loc[(train['model'] == \"m-class\") & (train['trim'] == \"ml55 amg\"), 'model'] = 'ml55'\n",
    "test.loc[(test['model'] == \"m-class\") & (test['trim'] == \"ml500\"), 'model'] = 'ml500'\n",
    "test.loc[(test['model'] == \"m-class\") & (test['trim'] == \"ml350 4matic\"), 'model'] = 'ml350'\n",
    "test.loc[(test['model'] == \"m-class\") & (test['trim'] == \"ml430\"), 'model'] = 'ml430'\n",
    "test.loc[(test['model'] == \"m-class\") & (test['trim'] == \"ml350 bluetec\"), 'model'] = 'ml350'\n",
    "test.loc[(test['model'] == \"m-class\") & (test['trim'] == \"ml350\"), 'model'] = 'ml350'\n",
    "test.loc[(test['model'] == \"m-class\") & (test['trim'] == \"ml320\"), 'model'] = 'ml320'\n",
    "test.loc[(test['model'] == \"m-class\") & (test['trim'] == \"ml320 cdi\"), 'model'] = 'ml320'\n",
    "test.loc[(test['model'] == \"m-class\") & (test['trim'] == \"ml550\"), 'model'] = 'ml550'\n",
    "test.loc[(test['model'] == \"m-class\") & (test['trim'] == \"ml320 bluetec\"), 'model'] = 'ml320'\n",
    "test.loc[(test['model'] == \"m-class\") & (test['trim'] == \"ml550 4matic\"), 'model'] = 'ml550'\n",
    "test.loc[(test['model'] == \"m-class\") & (test['trim'] == \"ml350 bluetec 4matic\"), 'model'] = 'ml350'\n",
    "test.loc[(test['model'] == \"m-class\") & (test['trim'] == \"ml63 amg\"), 'model'] = 'ml63'\n",
    "test.loc[(test['model'] == \"m-class\") & (test['trim'] == \"ml55 amg\"), 'model'] = 'ml55'\n",
    "\n",
    "train.loc[(train['model'] == \"c-class\") & (train['trim'] == \"c300 luxury 4matic\"), 'model'] = 'c300'\n",
    "train.loc[(train['model'] == \"c-class\") & (train['trim'] == \"c300 luxury\"), 'model'] = 'c300'\n",
    "train.loc[(train['model'] == \"c-class\") & (train['trim'] == \"c240\"), 'model'] = 'c240'\n",
    "train.loc[(train['model'] == \"c-class\") & (train['trim'] == \"c250 sport\"), 'model'] = 'c250'\n",
    "train.loc[(train['model'] == \"c-class\") & (train['trim'] == \"c230 kompressor\"), 'model'] = 'c230 kompressor'\n",
    "train.loc[(train['model'] == \"c-class\") & (train['trim'] == \"c300 sport 4matic\"), 'model'] = 'c300'\n",
    "train.loc[(train['model'] == \"c-class\") & (train['trim'] == \"c300 sport\"), 'model'] = 'c300'\n",
    "train.loc[(train['model'] == \"c-class\") & (train['trim'] == \"c250\"), 'model'] = 'c250'\n",
    "train.loc[(train['model'] == \"c-class\") & (train['trim'] == \"c55 amg\"), 'model'] = 'c55'\n",
    "train.loc[(train['model'] == \"c-class\") & (train['trim'] == \"c350 sport\"), 'model'] = 'c350'\n",
    "train.loc[(train['model'] == \"c-class\") & (train['trim'] == \"c280\"), 'model'] = 'c280'\n",
    "train.loc[(train['model'] == \"c-class\") & (train['trim'] == \"c240 luxury\"), 'model'] = 'c240'\n",
    "train.loc[(train['model'] == \"c-class\") & (train['trim'] == \"c350\"), 'model'] = 'c350'\n",
    "train.loc[(train['model'] == \"c-class\") & (train['trim'] == \"c230 sport\"), 'model'] = 'c230 sport'\n",
    "train.loc[(train['model'] == \"c-class\") & (train['trim'] == \"c280 luxury 4matic\"), 'model'] = 'c280'\n",
    "train.loc[(train['model'] == \"c-class\") & (train['trim'] == \"c63 amg\"), 'model'] = 'c63'\n",
    "train.loc[(train['model'] == \"c-class\") & (train['trim'] == \"c230\"), 'model'] = 'c230'\n",
    "train.loc[(train['model'] == \"c-class\") & (train['trim'] == \"c350 luxury 4matic\"), 'model'] = 'c350'\n",
    "train.loc[(train['model'] == \"c-class\") & (train['trim'] == \"c320\"), 'model'] = 'c320'\n",
    "train.loc[(train['model'] == \"c-class\") & (train['trim'] == \"c240 4matic\"), 'model'] = 'c240'\n",
    "train.loc[(train['model'] == \"c-class\") & (train['trim'] == \"c280 luxury\"), 'model'] = 'c280'\n",
    "train.loc[(train['model'] == \"c-class\") & (train['trim'] == \"c350 4matic\"), 'model'] = 'c350'\n",
    "train.loc[(train['model'] == \"c-class\") & (train['trim'] == \"c320 sport\"), 'model'] = 'c320'\n",
    "train.loc[(train['model'] == \"c-class\") & (train['trim'] == \"c320 4matic\"), 'model'] = 'c320'\n",
    "train.loc[(train['model'] == \"c-class\") & (train['trim'] == \"c32 amg\"), 'model'] = 'c32'\n",
    "train.loc[(train['model'] == \"c-class\") & (train['trim'] == \"c300\"), 'model'] = 'c300'\n",
    "train.loc[(train['model'] == \"c-class\") & (train['trim'] == \"c240 luxury 4matic\"), 'model'] = 'c240'\n",
    "train.loc[(train['model'] == \"c-class\") & (train['trim'] == \"c320 luxury 4matic\"), 'model'] = 'c320'\n",
    "train.loc[(train['model'] == \"c-class\") & (train['trim'] == \"c220\"), 'model'] = 'c220'\n",
    "train.loc[(train['model'] == \"c-class\") & (train['trim'] == \"c300\"), 'model'] = 'c300'\n",
    "train.loc[(train['model'] == \"c-class\") & (train['trim'] == \"c350 luxury\"), 'model'] = 'c350'\n",
    "train.loc[(train['model'] == \"c-class\") & (train['trim'] == \"c400 sport 4matic\"), 'model'] = 'c400'\n",
    "test.loc[(test['model'] == \"c-class\") & (test['trim'] == \"c300 luxury 4matic\"), 'model'] = 'c300'\n",
    "test.loc[(test['model'] == \"c-class\") & (test['trim'] == \"c300 luxury\"), 'model'] = 'c300'\n",
    "test.loc[(test['model'] == \"c-class\") & (test['trim'] == \"c240\"), 'model'] = 'c240'\n",
    "test.loc[(test['model'] == \"c-class\") & (test['trim'] == \"c250 sport\"), 'model'] = 'c250'\n",
    "test.loc[(test['model'] == \"c-class\") & (test['trim'] == \"c230 kompressor\"), 'model'] = 'c230 kompressor'\n",
    "test.loc[(test['model'] == \"c-class\") & (test['trim'] == \"c300 sport 4matic\"), 'model'] = 'c300'\n",
    "test.loc[(test['model'] == \"c-class\") & (test['trim'] == \"c300 sport\"), 'model'] = 'c300'\n",
    "test.loc[(test['model'] == \"c-class\") & (test['trim'] == \"c250\"), 'model'] = 'c250'\n",
    "test.loc[(test['model'] == \"c-class\") & (test['trim'] == \"c55 amg\"), 'model'] = 'c55'\n",
    "test.loc[(test['model'] == \"c-class\") & (test['trim'] == \"c350 sport\"), 'model'] = 'c350'\n",
    "test.loc[(test['model'] == \"c-class\") & (test['trim'] == \"c280\"), 'model'] = 'c280'\n",
    "test.loc[(test['model'] == \"c-class\") & (test['trim'] == \"c240 luxury\"), 'model'] = 'c240'\n",
    "test.loc[(test['model'] == \"c-class\") & (test['trim'] == \"c350\"), 'model'] = 'c350'\n",
    "test.loc[(test['model'] == \"c-class\") & (test['trim'] == \"c230 sport\"), 'model'] = 'c230'\n",
    "test.loc[(test['model'] == \"c-class\") & (test['trim'] == \"c280 luxury 4matic\"), 'model'] = 'c280'\n",
    "test.loc[(test['model'] == \"c-class\") & (test['trim'] == \"c63 amg\"), 'model'] = 'c63'\n",
    "test.loc[(test['model'] == \"c-class\") & (test['trim'] == \"c230\"), 'model'] = 'c230'\n",
    "test.loc[(test['model'] == \"c-class\") & (test['trim'] == \"c350 luxury 4matic\"), 'model'] = 'c350'\n",
    "test.loc[(test['model'] == \"c-class\") & (test['trim'] == \"c320\"), 'model'] = 'c320'\n",
    "test.loc[(test['model'] == \"c-class\") & (test['trim'] == \"c240 4matic\"), 'model'] = 'c240'\n",
    "test.loc[(test['model'] == \"c-class\") & (test['trim'] == \"c280 luxury\"), 'model'] = 'c280'\n",
    "test.loc[(test['model'] == \"c-class\") & (test['trim'] == \"c350 4matic\"), 'model'] = 'c350'\n",
    "test.loc[(test['model'] == \"c-class\") & (test['trim'] == \"c320 sport\"), 'model'] = 'c320'\n",
    "test.loc[(test['model'] == \"c-class\") & (test['trim'] == \"c320 4matic\"), 'model'] = 'c320'\n",
    "test.loc[(test['model'] == \"c-class\") & (test['trim'] == \"c32 amg\"), 'model'] = 'c32'\n",
    "test.loc[(test['model'] == \"c-class\") & (test['trim'] == \"c300\"), 'model'] = 'c300'\n",
    "test.loc[(test['model'] == \"c-class\") & (test['trim'] == \"c240 luxury 4matic\"), 'model'] = 'c240'\n",
    "test.loc[(test['model'] == \"c-class\") & (test['trim'] == \"c320 luxury 4matic\"), 'model'] = 'c320'\n",
    "test.loc[(test['model'] == \"c-class\") & (test['trim'] == \"c220\"), 'model'] = 'c220'\n",
    "test.loc[(test['model'] == \"c-class\") & (test['trim'] == \"c300\"), 'model'] = 'c300'\n",
    "test.loc[(test['model'] == \"c-class\") & (test['trim'] == \"c350 luxury\"), 'model'] = 'c350'\n",
    "test.loc[(test['model'] == \"c-class\") & (test['trim'] == \"c400 sport 4matic\"), 'model'] = 'c400'\n",
    "\n",
    "train = train.replace({'model':{'silverado 3500 classic':'silverado 3500'}})\n",
    "test = test.replace({'model':{'silverado 3500 classic':'silverado 3500'}})\n",
    "\n",
    "train = train.replace({'model':{'silverado 1500 classic':'silverado 1500', 'silverado 1500hd':'silverado 1500'}})\n",
    "test = test.replace({'model':{'silverado 1500 classic':'silverado 1500', 'silverado 1500hd':'silverado 1500'}})\n",
    "\n",
    "train = train.replace({'model':{'sierra 2500':'sierra 2500hd'}})\n",
    "test = test.replace({'model':{'sierra 2500':'sierra 2500hd'}})\n",
    "\n",
    "train = train.replace({'model':{'sierra 1500hd':'sierra 1500', 'sierra 1500 classic':'sierra 1500'}})\n",
    "test = test.replace({'model':{'sierra 1500hd':'sierra 1500', 'sierra 1500 classic':'sierra 1500'}})\n",
    "\n",
    "train.loc[(train['model'] == \"slk-class\") & (train['trim'] == \"slk250\"), 'model'] = 'slk250'\n",
    "train.loc[(train['model'] == \"slk-class\") & (train['trim'] == \"slk350\"), 'model'] = 'slk350'\n",
    "train.loc[(train['model'] == \"slk-class\") & (train['trim'] == \"slk280\"), 'model'] = 'slk280'\n",
    "train.loc[(train['model'] == \"slk-class\") & (train['trim'] == \"slk230\"), 'model'] = 'slk230'\n",
    "train.loc[(train['model'] == \"slk-class\") & (train['trim'] == \"slk320\"), 'model'] = 'slk320'\n",
    "train.loc[(train['model'] == \"slk-class\") & (train['trim'] == \"slk300\"), 'model'] = 'slk300'\n",
    "train.loc[(train['model'] == \"slk-class\") & (train['trim'] == \"slk230 kompressor\"), 'model'] = 'slk230 kompressor'\n",
    "train.loc[(train['model'] == \"slk-class\") & (train['trim'] == \"slk55 amg\"), 'model'] = 'slk55'\n",
    "test.loc[(test['model'] == \"slk-class\") & (test['trim'] == \"slk250\"), 'model'] = 'slk250'\n",
    "test.loc[(test['model'] == \"slk-class\") & (test['trim'] == \"slk350\"), 'model'] = 'slk350'\n",
    "test.loc[(test['model'] == \"slk-class\") & (test['trim'] == \"slk280\"), 'model'] = 'slk280'\n",
    "test.loc[(test['model'] == \"slk-class\") & (test['trim'] == \"slk230\"), 'model'] = 'slk230'\n",
    "test.loc[(test['model'] == \"slk-class\") & (test['trim'] == \"slk320\"), 'model'] = 'slk320'\n",
    "test.loc[(test['model'] == \"slk-class\") & (test['trim'] == \"slk300\"), 'model'] = 'slk300'\n",
    "test.loc[(test['model'] == \"slk-class\") & (test['trim'] == \"slk230 kompressor\"), 'model'] = 'slk230 kompressor'\n",
    "test.loc[(test['model'] == \"slk-class\") & (test['trim'] == \"slk55 amg\"), 'model'] = 'slk55'\n",
    "\n",
    "train.loc[(train['model'] == \"6 series\") & (train['trim'] == \"650i\"), 'model'] = '650i'\n",
    "train.loc[(train['model'] == \"6 series\") & (train['trim'] == \"640i\"), 'model'] = '640i'\n",
    "train.loc[(train['model'] == \"6 series\") & (train['trim'] == \"650i xdrive\"), 'model'] = '650i'\n",
    "train.loc[(train['model'] == \"6 series\") & (train['trim'] == \"645ci\"), 'model'] = '645ci'\n",
    "test.loc[(test['model'] == \"6 series\") & (test['trim'] == \"650i\"), 'model'] = '650i'\n",
    "test.loc[(test['model'] == \"6 series\") & (test['trim'] == \"640i\"), 'model'] = '640i'\n",
    "test.loc[(test['model'] == \"6 series\") & (test['trim'] == \"650i xdrive\"), 'model'] = '650i'\n",
    "test.loc[(test['model'] == \"6 series\") & (test['trim'] == \"645ci\"), 'model'] = '645ci'\n",
    "\n",
    "train.loc[(train['model'] == \"cls-class\") & (train['trim'] == \"cls550\"), 'model'] = 'cls550'\n",
    "train.loc[(train['model'] == \"cls-class\") & (train['trim'] == \"cls63 amg\"), 'model'] = 'cls63'\n",
    "train.loc[(train['model'] == \"cls-class\") & (train['trim'] == \"cls550 4matic\"), 'model'] = 'cls550'\n",
    "train.loc[(train['model'] == \"cls-class\") & (train['trim'] == \"cls500\"), 'model'] = 'cls500'\n",
    "train.loc[(train['model'] == \"cls-class\") & (train['trim'] == \"cls55 amg\"), 'model'] = 'cls55'\n",
    "test.loc[(test['model'] == \"cls-class\") & (test['trim'] == \"cls550\"), 'model'] = 'cls550'\n",
    "test.loc[(test['model'] == \"cls-class\") & (test['trim'] == \"cls63 amg\"), 'model'] = 'cls63'\n",
    "test.loc[(test['model'] == \"cls-class\") & (test['trim'] == \"cls550 4matic\"), 'model'] = 'cls550'\n",
    "test.loc[(test['model'] == \"cls-class\") & (test['trim'] == \"cls500\"), 'model'] = 'cls500'\n",
    "test.loc[(test['model'] == \"cls-class\") & (test['trim'] == \"cls55 amg\"), 'model'] = 'cls55'\n",
    "test.loc[(test['model'] == \"cls-class\") & (test['trim'] == \"cls63 amg 4matic s-model\"), 'model'] = 'cls63'\n",
    "\n",
    "train.loc[(train['model'] == \"s-type\") & (train['trim'] == \"3.0\"), 'model'] = 's-type 3.0'\n",
    "train.loc[(train['model'] == \"s-type\") & (train['trim'] == \"4.2\"), 'model'] = 's-type 4.2'\n",
    "train.loc[(train['model'] == \"s-type\") & (train['trim'] == \"r\"), 'model'] = 's-type r'\n",
    "train.loc[(train['model'] == \"s-type\") & (train['trim'] == \"4.0\"), 'model'] = 's-type 4.0'\n",
    "test.loc[(test['model'] == \"s-type\") & (test['trim'] == \"3.0\"), 'model'] = 's-type 3.0'\n",
    "test.loc[(test['model'] == \"s-type\") & (test['trim'] == \"4.2\"), 'model'] = 's-type 4.2'\n",
    "test.loc[(test['model'] == \"s-type\") & (test['trim'] == \"r\"), 'model'] = 's-type r'\n",
    "test.loc[(test['model'] == \"s-type\") & (test['trim'] == \"4.0\"), 'model'] = 's-type 4.0'\n",
    "\n",
    "train.loc[(train['model'] == \"s-class\") & (train['trim'] == \"s550 4matic\"), 'model'] = 's550'\n",
    "train.loc[(train['model'] == \"s-class\") & (train['trim'] == \"s430\"), 'model'] = 's430'\n",
    "train.loc[(train['model'] == \"s-class\") & (train['trim'] == \"s550\"), 'model'] = 's550'\n",
    "train.loc[(train['model'] == \"s-class\") & (train['trim'] == \"s55 amg\"), 'model'] = 's55'\n",
    "train.loc[(train['model'] == \"s-class\") & (train['trim'] == \"s500\"), 'model'] = 's500'\n",
    "train.loc[(train['model'] == \"s-class\") & (train['trim'] == \"s350\"), 'model'] = 's350'\n",
    "train.loc[(train['model'] == \"s-class\") & (train['trim'] == \"s500 4matic\"), 'model'] = 's500'\n",
    "train.loc[(train['model'] == \"s-class\") & (train['trim'] == \"s600\"), 'model'] = 's600'\n",
    "train.loc[(train['model'] == \"s-class\") & (train['trim'] == \"s63 amg\"), 'model'] = 's63'\n",
    "train.loc[(train['model'] == \"s-class\") & (train['trim'] == \"s430 4matic\"), 'model'] = 's430'\n",
    "train.loc[(train['model'] == \"s-class\") & (train['trim'] == \"s350 bluetec 4matic\"), 'model'] = 's350'\n",
    "train.loc[(train['model'] == \"s-class\") & (train['trim'] == \"s400 hybrid\"), 'model'] = 's400'\n",
    "train.loc[(train['model'] == \"s-class\") & (train['trim'] == \"s320 swb\"), 'model'] = 's320'\n",
    "train.loc[(train['model'] == \"s-class\") & (train['trim'] == \"s420\"), 'model'] = 's420'\n",
    "train.loc[(train['model'] == \"s-class\") & (train['trim'] == \"s65 amg\"), 'model'] = 's65'\n",
    "\n",
    "test.loc[(test['model'] == \"s-class\") & (test['trim'] == \"s550 4matic\"), 'model'] = 's550'\n",
    "test.loc[(test['model'] == \"s-class\") & (test['trim'] == \"s430\"), 'model'] = 's430'\n",
    "test.loc[(test['model'] == \"s-class\") & (test['trim'] == \"s550\"), 'model'] = 's550'\n",
    "test.loc[(test['model'] == \"s-class\") & (test['trim'] == \"s55 amg\"), 'model'] = 's55'\n",
    "test.loc[(test['model'] == \"s-class\") & (test['trim'] == \"s500\"), 'model'] = 's500'\n",
    "test.loc[(test['model'] == \"s-class\") & (test['trim'] == \"s350\"), 'model'] = 's350'\n",
    "test.loc[(test['model'] == \"s-class\") & (test['trim'] == \"s500 4matic\"), 'model'] = 's500'\n",
    "test.loc[(test['model'] == \"s-class\") & (test['trim'] == \"s600\"), 'model'] = 's600'\n",
    "test.loc[(test['model'] == \"s-class\") & (test['trim'] == \"s63 amg\"), 'model'] = 's63'\n",
    "test.loc[(test['model'] == \"s-class\") & (test['trim'] == \"s430 4matic\"), 'model'] = 's430'\n",
    "test.loc[(test['model'] == \"s-class\") & (test['trim'] == \"s350 bluetec 4matic\"), 'model'] = 's350'\n",
    "test.loc[(test['model'] == \"s-class\") & (test['trim'] == \"s400 hybrid\"), 'model'] = 's400'\n",
    "test.loc[(test['model'] == \"s-class\") & (test['trim'] == \"s320 swb\"), 'model'] = 's320'\n",
    "test.loc[(test['model'] == \"s-class\") & (test['trim'] == \"s420\"), 'model'] = 's420'\n",
    "test.loc[(test['model'] == \"s-class\") & (test['trim'] == \"s65 amg\"), 'model'] = 's65'\n",
    "test.loc[(test['model'] == \"s-class\") & (test['trim'] == \"s63 amg 4matic\"), 'model'] = 's63'\n",
    "\n",
    "train.loc[(train['model'] == \"glk-class\") & (train['trim'] == \"glk350 4matic\"), 'model'] = 'glk350'\n",
    "train.loc[(train['model'] == \"glk-class\") & (train['trim'] == \"glk350\"), 'model'] = 'glk350'\n",
    "train.loc[(train['model'] == \"glk-class\") & (train['trim'] == \"glk250 bluetec 4matic\"), 'model'] = 'glk250'\n",
    "test.loc[(test['model'] == \"glk-class\") & (test['trim'] == \"glk350 4matic\"), 'model'] = 'glk350'\n",
    "test.loc[(test['model'] == \"glk-class\") & (test['trim'] == \"glk350\"), 'model'] = 'glk350'\n",
    "test.loc[(test['model'] == \"glk-class\") & (test['trim'] == \"glk250 bluetec 4matic\"), 'model'] = 'glk250'\n",
    "\n",
    "train.loc[(train['model'] == \"4 series\") & (train['trim'] == \"428i\"), 'model'] = '428i'\n",
    "train.loc[(train['model'] == \"4 series\") & (train['trim'] == \"428i sulev\"), 'model'] = '428i'\n",
    "train.loc[(train['model'] == \"4 series\") & (train['trim'] == \"435i xdrive\"), 'model'] = '435i'\n",
    "train.loc[(train['model'] == \"4 series\") & (train['trim'] == \"435i\"), 'model'] = '435i'\n",
    "train.loc[(train['model'] == \"4 series\") & (train['trim'] == \"428i xdrive sulev\"), 'model'] = '428i'\n",
    "train.loc[(train['model'] == \"4 series\") & (train['trim'] == \"428i xdrive\"), 'model'] = '428i'\n",
    "test.loc[(test['model'] == \"4 series\") & (test['trim'] == \"428i\"), 'model'] = '428i'\n",
    "test.loc[(test['model'] == \"4 series\") & (test['trim'] == \"428i sulev\"), 'model'] = '428i'\n",
    "test.loc[(test['model'] == \"4 series\") & (test['trim'] == \"435i xdrive\"), 'model'] = '435i'\n",
    "test.loc[(test['model'] == \"4 series\") & (test['trim'] == \"435i\"), 'model'] = '435i'\n",
    "test.loc[(test['model'] == \"4 series\") & (test['trim'] == \"428i xdrive sulev\"), 'model'] = '428i'\n",
    "test.loc[(test['model'] == \"4 series\") & (test['trim'] == \"428i xdrive\"), 'model'] = '428i'\n",
    "\n",
    "train.loc[(train['model'] == \"xk-series\") & (train['trim'] == \"xkr\"), 'model'] = 'xkr'\n",
    "train.loc[(train['model'] == \"xk-series\") & (train['trim'] == \"xk\"), 'model'] = 'xk'\n",
    "train.loc[(train['model'] == \"xk-series\") & (train['trim'] == \"xk8\"), 'model'] = 'xk8i'\n",
    "test.loc[(test['model'] == \"xk-series\") & (test['trim'] == \"xkr\"), 'model'] = 'xkr'\n",
    "test.loc[(test['model'] == \"xk-series\") & (test['trim'] == \"xk\"), 'model'] = 'xk'\n",
    "test.loc[(test['model'] == \"xk-series\") & (test['trim'] == \"xk8\"), 'model'] = 'xk8i'\n",
    "\n",
    "train.loc[(train['model'] == \"f-type\") & (train['trim'] == \"r\"), 'model'] = 'f-type r'\n",
    "train.loc[(train['model'] == \"f-type\") & (train['trim'] == \"base\"), 'model'] = 'f-type'\n",
    "train.loc[(train['model'] == \"f-type\") & (train['trim'] == \"v8 s\"), 'model'] = 'v8 s'\n",
    "train.loc[(train['model'] == \"f-type\") & (train['trim'] == \"s\"), 'model'] = 's'\n",
    "test.loc[(test['model'] == \"f-type\") & (test['trim'] == \"r\"), 'model'] = 'f-type r'\n",
    "test.loc[(test['model'] == \"f-type\") & (test['trim'] == \"base\"), 'model'] = 'f-type'\n",
    "test.loc[(test['model'] == \"f-type\") & (test['trim'] == \"v8 s\"), 'model'] = 'v8 s'\n",
    "test.loc[(test['model'] == \"f-type\") & (test['trim'] == \"s\"), 'model'] = 's'\n",
    "\n",
    "train.loc[(train['model'] == \"l-series\") & (train['trim'] == \"l200\"), 'model'] = 'l200'\n",
    "train.loc[(train['model'] == \"l-series\") & (train['trim'] == \"l300\"), 'model'] = 'l300'\n",
    "train.loc[(train['model'] == \"l-series\") & (train['trim'] == \"lw300\"), 'model'] = 'lw300'\n",
    "train.loc[(train['model'] == \"l-series\") & (train['trim'] == \"l100\"), 'model'] = 'l100'\n",
    "train.loc[(train['model'] == \"l-series\") & (train['trim'] == \"ls1\"), 'model'] = 'ls1'\n",
    "train.loc[(train['model'] == \"l-series\") & (train['trim'] == \"lw200\"), 'model'] = 'lw200'\n",
    "train.loc[(train['model'] == \"l-series\") & (train['trim'] == \"ls2\"), 'model'] = 'ls2'\n",
    "test.loc[(test['model'] == \"l-series\") & (test['trim'] == \"l200\"), 'model'] = 'l200'\n",
    "test.loc[(test['model'] == \"l-series\") & (test['trim'] == \"l300\"), 'model'] = 'l300'\n",
    "test.loc[(test['model'] == \"l-series\") & (test['trim'] == \"lw300\"), 'model'] = 'lw300'\n",
    "test.loc[(test['model'] == \"l-series\") & (test['trim'] == \"l100\"), 'model'] = 'l100'\n",
    "test.loc[(test['model'] == \"l-series\") & (test['trim'] == \"ls1\"), 'model'] = 'ls1'\n",
    "test.loc[(test['model'] == \"l-series\") & (test['trim'] == \"lw200\"), 'model'] = 'lw200'\n",
    "test.loc[(test['model'] == \"l-series\") & (test['trim'] == \"ls2\"), 'model'] = 'ls2'\n",
    "test.loc[(test['model'] == \"l-series\") & (test['trim'] == \"lw2\"), 'model'] = 'lw2'\n",
    "\n",
    "train.loc[(train['model'] == \"s-series\") & (train['trim'] == \"sl2\"), 'model'] = 'sl2'\n",
    "train.loc[(train['model'] == \"s-series\") & (train['trim'] == \"sl1\"), 'model'] = 'sl1'\n",
    "train.loc[(train['model'] == \"s-series\") & (train['trim'] == \"sc2\"), 'model'] = 'sc2'\n",
    "train.loc[(train['model'] == \"s-series\") & (train['trim'] == \"sw2\"), 'model'] = 'sw2'\n",
    "train.loc[(train['model'] == \"s-series\") & (train['trim'] == \"sc1\"), 'model'] = 'sc1'\n",
    "train.loc[(train['model'] == \"s-series\") & (train['trim'] == \"sw1\"), 'model'] = 'sw1'\n",
    "train.loc[(train['model'] == \"s-series\") & (train['trim'] == \"sl\"), 'model'] = 'sl'\n",
    "test.loc[(test['model'] == \"s-series\") & (test['trim'] == \"sl2\"), 'model'] = 'sl2'\n",
    "test.loc[(test['model'] == \"s-series\") & (test['trim'] == \"sl1\"), 'model'] = 'sl1'\n",
    "test.loc[(test['model'] == \"s-series\") & (test['trim'] == \"sc2\"), 'model'] = 'sc2'\n",
    "test.loc[(test['model'] == \"s-series\") & (test['trim'] == \"sw2\"), 'model'] = 'sw2'\n",
    "test.loc[(test['model'] == \"s-series\") & (test['trim'] == \"sc1\"), 'model'] = 'sc1'\n",
    "test.loc[(test['model'] == \"s-series\") & (test['trim'] == \"sw1\"), 'model'] = 'sw1'\n",
    "test.loc[(test['model'] == \"s-series\") & (test['trim'] == \"sl\"), 'model'] = 'sl'\n",
    "\n",
    "train.loc[(train['model'] == \"clk-class\") & (train['trim'] == \"clk350\"), 'model'] = 'clk350'\n",
    "train.loc[(train['model'] == \"clk-class\") & (train['trim'] == \"clk320\"), 'model'] = 'clk320'\n",
    "train.loc[(train['model'] == \"clk-class\") & (train['trim'] == \"clk550\"), 'model'] = 'clk550'\n",
    "train.loc[(train['model'] == \"clk-class\") & (train['trim'] == \"clk500\"), 'model'] = 'clk500'\n",
    "train.loc[(train['model'] == \"clk-class\") & (train['trim'] == \"clk430\"), 'model'] = 'clk430'\n",
    "train.loc[(train['model'] == \"clk-class\") & (train['trim'] == \"clk55 amg\"), 'model'] = 'clk55'\n",
    "train.loc[(train['model'] == \"clk-class\") & (train['trim'] == \"clk63 amg\"), 'model'] = 'clk63'\n",
    "test.loc[(test['model'] == \"clk-class\") & (test['trim'] == \"clk350\"), 'model'] = 'clk350'\n",
    "test.loc[(test['model'] == \"clk-class\") & (test['trim'] == \"clk320\"), 'model'] = 'clk320'\n",
    "test.loc[(test['model'] == \"clk-class\") & (test['trim'] == \"clk550\"), 'model'] = 'clk550'\n",
    "test.loc[(test['model'] == \"clk-class\") & (test['trim'] == \"clk500\"), 'model'] = 'clk500'\n",
    "test.loc[(test['model'] == \"clk-class\") & (test['trim'] == \"clk430\"), 'model'] = 'clk430'\n",
    "test.loc[(test['model'] == \"clk-class\") & (test['trim'] == \"clk55 amg\"), 'model'] = 'clk55'\n",
    "test.loc[(test['model'] == \"clk-class\") & (test['trim'] == \"clk63 amg\"), 'model'] = 'clk63'\n",
    "\n",
    "train.loc[(train['model'] == \"g-class\") & (train['trim'] == \"g500\"), 'model'] = 'g500'\n",
    "train.loc[(train['model'] == \"g-class\") & (train['trim'] == \"g63 amg\"), 'model'] = 'g63'\n",
    "train.loc[(train['model'] == \"g-class\") & (train['trim'] == \"g550\"), 'model'] = 'g550'\n",
    "test.loc[(test['model'] == \"g-class\") & (test['trim'] == \"g500\"), 'model'] = 'g500'\n",
    "test.loc[(test['model'] == \"g-class\") & (test['trim'] == \"g63 amg\"), 'model'] = 'g63'\n",
    "test.loc[(test['model'] == \"g-class\") & (test['trim'] == \"g550\"), 'model'] = 'g550'\n",
    "test.loc[(test['model'] == \"g-class\") & (test['trim'] == \"g55 amg\"), 'model'] = 'g55'\n",
    "\n",
    "train.loc[(train['model'] == \"3 series gran turismo\") & (train['trim'] == \"328i xdrive\"), 'model'] = '328i'\n",
    "train.loc[(train['model'] == \"3 series gran turismo\") & (train['trim'] == \"335i xdrive\"), 'model'] = '335i'\n",
    "train.loc[(train['model'] == \"3 series gran turismo\") & (train['trim'] == \"328i sulev\"), 'model'] = '328i'\n",
    "train.loc[(train['model'] == \"3 series gran turismo\") & (train['trim'] == \"328i xdrive sulev\"), 'model'] = '328i'\n",
    "test.loc[(test['model'] == \"3 series gran turismo\") & (test['trim'] == \"328i xdrive\"), 'model'] = '328i'\n",
    "test.loc[(test['model'] == \"3 series gran turismo\") & (test['trim'] == \"335i xdrive\"), 'model'] = '335i'\n",
    "test.loc[(test['model'] == \"3 series gran turismo\") & (test['trim'] == \"328i sulev\"), 'model'] = '328i'\n",
    "test.loc[(test['model'] == \"3 series gran turismo\") & (test['trim'] == \"328i xdrive sulev\"), 'model'] = '328i'\n",
    "\n",
    "train.loc[(train['model'] == \"4 series gran coupe\") & (train['trim'] == \"428i xdrive\"), 'model'] = '428i'\n",
    "train.loc[(train['model'] == \"4 series gran coupe\") & (train['trim'] == \"435i\"), 'model'] = '435i'\n",
    "train.loc[(train['model'] == \"4 series gran coupe\") & (train['trim'] == \"428i\"), 'model'] = '428i'\n",
    "train.loc[(train['model'] == \"4 series gran coupe\") & (train['trim'] == \"428i xdrive sulev\"), 'model'] = '428i'\n",
    "test.loc[(test['model'] == \"4 series gran coupe\") & (test['trim'] == \"428i xdrive\"), 'model'] = '428i'\n",
    "test.loc[(test['model'] == \"4 series gran coupe\") & (test['trim'] == \"435i\"), 'model'] = '435i'\n",
    "test.loc[(test['model'] == \"4 series gran coupe\") & (test['trim'] == \"428i\"), 'model'] = '428i'\n",
    "test.loc[(test['model'] == \"4 series gran coupe\") & (test['trim'] == \"428i xdrive sulev\"), 'model'] = '428i'\n",
    "\n",
    "train.loc[(train['model'] == \"cl-class\") & (train['trim'] == \"cl600\"), 'model'] = 'cl600'\n",
    "train.loc[(train['model'] == \"cl-class\") & (train['trim'] == \"cl63 amg\"), 'model'] = 'cl63'\n",
    "train.loc[(train['model'] == \"cl-class\") & (train['trim'] == \"cl55 amg\"), 'model'] = 'cl55'\n",
    "train.loc[(train['model'] == \"cl-class\") & (train['trim'] == \"cl550\"), 'model'] = 'cl550'\n",
    "train.loc[(train['model'] == \"cl-class\") & (train['trim'] == \"cl550 4matic\"), 'model'] = 'cl550'\n",
    "train.loc[(train['model'] == \"cl-class\") & (train['trim'] == \"cl500\"), 'model'] = 'cl500'\n",
    "train.loc[(train['model'] == \"cl-class\") & (train['trim'] == \"cl65 amg\"), 'model'] = 'cl65'\n",
    "test.loc[(test['model'] == \"cl-class\") & (test['trim'] == \"cl600\"), 'model'] = 'cl600'\n",
    "test.loc[(test['model'] == \"cl-class\") & (test['trim'] == \"cl63 amg\"), 'model'] = 'cl63'\n",
    "test.loc[(test['model'] == \"cl-class\") & (test['trim'] == \"cl55 amg\"), 'model'] = 'cl55'\n",
    "test.loc[(test['model'] == \"cl-class\") & (test['trim'] == \"cl550\"), 'model'] = 'cl550'\n",
    "test.loc[(test['model'] == \"cl-class\") & (test['trim'] == \"cl550 4matic\"), 'model'] = 'cl550'\n",
    "test.loc[(test['model'] == \"cl-class\") & (test['trim'] == \"cl500\"), 'model'] = 'cl500'\n",
    "test.loc[(test['model'] == \"cl-class\") & (test['trim'] == \"cl65 amg\"), 'model'] = 'cl65'\n",
    "\n",
    "train.loc[(train['model'] == \"cla-class\") & (train['trim'] == \"cla250\"), 'model'] = 'cla250'\n",
    "train.loc[(train['model'] == \"cla-class\") & (train['trim'] == \"cla45 amg\"), 'model'] = 'cla45'\n",
    "train.loc[(train['model'] == \"cla-class\") & (train['trim'] == \"cla250 4matic\"), 'model'] = 'cla250'\n",
    "test.loc[(test['model'] == \"cla-class\") & (test['trim'] == \"cla250\"), 'model'] = 'cla250'\n",
    "test.loc[(test['model'] == \"cla-class\") & (test['trim'] == \"cla45 amg\"), 'model'] = 'cla45'\n",
    "test.loc[(test['model'] == \"cla-class\") & (test['trim'] == \"cla250 4matic\"), 'model'] = 'cla250'\n",
    "\n",
    "train.loc[(train['model'] == \"6 series gran coupe\") & (train['trim'] == \"640i\"), 'model'] = '640i'\n",
    "train.loc[(train['model'] == \"6 series gran coupe\") & (train['trim'] == \"650i xdrive\"), 'model'] = '650i'\n",
    "train.loc[(train['model'] == \"6 series gran coupe\") & (train['trim'] == \"650i\"), 'model'] = '650i'\n",
    "test.loc[(test['model'] == \"6 series gran coupe\") & (test['trim'] == \"640i\"), 'model'] = '640i'\n",
    "test.loc[(test['model'] == \"6 series gran coupe\") & (test['trim'] == \"650i xdrive\"), 'model'] = '650i'\n",
    "test.loc[(test['model'] == \"6 series gran coupe\") & (test['trim'] == \"650i\"), 'model'] = '650i'\n",
    "test.loc[(test['model'] == \"6 series gran coupe\") & (test['trim'] == \"640i xdrive\"), 'model'] = '640i'\n",
    "\n",
    "train.loc[(train['model'] == \"econoline wagon\") & (train['trim'] == \"e-350 super duty xlt\"), 'model'] = 'e-350'\n",
    "train.loc[(train['model'] == \"econoline wagon\") & (train['trim'] == \"e-350 super duty xl\"), 'model'] = 'e-350'\n",
    "train.loc[(train['model'] == \"econoline wagon\") & (train['trim'] == \"e-150 xlt\"), 'model'] = 'e-150'\n",
    "train.loc[(train['model'] == \"econoline wagon\") & (train['trim'] == \"e-150 xl\"), 'model'] = 'e-150'\n",
    "train.loc[(train['model'] == \"econoline wagon\") & (train['trim'] == \"e-350 super duty chateau\"), 'model'] = 'e-350'\n",
    "test.loc[(test['model'] == \"econoline wagon\") & (test['trim'] == \"e-350 super duty xlt\"), 'model'] = 'e-350'\n",
    "test.loc[(test['model'] == \"econoline wagon\") & (test['trim'] == \"e-350 super duty xl\"), 'model'] = 'e-350'\n",
    "test.loc[(test['model'] == \"econoline wagon\") & (test['trim'] == \"e-150 xlt\"), 'model'] = 'e-150'\n",
    "test.loc[(test['model'] == \"econoline wagon\") & (test['trim'] == \"e-150 xl\"), 'model'] = 'e-150'\n",
    "test.loc[(test['model'] == \"econoline wagon\") & (test['trim'] == \"e-350 super duty chateau\"), 'model'] = 'e-350'\n",
    "\n",
    "train.loc[(train['model'] == \"2 series\") & (train['trim'] == \"m235i\"), 'model'] = '235i'\n",
    "train.loc[(train['model'] == \"2 series\") & (train['trim'] == \"228i\"), 'model'] = '228i'\n",
    "test.loc[(test['model'] == \"2 series\") & (test['trim'] == \"m235i\"), 'model'] = '235i'\n",
    "test.loc[(test['model'] == \"2 series\") & (test['trim'] == \"228i\"), 'model'] = '228i'\n",
    "\n",
    "train = train.replace({'model':{'discovery series ii':'discovery'}})\n",
    "test = test.replace({'model':{'discovery series ii':'discovery'}})\n",
    "\n",
    "train.loc[(train['model'] == \"b-series\") & (train['trim'] == \"b4000\"), 'model'] = 'b4000'\n",
    "train.loc[(train['model'] == \"b-series\") & (train['trim'] == \"b3000 se\"), 'model'] = 'b3000'\n",
    "train.loc[(train['model'] == \"b-series\") & (train['trim'] == \"b4000 se\"), 'model'] = 'b4000'\n",
    "train.loc[(train['model'] == \"b-series\") & (train['trim'] == \"b2500 se\"), 'model'] = 'b2500'\n",
    "train.loc[(train['model'] == \"b-series\") & (train['trim'] == \"b2300\"), 'model'] = 'b2300'\n",
    "\n",
    "test.loc[(test['model'] == \"b-series\") & (test['trim'] == \"b4000\"), 'model'] = 'b4000'\n",
    "test.loc[(test['model'] == \"b-series\") & (test['trim'] == \"b3000 se\"), 'model'] = 'b3000'\n",
    "test.loc[(test['model'] == \"b-series\") & (test['trim'] == \"b4000 se\"), 'model'] = 'b4000'\n",
    "test.loc[(test['model'] == \"b-series\") & (test['trim'] == \"b2500 se\"), 'model'] = 'b2500'\n",
    "\n",
    "test = test.replace({'model':{'m6 gran coupe':'m6'}})\n",
    "train = train.query('model != \"coupe\"')\n",
    "train = train.query('model != \"safari cargo\"')\n",
    "train = train.query('model != \"400-class\"')\n",
    "train = train.query('model != \"190-class\"')\n",
    "train = train.query('model != \"8 series\"')\n",
    "\n",
    "train = train.replace({'model':{'c/k 2500 series':'silverado 2500'}})\n",
    "test = test.replace({'model':{'c/k 2500 series':'silverado 2500'}})\n",
    "\n",
    "train.loc[(train['model'] == \"gla-class\") & (train['trim'] == \"gla250 4matic\"), 'model'] = 'gla250'\n",
    "\n",
    "train.loc[(train['model'] == \"i-series\") & (train['trim'] == \"i-290 ls\"), 'model'] = 'i-290'\n",
    "train.loc[(train['model'] == \"i-series\") & (train['trim'] == \"i-280 s\"), 'model'] = 'i-280 s'\n",
    "train.loc[(train['model'] == \"i-series\") & (train['trim'] == \"i-290 s\"), 'model'] = 'i-290 s'\n",
    "test.loc[(test['model'] == \"i-series\") & (test['trim'] == \"i-290 ls\"), 'model'] = 'i-290'\n",
    "\n",
    "train.loc[(train['model'] == \"unknown\") & (train['trim'] == \"750li\"), 'model'] = '750li'\n",
    "train.loc[(train['model'] == \"unknown\") & (train['trim'] == \"750li xdrive\"), 'model'] = '750li'\n",
    "train.loc[(train['model'] == \"unknown\") & (train['trim'] == \"650i xdrive\"), 'model'] = '650i'\n",
    "train.loc[(train['model'] == \"unknown\") & (train['trim'] == \"750i xdrive\"), 'model'] = '750i'\n",
    "test.loc[(test['model'] == \"unknown\") & (test['trim'] == \"750li\"), 'model'] = '750li'\n",
    "test.loc[(test['model'] == \"unknown\") & (test['trim'] == \"750li xdrive\"), 'model'] = '750li'\n",
    "test.loc[(test['model'] == \"unknown\") & (test['trim'] == \"650i xdrive\"), 'model'] = '650i'\n",
    "test.loc[(test['model'] == \"unknown\") & (test['trim'] == \"750i xdrive\"), 'model'] = '750i'\n",
    "\n",
    "#удаляем оставшиеся неявные дубликаты в обоих датасетах"
   ]
  },
  {
   "cell_type": "markdown",
   "metadata": {
    "papermill": {
     "duration": 0.034717,
     "end_time": "2023-04-03T06:20:07.055762",
     "exception": false,
     "start_time": "2023-04-03T06:20:07.021045",
     "status": "completed"
    },
    "tags": []
   },
   "source": [
    "#### Удаление неявных дубликатов в столбце trim."
   ]
  },
  {
   "cell_type": "code",
   "execution_count": null,
   "metadata": {
    "execution": {
     "iopub.status.busy": "2023-04-08T14:04:10.488668Z",
     "iopub.status.idle": "2023-04-08T14:04:10.489284Z",
     "shell.execute_reply": "2023-04-08T14:04:10.488995Z",
     "shell.execute_reply.started": "2023-04-08T14:04:10.488964Z"
    },
    "papermill": {
     "duration": 0.297235,
     "end_time": "2023-04-03T06:20:07.386748",
     "exception": false,
     "start_time": "2023-04-03T06:20:07.089513",
     "status": "completed"
    },
    "tags": []
   },
   "outputs": [],
   "source": [
    "train['trim'] = train['trim'].str.lower()\n",
    "test['trim'] = test['trim'].str.lower()"
   ]
  },
  {
   "cell_type": "code",
   "execution_count": null,
   "metadata": {},
   "outputs": [],
   "source": [
    "print(len(train['trim'].unique()))"
   ]
  },
  {
   "cell_type": "code",
   "execution_count": null,
   "metadata": {},
   "outputs": [],
   "source": [
    "print(train['trim'].unique().tolist())"
   ]
  },
  {
   "cell_type": "code",
   "execution_count": null,
   "metadata": {},
   "outputs": [],
   "source": [
    "def change_trim_values(df):\n",
    "    df.loc[(df['trim'].str.contains('trd', case=False)) & (df['manufacturer'] == 'toyota'), 'trim'] = 'trd'\n",
    "    df.loc[(df['trim'].str.contains('xse', case=False)) & (df['manufacturer'] == 'toyota'), 'trim'] = 'xse'\n",
    "    df.loc[(df['trim'].str.contains('limited', case=False)) & (df['manufacturer'] == 'toyota'), 'trim'] = 'limited'\n",
    "    df.loc[(df['trim'].str.contains('platinum', case=False)) & (df['manufacturer'] == 'toyota'), 'trim'] = 'platinum'\n",
    "    df.loc[(df['trim'].str.contains('xle premium', case=False)) & (df['manufacturer'] == 'toyota'), 'trim'] = 'xle premium'\n",
    "    df.loc[(df['trim'].str.contains('xle', case=False)) & (df['manufacturer'] == 'toyota'), 'trim'] = 'xle'\n",
    "    df.loc[(df['trim'].str.contains('sr5', case=False)) & (df['manufacturer'] == 'toyota'), 'trim'] = 'sr5'\n",
    "    df.loc[(df['trim'].str.contains('se', case=False)) & (df['manufacturer'] == 'toyota'), 'trim'] = 'se'\n",
    "    df.loc[(df['trim'].str.contains('le', case=False)) & (df['manufacturer'] == 'toyota'), 'trim'] = 'le'\n",
    "    df.loc[(df['trim'].str.contains('l', case=False)) & (df['manufacturer'] == 'toyota'), 'trim'] = 'l'  \n",
    "    df.loc[(df['trim'].str.contains('denali', case=False)) & (df['manufacturer'] == 'gmc'), 'trim'] = 'denali'\n",
    "    df.loc[(df['trim'].str.contains('at4', case=False)) & (df['manufacturer'] == 'gmc'), 'trim'] = 'at4'\n",
    "    df.loc[(df['trim'].str.contains('slt', case=False)) & (df['manufacturer'] == 'gmc'), 'trim'] = 'slt'\n",
    "    df.loc[(df['trim'].str.contains('sle', case=False)) & (df['manufacturer'] == 'gmc'), 'trim'] = 'sle'\n",
    "    df.loc[(df['trim'].str.contains('elevation', case=False)) & (df['manufacturer'] == 'gmc'), 'trim'] = 'elevation'\n",
    "    df.loc[(df['trim'].str.contains('base', case=False)) & (df['manufacturer'] == 'gmc'), 'trim'] = 'base'    \n",
    "    df.loc[(df['trim'].str.contains('high country', case=False)) & (df['manufacturer'] == 'chevrolet'), 'trim'] = 'high country'\n",
    "    df.loc[(df['trim'].str.contains('ltz', case=False)) & (df['manufacturer'] == 'chevrolet'), 'trim'] = 'ltz'\n",
    "    df.loc[(df['trim'].str.contains('lt', case=False)) & (df['manufacturer'] == 'chevrolet'), 'trim'] = 'lt'\n",
    "    df.loc[(df['trim'].str.contains('rst', case=False)) & (df['manufacturer'] == 'chevrolet'), 'trim'] = 'rst'\n",
    "    df.loc[(df['trim'].str.contains('custom', case=False)) & (df['manufacturer'] == 'chevrolet'), 'trim'] = 'custom'\n",
    "    df.loc[(df['trim'].str.contains('work truck', case=False)) & (df['manufacturer'] == 'chevrolet'), 'trim'] = 'wt'\n",
    "    df.loc[(df['trim'].str.contains('wt', case=False)) & (df['manufacturer'] == 'chevrolet'), 'trim'] = 'wt'    \n",
    " \n",
    "    df.loc[(df['trim'].str.contains('prestige', case=False)) & (df['manufacturer'] == 'audi'), 'trim'] = 'prestige'\n",
    "    df.loc[(df['trim'].str.contains('premium plus', case=False)) & (df['manufacturer'] == 'audi'), 'trim'] = 'premium plus'\n",
    "    df.loc[(df['trim'].str.contains('premium', case=False)) & (df['manufacturer'] == 'audi'), 'trim'] = 'premium'    \n",
    "    df.loc[(df['trim'].str.contains('amg', case=False)) & (df['manufacturer'] == 'mercedes-benz'), 'trim'] = 'amg'\n",
    "    df.loc[(df['trim'].str.contains('4matic', case=False)) & (df['manufacturer'] == 'mercedes-benz'), 'trim'] = '4matic'\n",
    "    df.loc[(df['trim'].str.contains('luxury', case=False)) & (df['manufacturer'] == 'mercedes-benz'), 'trim'] = 'luxury'\n",
    "    df.loc[(df['trim'].str.contains('base', case=False)) & (df['manufacturer'] == 'mercedes-benz'), 'trim'] = 'base'\n",
    "    df.loc[(df['trim'].str.contains(' m', case=False)) & (df['manufacturer'] == 'bmw'), 'trim'] = 'm'\n",
    "    df.loc[(df['trim'].str.contains('xdrive', case=False)) & (df['manufacturer'] == 'bmw'), 'trim'] = 'xdrive'\n",
    "    df.loc[(df['trim'].str.contains('luxury', case=False)) & (df['manufacturer'] == 'bmw'), 'trim'] = 'luxury'\n",
    "    df.loc[(df['trim'].str.contains('base', case=False)) & (df['manufacturer'] == 'bmw'), 'trim'] = 'base'\n",
    "    df.loc[(df['trim'].str.contains('touring', case=False)) & (df['manufacturer'] == 'honda'), 'trim'] = 'touring'\n",
    "    df.loc[(df['trim'].str.contains('ex-l', case=False)) & (df['manufacturer'] == 'honda'), 'trim'] = 'ex-l'\n",
    "    df.loc[(df['trim'].str.contains('ex', case=False)) & (df['manufacturer'] == 'honda'), 'trim'] = 'ex'\n",
    "    df.loc[(df['trim'].str.contains('sport', case=False)) & (df['manufacturer'] == 'honda'), 'trim'] = 'sport'\n",
    "    df.loc[(df['trim'].str.contains('lx', case=False)) & (df['manufacturer'] == 'honda'), 'trim'] = 'lx'    \n",
    "    df.loc[(df['trim'].str.contains('platinum', case=False)) & (df['manufacturer'] == 'nissan'), 'trim'] = 'platinum'\n",
    "    df.loc[(df['trim'].str.contains('sl', case=False)) & (df['manufacturer'] == 'nissan'), 'trim'] = 'sl'\n",
    "    df.loc[(df['trim'].str.contains('sv', case=False)) & (df['manufacturer'] == 'nissan'), 'trim'] = 'sv'\n",
    "    df.loc[(df['trim'].str.contains('s', case=False)) & (df['manufacturer'] == 'nissan'), 'trim'] = 's'    \n",
    "    df.loc[(df['trim'].str.contains('signature', case=False)) & (df['manufacturer'] == 'mazda'), 'trim'] = 'signature'\n",
    "    df.loc[(df['trim'].str.contains('gtr', case=False)) & (df['manufacturer'] == 'mazda'), 'trim'] = 'ex-l'\n",
    "    df.loc[(df['trim'].str.contains('grand touring', case=False)) & (df['manufacturer'] == 'mazda'), 'trim'] = 'gt'\n",
    "    df.loc[(df['trim'].str.contains('se', case=False)) & (df['manufacturer'] == 'mazda'), 'trim'] = 'se'\n",
    "    df.loc[(df['trim'].str.contains('gt', case=False)) & (df['manufacturer'] == 'mazda'), 'trim'] = 'gt'\n",
    "    df.loc[(df['trim'].str.contains('touring', case=False)) & (df['manufacturer'] == 'mazda'), 'trim'] = 'touring'\n",
    "    df.loc[(df['trim'].str.contains('sport', case=False)) & (df['manufacturer'] == 'mazda'), 'trim'] = 'sport'\n",
    "    df.loc[(df['trim'].str.contains('limited', case=False)) & (df['manufacturer'] == 'hyundai'), 'trim'] = 'limited'\n",
    "    df.loc[(df['trim'].str.contains('ultimate', case=False)) & (df['manufacturer'] == 'hyundai'), 'trim'] = 'ultimate'\n",
    "    df.loc[(df['trim'].str.contains('sel', case=False)) & (df['manufacturer'] == 'hyundai'), 'trim'] = 'sel'\n",
    "    df.loc[(df['trim'].str.contains('se', case=False)) & (df['manufacturer'] == 'hyundai'), 'trim'] = 'se'\n",
    "    \n",
    "    df.loc[(df['trim'].str.contains('sx turbo', case=False)) & (df['manufacturer'] == 'kia'), 'trim'] = 'sx turbo'\n",
    "    df.loc[(df['trim'].str.contains('s turbo', case=False)) & (df['manufacturer'] == 'kia'), 'trim'] = 's turbo'\n",
    "    df.loc[(df['trim'].str.contains('lxs', case=False)) & (df['manufacturer'] == 'kia'), 'trim'] = 'lxs'\n",
    "    df.loc[(df['trim'].str.contains('lx', case=False)) & (df['manufacturer'] == 'kia'), 'trim'] = 'lx'\n",
    "    df.loc[(df['trim'].str.contains('sx', case=False)) & (df['manufacturer'] == 'kia'), 'trim'] = 'sx'\n",
    "    df.loc[(df['trim'].str.contains('ex', case=False)) & (df['manufacturer'] == 'kia'), 'trim'] = 'ex'\n",
    "    df.loc[(df['trim'].str.contains('fe', case=False)) & (df['manufacturer'] == 'kia'), 'trim'] = 'fe'\n",
    "    df.loc[(df['trim'].str.contains('premium', case=False)) & (df['manufacturer'] == 'kia'), 'trim'] = 'premium'\n",
    "    df.loc[(df['trim'].str.contains('gt2', case=False)) & (df['manufacturer'] == 'kia'), 'trim'] = 'gt2'\n",
    "    df.loc[(df['trim'].str.contains('gt1', case=False)) & (df['manufacturer'] == 'kia'), 'trim'] = 'gt1'\n",
    "    df.loc[(df['trim'].str.contains('gt', case=False)) & (df['manufacturer'] == 'kia'), 'trim'] = 'gt'\n",
    "    df.loc[(df['trim'].str.contains('s', case=False)) & (df['manufacturer'] == 'kia'), 'trim'] = 's'\n",
    "    \n",
    "\n",
    "    df.loc[(df['trim'].str.contains('autobiography', case=False)) & (df['manufacturer'] == 'land rover'), \n",
    "           'trim'] = 'autobiography'\n",
    "    df.loc[(df['trim'].str.contains('hse', case=False)) & (df['manufacturer'] == 'land rover'), 'trim'] = 'hse'\n",
    "    df.loc[(df['trim'].str.contains('se', case=False)) & (df['manufacturer'] == 'land rover'), 'trim'] = 'se'\n",
    "    df.loc[(df['trim'].str.contains('pure', case=False)) & (df['manufacturer'] == 'land rover'), 'trim'] = 'pure'\n",
    "    \n",
    "    df.loc[(df['trim'].str.contains('premium luxury', case=False)) & (df['manufacturer'] == 'cadillac'), \n",
    "           'trim'] = 'premium luxury'\n",
    "    df.loc[(df['trim'].str.contains('platinum', case=False)) & (df['manufacturer'] == 'cadillac'), 'trim'] = 'platinum'\n",
    "    df.loc[(df['trim'].str.contains('luxury', case=False)) & (df['manufacturer'] == 'cadillac'), 'trim'] = 'luxury'\n",
    "    df.loc[(df['trim'].str.contains('sport', case=False)) & (df['manufacturer'] == 'cadillac'), 'trim'] = 'sport'\n",
    "    df.loc[(df['trim'].str.contains('v', case=False)) & (df['manufacturer'] == 'cadillac'), 'trim'] = 'v' \n",
    "    \n",
    "    df.loc[(df['trim'].str.contains('autobahn', case=False)) & (df['manufacturer'] == 'volkswagen'), 'trim'] = 'autobahn'\n",
    "    df.loc[(df['trim'].str.contains('gli', case=False)) & (df['manufacturer'] == 'volkswagen'), 'trim'] = 'gli'\n",
    "    df.loc[(df['trim'].str.contains('r-line', case=False)) & (df['manufacturer'] == 'volkswagen'), 'trim'] = 'r-line'\n",
    "    df.loc[(df['trim'].str.contains('gti', case=False)) & (df['manufacturer'] == 'volkswagen'), 'trim'] = 'gti'    \n",
    "    df.loc[(df['trim'].str.contains('sel premium', case=False)) & (df['manufacturer'] == 'volkswagen'), 'trim'] = 'sel premium'\n",
    "    df.loc[(df['trim'].str.contains('sel', case=False)) & (df['manufacturer'] == 'volkswagen'), 'trim'] = 'sel'\n",
    "    df.loc[(df['trim'].str.contains('se', case=False)) & (df['manufacturer'] == 'volkswagen'), 'trim'] = 'se'\n",
    "    df.loc[(df['trim'].str.contains('s', case=False)) & (df['manufacturer'] == 'volkswagen'), 'trim'] = 's'\n",
    "   \n",
    "    df.loc[(df['trim'].str.contains('limited xt', case=False)) & (df['manufacturer'] == 'subaru'), 'trim'] = 'limited xt'    \n",
    "    df.loc[(df['trim'].str.contains('limited', case=False)) & (df['manufacturer'] == 'subaru'), 'trim'] = 'limited'\n",
    "    df.loc[(df['trim'].str.contains('touring xt', case=False)) & (df['manufacturer'] == 'subaru'), 'trim'] = 'touring xt'\n",
    "    df.loc[(df['trim'].str.contains('touring', case=False)) & (df['manufacturer'] == 'subaru'), 'trim'] = 'touring'\n",
    "    df.loc[(df['trim'].str.contains('sport', case=False)) & (df['manufacturer'] == 'subaru'), 'trim'] = 'sport'\n",
    "    df.loc[(df['trim'].str.contains('premium', case=False)) & (df['manufacturer'] == 'subaru'), 'trim'] = 'premium'\n",
    "    df.loc[(df['trim'].str.contains('base', case=False)) & (df['manufacturer'] == 'subaru'), 'trim'] = 'base'\n",
    "    \n",
    "    df.loc[(df['trim'].str.contains('autograph', case=False)) & (df['manufacturer'] == 'infiniti'), 'trim'] = 'autograph'    \n",
    "    df.loc[(df['trim'].str.contains('essential', case=False)) & (df['manufacturer'] == 'infiniti'), 'trim'] = 'essential'\n",
    "    df.loc[(df['trim'].str.contains('sensory', case=False)) & (df['manufacturer'] == 'infiniti'), 'trim'] = 'sensory'\n",
    "    df.loc[(df['trim'].str.contains('sport', case=False)) & (df['manufacturer'] == 'infiniti'), 'trim'] = 'sport'\n",
    "    df.loc[(df['trim'].str.contains('limited', case=False)) & (df['manufacturer'] == 'infiniti'), 'trim'] = 'limited'\n",
    "    df.loc[(df['trim'].str.contains('pure', case=False)) & (df['manufacturer'] == 'infiniti'), 'trim'] = 'pure'\n",
    "    df.loc[(df['trim'].str.contains('luxe', case=False)) & (df['manufacturer'] == 'infiniti'), 'trim'] = 'luxe'\n",
    "    df.loc[(df['trim'].str.contains('gt', case=False)) & (df['manufacturer'] == 'mitsubishi'), 'trim'] = 'gt'\n",
    "    df.loc[(df['trim'].str.contains('sel', case=False)) & (df['manufacturer'] == 'mitsubishi'), 'trim'] = 'sel'\n",
    "    df.loc[(df['trim'].str.contains('se', case=False)) & (df['manufacturer'] == 'mitsubishi'), 'trim'] = 'se'\n",
    "    df.loc[(df['trim'].str.contains('es', case=False)) & (df['manufacturer'] == 'mitsubishi'), 'trim'] = 'es'\n",
    "    df.loc[(df['trim'].str.contains('le', case=False)) & (df['manufacturer'] == 'mitsubishi'), 'trim'] = 'le'\n",
    "\n",
    "    df.loc[(df['trim'].str.contains('gls', case=False)) & (df['manufacturer'] == 'oldsmobile'), 'trim'] = 'gls'\n",
    "    df.loc[(df['trim'].str.contains('gl', case=False)) & (df['manufacturer'] == 'oldsmobile'), 'trim'] = 'gl'\n",
    "    df.loc[(df['trim'].str.contains('gx', case=False)) & (df['manufacturer'] == 'oldsmobile'), 'trim'] = 'gx'\n",
    "    df.loc[(df['trim'].str.contains('es', case=False)) & (df['manufacturer'] == 'oldsmobile'), 'trim'] = 'es'\n",
    "    df.loc[(df['trim'].str.contains('le', case=False)) & (df['manufacturer'] == 'oldsmobile'), 'trim'] = 'le'\n",
    "\n",
    "    df.loc[(df['trim'].str.contains('r-design', case=False)) & (df['manufacturer'] == 'volvo'), 'trim'] = 'r-design'\n",
    "    \n",
    "    df.loc[(df['trim'].str.contains('gxp', case=False)) & (df['manufacturer'] == 'pontiac'), 'trim'] = 'gxp'\n",
    "    df.loc[(df['trim'].str.contains('gtp', case=False)) & (df['manufacturer'] == 'pontiac'), 'trim'] = 'gtp'\n",
    "    df.loc[(df['trim'].str.contains('gt', case=False)) & (df['manufacturer'] == 'pontiac'), 'trim'] = 'gt'\n",
    "    df.loc[(df['trim'].str.contains('se', case=False)) & (df['manufacturer'] == 'pontiac'), 'trim'] = 'se'\n",
    "    df.loc[(df['trim'].str.contains('base', case=False)) & (df['manufacturer'] == 'pontiac'), 'trim'] = 'base'\n",
    "    \n",
    "    df.loc[(df['trim'].str.contains('advance', case=False)) & (df['manufacturer'] == 'acura'), 'trim'] = 'advance'\n",
    "    df.loc[(df['trim'].str.contains('type s', case=False)) & (df['manufacturer'] == 'acura'), 'trim'] = 'type s'\n",
    "    df.loc[(df['trim'].str.contains('technology', case=False)) & (df['manufacturer'] == 'acura'), 'trim'] = 'technology'\n",
    "    df.loc[(df['trim'].str.contains('standard', case=False)) & (df['manufacturer'] == 'acura'), 'trim'] = 'standard'\n",
    "    \n",
    "    df.loc[(df['trim'].str.contains('sport', case=False)) & (df['manufacturer'] == 'jeep'), 'trim'] = 'sport'\n",
    "    df.loc[(df['trim'].str.contains('latitude', case=False)) & (df['manufacturer'] == 'jeep'), 'trim'] = 'latitude'\n",
    "    df.loc[(df['trim'].str.contains('altitude', case=False)) & (df['manufacturer'] == 'jeep'), 'trim'] = 'altitude'\n",
    "    df.loc[(df['trim'].str.contains('limited', case=False)) & (df['manufacturer'] == 'jeep'), 'trim'] = 'limited'\n",
    "    df.loc[(df['trim'].str.contains('trailhawk', case=False)) & (df['manufacturer'] == 'jeep'), 'trim'] = 'trailhawk'\n",
    "    df.loc[(df['trim'].str.contains('laredo', case=False)) & (df['manufacturer'] == 'jeep'), 'trim'] = 'laredo'\n",
    "\n",
    "    df.loc[(df['trim'].str.contains('r/t', case=False)) & (df['manufacturer'] == 'dodge'), 'trim'] = 'r/t'\n",
    "    df.loc[(df['trim'].str.contains('limited', case=False)) & (df['manufacturer'] == 'dodge'), 'trim'] = 'limited'\n",
    "    df.loc[(df['trim'].str.contains('rebel', case=False)) & (df['manufacturer'] == 'dodge'), 'trim'] = 'rebel'\n",
    "    df.loc[(df['trim'].str.contains('laramie', case=False)) & (df['manufacturer'] == 'dodge'), 'trim'] = 'laramie'\n",
    "    df.loc[(df['trim'].str.contains('lone star', case=False)) & (df['manufacturer'] == 'dodge'), 'trim'] = 'lone star'\n",
    "    df.loc[(df['trim'].str.contains('longhorn', case=False)) & (df['manufacturer'] == 'dodge'), 'trim'] = 'longhorn'\n",
    "    df.loc[(df['trim'].str.contains('big horn', case=False)) & (df['manufacturer'] == 'dodge'), 'trim'] = 'big horn'\n",
    "    df.loc[(df['trim'].str.contains('tradesman', case=False)) & (df['manufacturer'] == 'dodge'), 'trim'] = 'tradesman'\n",
    "    df.loc[(df['trim'].str.contains('lramie', case=False)) & (df['manufacturer'] == 'dodge'), 'trim'] = 'laramie'\n",
    "       \n",
    "    df.loc[(df['trim'].str.contains('select', case=False)) & (df['manufacturer'] == 'lincoln'), 'trim'] = 'select'\n",
    "    df.loc[(df['trim'].str.contains('standard', case=False)) & (df['manufacturer'] == 'lincoln'), 'trim'] = 'standard'\n",
    "    df.loc[(df['trim'].str.contains('standard', case=False)) & (df['manufacturer'] == 'lincoln'), 'trim'] = 'standard'\n",
    "    \n",
    "    df.loc[(df['trim'].str.contains('limited', case=False)) & (df['manufacturer'] == 'chrysler'), 'trim'] = 'limited'\n",
    "    df.loc[(df['trim'].str.contains('s', case=False)) & (df['manufacturer'] == 'chrysler'), 'trim'] = 's'\n",
    "    df.loc[(df['trim'].str.contains('touring', case=False)) & (df['manufacturer'] == 'chrysler'), 'trim'] = 'touring'\n",
    "    df.loc[(df['trim'].str.contains('c', case=False)) & (df['manufacturer'] == 'chrysler'), 'trim'] = 'c' \n",
    "\n",
    "    df.loc[(df['trim'].str.contains('gs', case=False)) & (df['manufacturer'] == 'mercury'), 'trim'] = 'gs'\n",
    "    df.loc[(df['trim'].str.contains('ls', case=False)) & (df['manufacturer'] == 'mercury'), 'trim'] = 'ls'\n",
    "    df.loc[(df['trim'].str.contains('premier', case=False)) & (df['manufacturer'] == 'mercury'), 'trim'] = 'premier'\n",
    "    df.loc[(df['trim'].str.contains('convenience', case=False)) & (df['manufacturer'] == 'mercury'), 'trim'] = 'convenience'   \n",
    "    df.loc[(df['trim'].str.contains('luxury', case=False)) & (df['manufacturer'] == 'mercury'), 'trim'] = 'luxury'\n",
    "    df.loc[(df['trim'].str.contains('ultimate', case=False)) & (df['manufacturer'] == 'mercury'), 'trim'] = 'ultimate'\n",
    "    df.loc[(df['trim'].str.contains('sport', case=False)) & (df['manufacturer'] == 'mercury'), 'trim'] = 'sport'\n",
    "\n",
    "    df.loc[(df['trim'].str.contains('gs', case=False)) & (df['manufacturer'] == 'lexus'), 'trim'] = 'gs'\n",
    "    df.loc[(df['trim'].str.contains('ls', case=False)) & (df['manufacturer'] == 'lexus'), 'trim'] = 'ls'\n",
    "    df.loc[(df['trim'].str.contains('es', case=False)) & (df['manufacturer'] == 'lexus'), 'trim'] = 'es'\n",
    "    df.loc[(df['trim'].str.contains('is', case=False)) & (df['manufacturer'] == 'lexus'), 'trim'] = 'is'   \n",
    "    df.loc[(df['trim'].str.contains('luxury', case=False)) & (df['manufacturer'] == 'lexus'), 'trim'] = 'luxury'\n",
    "    df.loc[(df['trim'].str.contains('ultimate', case=False)) & (df['manufacturer'] == 'lexus'), 'trim'] = 'ultimate'\n",
    "    df.loc[(df['trim'].str.contains('sport', case=False)) & (df['manufacturer'] == 'lexus'), 'trim'] = 'sport' \n",
    "\n",
    "    df.loc[(df['trim'].str.contains('st-line', case=False)) & (df['manufacturer'] == 'ford'), 'trim'] = 'st-line'\n",
    "    df.loc[(df['trim'].str.contains('titanium', case=False)) & (df['manufacturer'] == 'ford'), 'trim'] = 'titanium'\n",
    "    df.loc[(df['trim'].str.contains('st', case=False)) & (df['manufacturer'] == 'ford'), 'trim'] = 'st'\n",
    "    df.loc[(df['trim'].str.contains('rs', case=False)) & (df['manufacturer'] == 'ford'), 'trim'] = 'rs'\n",
    "    df.loc[(df['trim'].str.contains('sel', case=False)) & (df['manufacturer'] == 'ford'), 'trim'] = 'sel'\n",
    "    df.loc[(df['trim'].str.contains('se', case=False)) & (df['manufacturer'] == 'ford'), 'trim'] = 'se'\n",
    "    df.loc[(df['trim'].str.contains('platinum', case=False)) & (df['manufacturer'] == 'ford'), 'trim'] = 'platinum'    \n",
    "    df.loc[(df['trim'].str.contains('zetec', case=False)) & (df['manufacturer'] == 'ford'), 'trim'] = 'zetec'\n",
    "    df.loc[(df['trim'].str.contains('limited', case=False)) & (df['manufacturer'] == 'ford'), 'trim'] = 'limited'\n",
    "    df.loc[(df['trim'].str.contains('king ranch', case=False)) & (df['manufacturer'] == 'ford'), 'trim'] = 'king ranch'\n",
    "    df.loc[(df['trim'].str.contains('lariat', case=False)) & (df['manufacturer'] == 'ford'), 'trim'] = 'lariat'\n",
    "    df.loc[(df['trim'].str.contains('xlt', case=False)) & (df['manufacturer'] == 'ford'), 'trim'] = 'xlt'\n",
    "    df.loc[(df['trim'].str.contains('xl', case=False)) & (df['manufacturer'] == 'ford'), 'trim'] = 'xl'\n",
    "    \n",
    "    df.loc[(df['trim'].str.contains('premium', case=False)) & (df['manufacturer'] == 'buick'), 'trim'] = 'premium'\n",
    "    \n",
    "    df.loc[(df['trim'].str.contains('luxury', case=False)), 'trim'] = 'luxury'  \n",
    "    df.loc[(df['trim'].str.contains('hybrid', case=False)), 'trim'] = 'hybrid'\n",
    "    df.loc[(df['trim'].str.contains('bauer', case=False)), 'trim'] = 'special edition'\n",
    "    df.loc[(df['trim'].str.contains('anniversary', case=False)), 'trim'] = 'special edition'\n",
    "    df.loc[(df['trim'].str.contains('quattro', case=False)), 'trim'] = 'quattro'\n",
    "    df.loc[(df['trim'].str.contains('warner brothers', case=False)), 'trim'] = 'special edition'\n",
    "    df.loc[(df['trim'].str.contains('executive', case=False)), 'trim'] = 'executive'\n",
    "    df.loc[(df['trim'].str.contains('package', case=False)), 'trim'] = 'special edition'\n",
    "    df.loc[(df['trim'].str.contains('edition', case=False)), 'trim'] = 'special edition'\n",
    "    df.loc[(df['trim'].str.contains('bluetec', case=False)), 'trim'] = 'bluetec'\n",
    "    df.loc[(df['trim'].str.contains('sulev', case=False)), 'trim'] = 'sulev'\n",
    "    df.loc[(df['trim'].str.contains('value', case=False)), 'trim'] = 'special edition'\n",
    "    df.loc[(df['trim'].str.contains('pzev', case=False)), 'trim'] = 'pzev'\n",
    "    df.loc[(df['trim'].str.contains('v8', case=False)), 'trim'] = 'v8'\n",
    "    df.loc[(df['trim'].str.contains('v6', case=False)), 'trim'] = 'v6'\n",
    "    df.loc[(df['trim'].str.contains('4x4', case=False)), 'trim'] = '4x4'\n",
    "    df.loc[(df['trim'].str.contains('awd', case=False)), 'trim'] = 'awd'\n",
    "    df.loc[(df['trim'].str.contains('fwd', case=False)), 'trim'] = 'fwd'\n",
    "    \n",
    "    df.loc[(df['trim'].str.contains('high roof', case=False)), 'trim'] = 'high roof'\n",
    "    df.loc[(df['trim'].str.contains('high ceiling', case=False)), 'trim'] = 'high roof'\n",
    "    df.loc[(df['trim'].str.contains('low roof', case=False)), 'trim'] = 'low roof'\n",
    "    \n",
    "     \n",
    "    return df\n",
    "\n",
    "\n",
    "#создаем функцию для преобразования столбка 'trim' в датасетах"
   ]
  },
  {
   "cell_type": "code",
   "execution_count": null,
   "metadata": {},
   "outputs": [],
   "source": [
    "train = change_trim_values(train)\n",
    "test = change_trim_values(test)\n",
    "# преобразуем столбец 'trim' в датасетах с помощью функции"
   ]
  },
  {
   "cell_type": "markdown",
   "metadata": {
    "papermill": {
     "duration": 0.024017,
     "end_time": "2023-04-03T06:22:05.542847",
     "exception": false,
     "start_time": "2023-04-03T06:22:05.518830",
     "status": "completed"
    },
    "tags": []
   },
   "source": [
    "#### Удаление неявных дубликатов в столбце body."
   ]
  },
  {
   "cell_type": "code",
   "execution_count": null,
   "metadata": {
    "execution": {
     "iopub.status.busy": "2023-04-08T14:04:10.497087Z",
     "iopub.status.idle": "2023-04-08T14:04:10.497709Z",
     "shell.execute_reply": "2023-04-08T14:04:10.497410Z",
     "shell.execute_reply.started": "2023-04-08T14:04:10.497378Z"
    },
    "papermill": {
     "duration": 0.19284,
     "end_time": "2023-04-03T06:22:05.759567",
     "exception": false,
     "start_time": "2023-04-03T06:22:05.566727",
     "status": "completed"
    },
    "tags": []
   },
   "outputs": [],
   "source": [
    "train['body'] = train['body'].str.lower()\n",
    "test['body'] = test['body'].str.lower()\n",
    "#приводим значения столбца к нижнему регистру в целях удаления части неявных дубликатов"
   ]
  },
  {
   "cell_type": "code",
   "execution_count": null,
   "metadata": {
    "execution": {
     "iopub.status.busy": "2023-04-08T14:04:10.499554Z",
     "iopub.status.idle": "2023-04-08T14:04:10.500137Z",
     "shell.execute_reply": "2023-04-08T14:04:10.499863Z",
     "shell.execute_reply.started": "2023-04-08T14:04:10.499833Z"
    },
    "papermill": {
     "duration": 0.073943,
     "end_time": "2023-04-03T06:22:05.859263",
     "exception": false,
     "start_time": "2023-04-03T06:22:05.785320",
     "status": "completed"
    },
    "tags": []
   },
   "outputs": [],
   "source": [
    "train['body'].unique()\n",
    "#выявляем оставшиеся неявные дубликаты"
   ]
  },
  {
   "cell_type": "code",
   "execution_count": null,
   "metadata": {
    "execution": {
     "iopub.status.busy": "2023-04-08T14:04:10.502481Z",
     "iopub.status.idle": "2023-04-08T14:04:10.503100Z",
     "shell.execute_reply": "2023-04-08T14:04:10.502829Z",
     "shell.execute_reply.started": "2023-04-08T14:04:10.502798Z"
    },
    "papermill": {
     "duration": 0.041476,
     "end_time": "2023-04-03T06:22:05.923795",
     "exception": false,
     "start_time": "2023-04-03T06:22:05.882319",
     "status": "completed"
    },
    "tags": []
   },
   "outputs": [],
   "source": [
    "test['body'].unique()\n",
    "#выявляем оставшиеся неявные дубликаты"
   ]
  },
  {
   "cell_type": "code",
   "execution_count": null,
   "metadata": {
    "execution": {
     "iopub.status.busy": "2023-04-08T14:04:10.504697Z",
     "iopub.status.idle": "2023-04-08T14:04:10.505324Z",
     "shell.execute_reply": "2023-04-08T14:04:10.505020Z",
     "shell.execute_reply.started": "2023-04-08T14:04:10.504988Z"
    },
    "papermill": {
     "duration": 1.477617,
     "end_time": "2023-04-03T06:22:07.423969",
     "exception": false,
     "start_time": "2023-04-03T06:22:05.946352",
     "status": "completed"
    },
    "tags": []
   },
   "outputs": [],
   "source": [
    "train = train.replace({'body':{'g sedan':'sedan'}})\n",
    "train = train.replace({'body':{'e-series van':'van', 'promaster cargo van':'van',\n",
    "                              'transit van':'van', 'ram van':'van'}})\n",
    "train = train.replace({'body':{'g coupe':'coupe', 'cts coupe':'coupe',\n",
    "                              'koup':'coupe', 'elantra coupe':'coupe',\n",
    "                              'genesis coupe':'coupe', 'g37 coupe':'coupe',\n",
    "                              'q60 coupe':'coupe', 'cts-v coupe':'coupe'}})\n",
    "train = train.replace({'body':{'tsx sport wagon':'wagon', 'cts wagon':'wagon',\n",
    "                              'cts-v wagon':'wagon'}})\n",
    "train = train.replace({'body':{'g convertible':'convertible', 'beetle convertible':'convertible',\n",
    "                              'g37 convertible':'convertible', 'q60 convertible':'convertible',\n",
    "                              'granturismo convertible':'convertible'}})\n",
    "train = train.replace({'body':{'extended cab':'pickup', 'regular cab':'pickup', 'supercrew':'pickup',\n",
    "                               'crew cab':'pickup', 'supercab':'pickup', 'access cab':'pickup',\n",
    "                               'quad cab':'pickup', 'king cab':'pickup', 'double cab':'pickup', \n",
    "                               'crewmax cab':'pickup', 'club cab':'pickup', 'mega cab':'pickup',\n",
    "                               'regular-cab':'pickup', 'xtracab':'pickup', 'cab plus 4':'pickup',\n",
    "                               'cab plus':'pickup'}})\n",
    "\n",
    "test = test.replace({'body':{'g sedan':'sedan'}})\n",
    "test = test.replace({'body':{'e-series van':'van', 'promaster cargo van':'van',\n",
    "                              'transit van':'van'}})\n",
    "test = test.replace({'body':{'g coupe':'coupe', 'cts coupe':'coupe',\n",
    "                              'koup':'coupe', 'elantra coupe':'coupe',\n",
    "                              'genesis coupe':'coupe', 'g37 coupe':'coupe',\n",
    "                              'q60 coupe':'coupe', 'cts-v coupe':'coupe'}})\n",
    "test = test.replace({'body':{'tsx sport wagon':'wagon', 'cts wagon':'wagon'}})\n",
    "test = test.replace({'body':{'g convertible':'convertible', 'beetle convertible':'convertible',\n",
    "                             'g37 convertible':'convertible', 'q60 convertible':'convertible',\n",
    "                             'granturismo convertible':'convertible'}})\n",
    "test = test.replace({'body':{'extended cab':'pickup', 'regular cab':'pickup', 'supercrew':'pickup',\n",
    "                             'supercab':'pickup', 'access cab':'pickup', 'quad cab':'pickup', \n",
    "                             'king cab':'pickup', 'double cab':'pickup', 'crewmax cab':'pickup',\n",
    "                             'club cab':'pickup', 'mega cab':'pickup', 'regular-cab':'pickup',\n",
    "                             'xtracab':'pickup', 'cab plus':'pickup', 'crew cab':'pickup'}})"
   ]
  },
  {
   "cell_type": "markdown",
   "metadata": {
    "papermill": {
     "duration": 0.021906,
     "end_time": "2023-04-03T06:22:07.468134",
     "exception": false,
     "start_time": "2023-04-03T06:22:07.446228",
     "status": "completed"
    },
    "tags": []
   },
   "source": [
    "#### Восполнение пробелов в столбце body на основе информации из столбца model."
   ]
  },
  {
   "cell_type": "code",
   "execution_count": null,
   "metadata": {
    "execution": {
     "iopub.status.busy": "2023-04-08T14:04:10.507884Z",
     "iopub.status.idle": "2023-04-08T14:04:10.508522Z",
     "shell.execute_reply": "2023-04-08T14:04:10.508214Z",
     "shell.execute_reply.started": "2023-04-08T14:04:10.508182Z"
    },
    "papermill": {
     "duration": 10.684916,
     "end_time": "2023-04-03T06:22:18.174904",
     "exception": false,
     "start_time": "2023-04-03T06:22:07.489988",
     "status": "completed"
    },
    "tags": []
   },
   "outputs": [],
   "source": [
    "train.loc[train['model'] == \"ram3500\", 'body'] = 'pickup'\n",
    "train.loc[train['model'] == \"tundra\", 'body'] = 'pickup'\n",
    "train.loc[train['model'] == \"s10\", 'body'] = 'pickup'\n",
    "train.loc[train['model'] == \"silverado 1500\", 'body'] = 'pickup'\n",
    "train.loc[train['model'] == \"sierra 1500\", 'body'] = 'pickup'\n",
    "train.loc[train['model'] == \"colorado\", 'body'] = 'pickup'\n",
    "train.loc[train['model'] == \"explorer\", 'body'] = 'suv'\n",
    "train.loc[train['model'] == \"expedition\", 'body'] = 'suv'\n",
    "train.loc[train['model'] == \"escape\", 'body'] = 'suv'\n",
    "train.loc[train['model'] == \"endeavor\", 'body'] = 'suv'\n",
    "train.loc[train['model'] == \"srx\", 'body'] = 'suv'\n",
    "train.loc[train['model'] == \"pilot\", 'body'] = 'suv'\n",
    "train.loc[train['model'] == \"lr3\", 'body'] = 'suv'\n",
    "train.loc[train['model'] == \"gx\", 'body'] = 'suv'\n",
    "train.loc[train['model'] == \"cx-7\", 'body'] = 'suv'\n",
    "train.loc[train['model'] == \"wrangler\", 'body'] = 'suv'\n",
    "train.loc[train['model'] == \"lx\", 'body'] = 'suv'\n",
    "train.loc[train['model'] == \"x-trail\", 'body'] = 'suv'\n",
    "train.loc[train['model'] == \"discovery\", 'body'] = 'suv'\n",
    "train.loc[train['model'] == \"range rover\", 'body'] = 'suv'\n",
    "train.loc[train['model'] == \"borrego\", 'body'] = 'suv'\n",
    "train.loc[train['model'] == \"compass\", 'body'] = 'suv'\n",
    "train.loc[(train['model'] == \"forester\") & (train['body'] == \"unknown\"), 'body'] = 'suv'\n",
    "train.loc[train['model'] == \"town&country\", 'body'] = 'minivan'\n",
    "train.loc[train['model'] == \"silhouette\", 'body'] = 'minivan'\n",
    "train.loc[train['model'] == \"caravan\", 'body'] = 'minivan'\n",
    "train.loc[train['model'] == \"villager\", 'body'] = 'minivan'\n",
    "train.loc[train['model'] == \"venture\", 'body'] = 'minivan'\n",
    "train.loc[train['model'] == \"e-350\", 'body'] = 'van'\n",
    "train.loc[train['model'] == \"uplander\", 'body'] = 'minivan'\n",
    "train.loc[train['model'] == \"mazda5\", 'body'] = 'minivan'\n",
    "train.loc[train['model'] == \"galant\", 'body'] = 'sedan'\n",
    "train.loc[(train['model'] == \"mazda6\") & (train['body'] == \"unknown\"), 'body'] = 'sedan'\n",
    "train.loc[(train['model'] == \"cobalt\") & (train['body'] == \"unknown\"), 'body'] = 'sedan'\n",
    "train.loc[train['model'] == \"750li\", 'body'] = 'sedan'\n",
    "train.loc[train['model'] == \"750i\", 'body'] = 'sedan'\n",
    "train.loc[train['model'] == \"rl\", 'body'] = 'sedan'\n",
    "train.loc[train['model'] == \"allure\", 'body'] = 'sedan'\n",
    "train.loc[train['model'] == \"stratus\", 'body'] = 'sedan'\n",
    "train.loc[train['model'] == \"rx8\", 'body'] = 'coupe'\n",
    "train.loc[train['model'] == \"pacifica\", 'body'] = 'wagon'\n",
    "train.loc[train['model'] == \"hhr\", 'body'] = 'wagon'\n",
    "train.loc[(train['model'] == \"corvette\") & (train['body'] == \"unknown\"), 'body'] = 'coupe'\n",
    "train.loc[(train['model'] == \"350z\") & (train['body'] == \"unknown\"), 'body'] = 'coupe'\n",
    "\n",
    "\n",
    "train.loc[train['model'] == \"mpv\", 'body'] = 'minivan'\n",
    "train.loc[train['model'] == \"routan\", 'body'] = 'minivan'\n",
    "train.loc[train['model'] == \"magnum\", 'body'] = 'wagon'\n",
    "train.loc[train['model'] == \"intrepid\", 'body'] = 'sedan'\n",
    "train.loc[(train['model'] == \"sebring\") & (train['body'] == \"unknown\"), 'body'] = 'sedan'\n",
    "train.loc[train['model'] == \"beetle\", 'body'] = 'hatchback'\n",
    "train.loc[train['model'] == \"durango\", 'body'] = 'suv'\n",
    "train.loc[train['model'] == \"grand caravan\", 'body'] = 'minivan'\n",
    "train.loc[train['model'] == \"dakota\", 'body'] = 'pickup'\n",
    "train.loc[train['model'] == \"windstar\", 'body'] = 'minivan'\n",
    "train.loc[train['model'] == \"c230wz\", 'body'] = 'sedan'\n",
    "train.loc[train['model'] == \"freestyle\", 'body'] = 'wagon'\n",
    "train.loc[train['model'] == \"grand cherokee\", 'body'] = 'suv'\n",
    "train.loc[train['model'] == \"alp\", 'body'] = 'sedan'\n",
    "train.loc[train['model'] == \"e-150\", 'body'] = 'van'\n",
    "train.loc[train['model'] == \"santa fe\", 'body'] = 'suv'\n",
    "train.loc[train['model'] == \"f-150\", 'body'] = 'pickup'\n",
    "train.loc[train['model'] == \"express\", 'body'] = 'van'\n",
    "train.loc[train['model'] == \"f-250\", 'body'] = 'pickup'\n",
    "train.loc[train['model'] == \"town&country\", 'body'] = 'minivan'\n",
    "train.loc[train['model'] == \"regal\", 'body'] = 'sedan'\n",
    "train.loc[train['model'] == \"odyssey\", 'body'] = 'minivan'\n",
    "train.loc[train['model'] == \"alero\", 'body'] = 'sedan'\n",
    "train.loc[train['model'] == \"astro\", 'body'] = 'minivan'\n",
    "train.loc[train['model'] == \"grand prix\", 'body'] = 'sedan'\n",
    "train.loc[train['model'] == \"sts\", 'body'] = 'sedan'\n",
    "train.loc[train['model'] == \"ram1500\", 'body'] = 'pickup'\n",
    "train.loc[(train['model'] == \"yaris\") & (train['body'] == \"unknown\"), 'body'] = 'hatchback'\n",
    "train.loc[train['model'] == \"sprinter\", 'body'] = 'van'\n",
    "train.loc[train['model'] == \"vibe\", 'body'] = 'hatchback'\n",
    "train.loc[train['model'] == \"journey\", 'body'] = 'suv'\n",
    "train.loc[train['model'] == \"bronco\", 'body'] = 'suv'\n",
    "train.loc[train['model'] == \"impala\", 'body'] = 'sedan'\n",
    "train.loc[train['model'] == \"malibu\", 'body'] = 'sedan'\n",
    "train.loc[train['model'] == \"ranger\", 'body'] = 'pickup'\n",
    "train.loc[train['model'] == \"dts\", 'body'] = 'sedan'\n",
    "train.loc[train['model'] == \"montana\", 'body'] = 'minivan'\n",
    "train.loc[train['model'] == \"silverado 2500\", 'body'] = 'pickup'\n",
    "train.loc[(train['model'] == \"rio\") & (train['body'] == \"unknown\"), 'body'] = 'sedan'\n",
    "train.loc[(train['model'] == \"911\") & (train['body'] == \"unknown\"), 'body'] = 'coupe'\n",
    "train.loc[train['model'] == \"tribute\", 'body'] = 'suv'\n",
    "train.loc[train['model'] == \"c240w\", 'body'] = 'sedan'\n",
    "train.loc[train['model'] == \"ridgelin\", 'body'] = 'pickup'\n",
    "train.loc[train['model'] == \"1 series\", 'body'] = 'hatchback'\n",
    "train.loc[train['model'] == \"el\", 'body'] = 'sedan'\n",
    "train.loc[train['model'] == \"jetta\", 'body'] = 'sedan'\n",
    "train.loc[train['model'] == \"f-350\", 'body'] = 'pickup'\n",
    "train.loc[train['model'] == \"sienna\", 'body'] = 'minivan'\n",
    "train.loc[train['model'] == \"elantra\", 'body'] = 'sedan'\n",
    "train.loc[train['model'] == \"patriot\", 'body'] = 'suv'\n",
    "train.loc[train['model'] == \"corolla\", 'body'] = 'sedan'\n",
    "train.loc[train['model'] == \"g5\", 'body'] = 'coupe'\n",
    "train.loc[(train['model'] == \"g6\") & (train['body'] == \"unknown\"), 'body'] = 'sedan'\n",
    "train.loc[train['model'] == \"e-250\", 'body'] = 'van'\n",
    "train.loc[train['model'] == \"previa\", 'body'] = 'minivan'\n",
    "train.loc[train['model'] == \"eurovan\", 'body'] = 'van'\n",
    "train.loc[train['model'] == \"focus\", 'body'] = 'sedan'\n",
    "train.loc[train['model'] == \"mkt\", 'body'] = 'wagon'\n",
    "train.loc[train['model'] == \"taurus\", 'body'] = 'sedan'\n",
    "train.loc[train['model'] == \"ciera\", 'body'] = 'sedan'\n",
    "train.loc[train['model'] == \"town car\", 'body'] = 'sedan'\n",
    "train.loc[train['model'] == \"a6\", 'body'] = 'sedan'\n",
    "train.loc[train['model'] == \"s55\", 'body'] = 'sedan'\n",
    "train.loc[train['model'] == \"suburban\", 'body'] = 'suv'\n",
    "train.loc[train['model'] == \"e300\", 'body'] = 'sedan'\n",
    "train.loc[train['model'] == \"police\", 'body'] = 'sedan'\n",
    "train.loc[train['model'] == \"thunderbird\", 'body'] = 'convertible'\n",
    "train.loc[(train['model'] == \"tt\") & (train['body'] == \"unknown\"), 'body'] = 'coupe'\n",
    "train.loc[train['model'] == \"charger\", 'body'] = 'sedan'\n",
    "train.loc[train['model'] == \"pathfinder\", 'body'] = 'suv'\n",
    "train.loc[train['model'] == \"civic\", 'body'] = 'sedan'\n",
    "train.loc[train['model'] == \"accord\", 'body'] = 'sedan'\n",
    "train.loc[(train['model'] == \"sonic\") & (train['body'] == \"unknown\"), 'body'] = 'hatchback'\n",
    "train.loc[train['model'] == \"x3\", 'body'] = 'suv'\n",
    "train.loc[train['model'] == \"quest\", 'body'] = 'minivan'\n",
    "train.loc[train['model'] == \"pursuit\", 'body'] = 'sedan'\n",
    "train.loc[train['model'] == \"lancer\", 'body'] = 'sedan'\n",
    "train.loc[train['model'] == \"grand marquis\", 'body'] = 'sedan'\n",
    "\n",
    "test.loc[test['model'] == \"ram3500\", 'body'] = 'pickup'\n",
    "test.loc[test['model'] == \"tundra\", 'body'] = 'pickup'\n",
    "test.loc[test['model'] == \"s10\", 'body'] = 'pickup'\n",
    "test.loc[test['model'] == \"silverado 1500\", 'body'] = 'pickup'\n",
    "test.loc[test['model'] == \"sierra 1500\", 'body'] = 'pickup'\n",
    "test.loc[test['model'] == \"colorado\", 'body'] = 'pickup'\n",
    "test.loc[test['model'] == \"explorer\", 'body'] = 'suv'\n",
    "test.loc[test['model'] == \"expedition\", 'body'] = 'suv'\n",
    "test.loc[test['model'] == \"escape\", 'body'] = 'suv'\n",
    "test.loc[test['model'] == \"endeavor\", 'body'] = 'suv'\n",
    "test.loc[test['model'] == \"srx\", 'body'] = 'suv'\n",
    "test.loc[test['model'] == \"pilot\", 'body'] = 'suv'\n",
    "test.loc[test['model'] == \"lr3\", 'body'] = 'suv'\n",
    "test.loc[test['model'] == \"gx\", 'body'] = 'suv'\n",
    "test.loc[test['model'] == \"cx-7\", 'body'] = 'suv'\n",
    "test.loc[test['model'] == \"wrangler\", 'body'] = 'suv'\n",
    "test.loc[test['model'] == \"lx\", 'body'] = 'suv'\n",
    "test.loc[test['model'] == \"x-trail\", 'body'] = 'suv'\n",
    "test.loc[test['model'] == \"discovery\", 'body'] = 'suv'\n",
    "test.loc[test['model'] == \"range rover\", 'body'] = 'suv'\n",
    "test.loc[test['model'] == \"borrego\", 'body'] = 'suv'\n",
    "test.loc[test['model'] == \"compass\", 'body'] = 'suv'\n",
    "test.loc[(test['model'] == \"forester\") & (test['body'] == \"unknown\"), 'body'] = 'suv'\n",
    "test.loc[test['model'] == \"town&country\", 'body'] = 'minivan'\n",
    "test.loc[test['model'] == \"silhouette\", 'body'] = 'minivan'\n",
    "test.loc[test['model'] == \"caravan\", 'body'] = 'minivan'\n",
    "test.loc[test['model'] == \"villager\", 'body'] = 'minivan'\n",
    "test.loc[test['model'] == \"venture\", 'body'] = 'minivan'\n",
    "test.loc[test['model'] == \"e-350\", 'body'] = 'van'\n",
    "test.loc[test['model'] == \"uplander\", 'body'] = 'minivan'\n",
    "test.loc[test['model'] == \"mazda5\", 'body'] = 'minivan'\n",
    "# test.loc[test['model'] == \"e-series\", 'body'] = 'van'\n",
    "test.loc[test['model'] == \"galant\", 'body'] = 'sedan'\n",
    "test.loc[(test['model'] == \"mazda6\") & (test['body'] == \"unknown\"), 'body'] = 'sedan'\n",
    "test.loc[(test['model'] == \"cobalt\") & (test['body'] == \"unknown\"), 'body'] = 'sedan'\n",
    "test.loc[test['model'] == \"750li\", 'body'] = 'sedan'\n",
    "test.loc[test['model'] == \"750i\", 'body'] = 'sedan'\n",
    "test.loc[test['model'] == \"rl\", 'body'] = 'sedan'\n",
    "test.loc[test['model'] == \"allure\", 'body'] = 'sedan'\n",
    "test.loc[test['model'] == \"stratus\", 'body'] = 'sedan'\n",
    "test.loc[test['model'] == \"rx8\", 'body'] = 'coupe'\n",
    "test.loc[test['model'] == \"pacifica\", 'body'] = 'wagon'\n",
    "test.loc[test['model'] == \"hhr\", 'body'] = 'wagon'\n",
    "test.loc[(test['model'] == \"corvette\") & (test['body'] == \"unknown\"), 'body'] = 'coupe'\n",
    "test.loc[(test['model'] == \"350z\") & (test['body'] == \"unknown\"), 'body'] = 'coupe'\n",
    "test.loc[test['model'] == \"ram1500\", 'body'] = 'pickup'\n",
    "test.loc[test['model'] == \"mpv\", 'body'] = 'minivan'\n",
    "test.loc[test['model'] == \"routan\", 'body'] = 'minivan'\n",
    "test.loc[test['model'] == \"magnum\", 'body'] = 'wagon'\n",
    "test.loc[test['model'] == \"intrepid\", 'body'] = 'sedan'\n",
    "test.loc[(test['model'] == \"sebring\") & (test['body'] == \"unknown\"), 'body'] = 'sedan'\n",
    "test.loc[test['model'] == \"beetle\", 'body'] = 'hatchback'\n",
    "test.loc[test['model'] == \"durango\", 'body'] = 'suv'\n",
    "test.loc[test['model'] == \"grand caravan\", 'body'] = 'minivan'\n",
    "test.loc[test['model'] == \"dakota\", 'body'] = 'pickup'\n",
    "test.loc[test['model'] == \"windstar\", 'body'] = 'minivan'\n",
    "test.loc[test['model'] == \"c230wz\", 'body'] = 'sedan'\n",
    "test.loc[test['model'] == \"freestyle\", 'body'] = 'wagon'\n",
    "test.loc[test['model'] == \"grand cherokee\", 'body'] = 'suv'\n",
    "test.loc[test['model'] == \"alp\", 'body'] = 'sedan'\n",
    "test.loc[test['model'] == \"e-150\", 'body'] = 'van'\n",
    "test.loc[test['model'] == \"santa fe\", 'body'] = 'suv'\n",
    "test.loc[test['model'] == \"f-150\", 'body'] = 'pickup'\n",
    "test.loc[test['model'] == \"express\", 'body'] = 'van'\n",
    "test.loc[test['model'] == \"f-250\", 'body'] = 'pickup'\n",
    "test.loc[test['model'] == \"town&country\", 'body'] = 'minivan'\n",
    "test.loc[test['model'] == \"regal\", 'body'] = 'sedan'\n",
    "test.loc[test['model'] == \"odyssey\", 'body'] = 'minivan'\n",
    "test.loc[test['model'] == \"alero\", 'body'] = 'sedan'\n",
    "test.loc[test['model'] == \"astro\", 'body'] = 'minivan'\n",
    "test.loc[test['model'] == \"grand prix\", 'body'] = 'sedan'\n",
    "test.loc[test['model'] == \"sts\", 'body'] = 'sedan'\n",
    "\n",
    "test.loc[(test['model'] == \"yaris\") & (test['body'] == \"unknown\"), 'body'] = 'hatchback'\n",
    "test.loc[test['model'] == \"sprinter\", 'body'] = 'van'\n",
    "test.loc[test['model'] == \"vibe\", 'body'] = 'hatchback'\n",
    "test.loc[test['model'] == \"journey\", 'body'] = 'suv'\n",
    "test.loc[test['model'] == \"bronco\", 'body'] = 'suv'\n",
    "test.loc[test['model'] == \"impala\", 'body'] = 'sedan'\n",
    "test.loc[test['model'] == \"malibu\", 'body'] = 'sedan'\n",
    "test.loc[test['model'] == \"ranger\", 'body'] = 'pickup'\n",
    "test.loc[test['model'] == \"dts\", 'body'] = 'sedan'\n",
    "test.loc[test['model'] == \"montana\", 'body'] = 'minivan'\n",
    "test.loc[test['model'] == \"silverado 2500\", 'body'] = 'pickup'\n",
    "test.loc[(test['model'] == \"rio\") & (test['body'] == \"unknown\"), 'body'] = 'sedan'\n",
    "test.loc[(test['model'] == \"911\") & (test['body'] == \"unknown\"), 'body'] = 'coupe'\n",
    "test.loc[test['model'] == \"tribute\", 'body'] = 'suv'\n",
    "test.loc[test['model'] == \"c240w\", 'body'] = 'sedan'\n",
    "test.loc[test['model'] == \"ridgelin\", 'body'] = 'pickup'\n",
    "test.loc[test['model'] == \"1 series\", 'body'] = 'hatchback'\n",
    "test.loc[test['model'] == \"el\", 'body'] = 'sedan'\n",
    "test.loc[test['model'] == \"jetta\", 'body'] = 'sedan'\n",
    "test.loc[test['model'] == \"f-350\", 'body'] = 'pickup'\n",
    "test.loc[test['model'] == \"sienna\", 'body'] = 'minivan'\n",
    "test.loc[test['model'] == \"elantra\", 'body'] = 'sedan'\n",
    "test.loc[test['model'] == \"patriot\", 'body'] = 'suv'\n",
    "test.loc[test['model'] == \"corolla\", 'body'] = 'sedan'\n",
    "test.loc[test['model'] == \"g5\", 'body'] = 'coupe'\n",
    "test.loc[(test['model'] == \"g6\") & (test['body'] == \"unknown\"), 'body'] = 'sedan'\n",
    "test.loc[test['model'] == \"e-250\", 'body'] = 'van'\n",
    "test.loc[test['model'] == \"previa\", 'body'] = 'minivan'\n",
    "test.loc[test['model'] == \"eurovan\", 'body'] = 'van'\n",
    "test.loc[test['model'] == \"focus\", 'body'] = 'sedan'\n",
    "test.loc[test['model'] == \"mkt\", 'body'] = 'wagon'\n",
    "test.loc[test['model'] == \"taurus\", 'body'] = 'sedan'\n",
    "test.loc[test['model'] == \"ciera\", 'body'] = 'sedan'\n",
    "test.loc[test['model'] == \"town car\", 'body'] = 'sedan'\n",
    "test.loc[test['model'] == \"a6\", 'body'] = 'sedan'\n",
    "test.loc[test['model'] == \"s55\", 'body'] = 'sedan'\n",
    "test.loc[test['model'] == \"suburban\", 'body'] = 'suv'\n",
    "test.loc[test['model'] == \"e300\", 'body'] = 'sedan'\n",
    "test.loc[test['model'] == \"police\", 'body'] = 'sedan'\n",
    "test.loc[test['model'] == \"thunderbird\", 'body'] = 'convertible'\n",
    "test.loc[(test['model'] == \"tt\") & (test['body'] == \"unknown\"), 'body'] = 'coupe'\n",
    "test.loc[test['model'] == \"charger\", 'body'] = 'sedan'\n",
    "test.loc[test['model'] == \"pathfinder\", 'body'] = 'suv'\n",
    "test.loc[test['model'] == \"civic\", 'body'] = 'sedan'\n",
    "test.loc[test['model'] == \"accord\", 'body'] = 'sedan'\n",
    "test.loc[(test['model'] == \"sonic\") & (test['body'] == \"unknown\"), 'body'] = 'hatchback'\n",
    "test.loc[test['model'] == \"x3\", 'body'] = 'suv'\n",
    "test.loc[test['model'] == \"quest\", 'body'] = 'minivan'\n",
    "test.loc[test['model'] == \"pursuit\", 'body'] = 'sedan'\n",
    "test.loc[test['model'] == \"lancer\", 'body'] = 'sedan'\n",
    "test.loc[test['model'] == \"grand marquis\", 'body'] = 'sedan'\n",
    "\n",
    "train.loc[(train['model'] == \"matrix\") & (train['body'] == \"unknown\"), 'body'] = 'wagon'\n",
    "train.loc[(train['model'] == \"camaro\") & (train['body'] == \"unknown\"), 'body'] = 'coupe'\n",
    "train.loc[train['model'] == \"excursion\", 'body'] = 'suv'\n",
    "train.loc[train['model'] == \"century\", 'body'] = 'sedan'\n",
    "train.loc[(train['model'] == \"passat\") & (train['body'] == \"unknown\"), 'body'] = 'sedan'\n",
    "\n",
    "train.loc[train['model'] == \"e300dt\", 'body'] = 'sedan'\n",
    "train.loc[(train['model'] == \"mazda3\") & (train['body'] == \"unknown\"), 'body'] = 'sedan'\n",
    "train.loc[train['model'] == \"300\", 'body'] = 'sedan'\n",
    "train.loc[(train['model'] == \"a4\") & (train['body'] == \"unknown\"), 'body'] = 'sedan'\n",
    "train.loc[train['model'] == \"crown victoria\", 'body'] = 'sedan'\n",
    "train.loc[train['model'] == \"avalon\", 'body'] = 'sedan'\n",
    "train.loc[train['model'] == \"grand vitara\", 'body'] = 'suv'\n",
    "train.loc[train['model'] == \"g55\", 'body'] = 'suv'\n",
    "train.loc[(train['model'] == \"pt cruiser\") & (train['body'] == \"unknown\"), 'body'] = 'wagon'\n",
    "train.loc[train['model'] == \"concorde\", 'body'] = 'sedan'\n",
    "train.loc[train['model'] == \"grand am\", 'body'] = 'sedan'\n",
    "train.loc[train['model'] == \"grand voyager\", 'body'] = 'minivan'\n",
    "train.loc[train['model'] == \"voyager\", 'body'] = 'minivan'\n",
    "train.loc[train['model'] == \"mountaineer\", 'body'] = 'suv'\n",
    "train.loc[(train['model'] == \"outback\") & (train['body'] == \"unknown\"), 'body'] = 'wagon'\n",
    "train.loc[train['model'] == \"swift\", 'body'] = 'hatchback'\n",
    "train.loc[train['model'] == \"fortwo\", 'body'] = 'hatchback'\n",
    "train.loc[train['model'] == \"equinox\", 'body'] = 'suv'\n",
    "train.loc[train['model'] == \"cl55\", 'body'] = 'coupe'\n",
    "train.loc[train['model'] == \"rainier\", 'body'] = 'suv'\n",
    "train.loc[train['model'] == \"750li\", 'body'] = 'sedan'\n",
    "train.loc[train['model'] == \"savana\", 'body'] = 'van'\n",
    "train.loc[(train['model'] == \"crossfire\") & (train['body'] == \"unknown\"), 'body'] = 'hatchback'\n",
    "train.loc[train['model'] == \"quattroporte\", 'body'] = 'sedan'\n",
    "train.loc[train['model'] == \"sportage\", 'body'] = 'suv'\n",
    "train.loc[(train['model'] == \"cavalier\") & (train['body'] == \"unknown\"), 'body'] = 'sedan'\n",
    "train.loc[train['model'] == \"safari\", 'body'] = 'minivan'\n",
    "train.loc[train['model'] == \"camry\", 'body'] = 'sedan'\n",
    "train.loc[train['model'] == \"sl55\", 'body'] = 'coupe'\n",
    "train.loc[train['model'] == \"neon\", 'body'] = 'sedan'\n",
    "train.loc[train['model'] == \"carrera\", 'body'] = 'coupe'\n",
    "train.loc[train['model'] == \"sonoma\", 'body'] = 'pickup'\n",
    "train.loc[(train['model'] == \"sx4\") & (train['body'] == \"unknown\"), 'body'] = 'sedan'\n",
    "train.loc[train['model'] == \"hilux\", 'body'] = 'pickup'\n",
    "train.loc[train['model'] == \"sierra 2500\", 'body'] = 'pickup'\n",
    "train.loc[train['model'] == \"b200\", 'body'] = 'hatchback'\n",
    "train.loc[(train['model'] == \"golf\") & (train['body'] == \"unknown\"), 'body'] = 'hatchback'\n",
    "train.loc[train['model'] == \"tahoe\", 'body'] = 'suv'\n",
    "train.loc[train['model'] == \"optra\", 'body'] = 'sedan'\n",
    "train.loc[train['model'] == \"yukon\", 'body'] = 'suv'\n",
    "train.loc[train['model'] == \"captiva\", 'body'] = 'suv'\n",
    "train.loc[(train['model'] == \"cougar\") & (train['body'] == \"unknown\"), 'body'] = 'coupe'\n",
    "train.loc[train['model'] == \"328i\", 'body'] = 'sedan'\n",
    "train.loc[train['model'] == \"c230\", 'body'] = 'sedan'\n",
    "train.loc[train['model'] == \"range rover sport\", 'body'] = 'suv'\n",
    "train.loc[train['model'] == \"optima\", 'body'] = 'sedan'\n",
    "train.loc[train['model'] == \"lumina\", 'body'] = 'sedan'\n",
    "train.loc[train['model'] == \"323i\", 'body'] = 'sedan'\n",
    "train.loc[train['model'] == \"wave\", 'body'] = 'hatchback'\n",
    "train.loc[train['model'] == \"420sel\", 'body'] = 'sedan'\n",
    "train.loc[(train['model'] == \"aveo\") & (train['body'] == \"unknown\"), 'body'] = 'sedan'\n",
    "train.loc[train['model'] == \"cruze\", 'body'] = 'sedan'\n",
    "train.loc[train['model'] == \"7 series\", 'body'] = 'sedan'\n",
    "train.loc[train['model'] == \"breeze\", 'body'] = 'sedan'\n",
    "train.loc[train['model'] == \"c240s\", 'body'] = 'sedan'\n",
    "train.loc[(train['model'] == \"200\") & (train['body'] == \"unknown\"), 'body'] = 'sedan'\n",
    "train.loc[train['model'] == \"corsica\", 'body'] = 'sedan'\n",
    "train.loc[train['model'] == \"lacrosse\", 'body'] = 'sedan'\n",
    "train.loc[(train['model'] == \"versa\") & (train['body'] == \"unknown\"), 'body'] = 'sedan'\n",
    "train.loc[train['model'] == \"silverado 3500\", 'body'] = 'pickup'\n",
    "train.loc[train['model'] == \"avenger\", 'body'] = 'sedan'\n",
    "train.loc[train['model'] == \"tucson\", 'body'] = 'suv'\n",
    "train.loc[train['model'] == \"g500\", 'body'] = 'suv'\n",
    "train.loc[train['model'] == \"intrigue\", 'body'] = 'sedan'\n",
    "\n",
    "train.loc[train['model'] == \"320i\", 'body'] = 'sedan'\n",
    "train.loc[train['model'] == \"express cargo 4x2\", 'body'] = 'van'\n",
    "train.loc[train['model'] == \"express cutaway\", 'body'] = 'van'\n",
    "train.loc[train['model'] == \"express cargo 4x2 upfitter\", 'body'] = 'van'\n",
    "train.loc[train['model'] == \"escalade\", 'body'] = 'suv'\n",
    "train.loc[train['model'] == \"wagon v8\", 'body'] = 'wagon'\n",
    "train.loc[train['model'] == \"sierra 2500hd\", 'body'] = 'pickup'\n",
    "train.loc[train['model'] == \"sierra 2500hd\", 'body'] = 'pickup'\n",
    "train.loc[train['model'] == \"express pass 4x2\", 'body'] = 'van'\n",
    "test.loc[test['model'] == \"wagon v8\", 'body'] = 'wagon'\n",
    "test.loc[test['model'] == \"m\", 'body'] = 'sedan'\n"
   ]
  },
  {
   "cell_type": "markdown",
   "metadata": {
    "papermill": {
     "duration": 0.021918,
     "end_time": "2023-04-03T06:22:18.220110",
     "exception": false,
     "start_time": "2023-04-03T06:22:18.198192",
     "status": "completed"
    },
    "tags": []
   },
   "source": [
    "#### Удаление неявных дубликатов в столбце body_сolor."
   ]
  },
  {
   "cell_type": "code",
   "execution_count": null,
   "metadata": {
    "execution": {
     "iopub.status.busy": "2023-04-08T14:04:10.511015Z",
     "iopub.status.idle": "2023-04-08T14:04:10.511660Z",
     "shell.execute_reply": "2023-04-08T14:04:10.511358Z",
     "shell.execute_reply.started": "2023-04-08T14:04:10.511324Z"
    },
    "papermill": {
     "duration": 0.067204,
     "end_time": "2023-04-03T06:22:18.309483",
     "exception": false,
     "start_time": "2023-04-03T06:22:18.242279",
     "status": "completed"
    },
    "tags": []
   },
   "outputs": [],
   "source": [
    "train['body_color'].unique()\n",
    "#выводим список уникальных значений столбца"
   ]
  },
  {
   "cell_type": "code",
   "execution_count": null,
   "metadata": {
    "execution": {
     "iopub.status.busy": "2023-04-08T14:04:10.512998Z",
     "iopub.status.idle": "2023-04-08T14:04:10.513623Z",
     "shell.execute_reply": "2023-04-08T14:04:10.513320Z",
     "shell.execute_reply.started": "2023-04-08T14:04:10.513289Z"
    },
    "papermill": {
     "duration": 0.039632,
     "end_time": "2023-04-03T06:22:18.371797",
     "exception": false,
     "start_time": "2023-04-03T06:22:18.332165",
     "status": "completed"
    },
    "tags": []
   },
   "outputs": [],
   "source": [
    "test['body_color'].unique()\n",
    "#выводим список уникальных значений столбца"
   ]
  },
  {
   "cell_type": "code",
   "execution_count": null,
   "metadata": {
    "execution": {
     "iopub.status.busy": "2023-04-08T14:04:10.515460Z",
     "iopub.status.idle": "2023-04-08T14:04:10.516051Z",
     "shell.execute_reply": "2023-04-08T14:04:10.515786Z",
     "shell.execute_reply.started": "2023-04-08T14:04:10.515755Z"
    },
    "papermill": {
     "duration": 0.12578,
     "end_time": "2023-04-03T06:22:18.520547",
     "exception": false,
     "start_time": "2023-04-03T06:22:18.394767",
     "status": "completed"
    },
    "tags": []
   },
   "outputs": [],
   "source": [
    "train = train.replace({'body_color':{'—':'unknown'}})\n",
    "test = test.replace({'body_color':{'—':'unknown'}})"
   ]
  },
  {
   "cell_type": "markdown",
   "metadata": {
    "papermill": {
     "duration": 0.022172,
     "end_time": "2023-04-03T06:22:18.565423",
     "exception": false,
     "start_time": "2023-04-03T06:22:18.543251",
     "status": "completed"
    },
    "tags": []
   },
   "source": [
    "#### Удаление неявных дубликатов в столбце interior_сolor."
   ]
  },
  {
   "cell_type": "code",
   "execution_count": null,
   "metadata": {
    "execution": {
     "iopub.status.busy": "2023-04-08T14:04:10.517743Z",
     "iopub.status.idle": "2023-04-08T14:04:10.518318Z",
     "shell.execute_reply": "2023-04-08T14:04:10.518039Z",
     "shell.execute_reply.started": "2023-04-08T14:04:10.518009Z"
    },
    "papermill": {
     "duration": 0.059144,
     "end_time": "2023-04-03T06:22:18.647165",
     "exception": false,
     "start_time": "2023-04-03T06:22:18.588021",
     "status": "completed"
    },
    "tags": []
   },
   "outputs": [],
   "source": [
    "train['interior_color'].unique()"
   ]
  },
  {
   "cell_type": "code",
   "execution_count": null,
   "metadata": {
    "execution": {
     "iopub.status.busy": "2023-04-08T14:04:10.520800Z",
     "iopub.status.idle": "2023-04-08T14:04:10.521308Z",
     "shell.execute_reply": "2023-04-08T14:04:10.521116Z",
     "shell.execute_reply.started": "2023-04-08T14:04:10.521093Z"
    },
    "papermill": {
     "duration": 0.039908,
     "end_time": "2023-04-03T06:22:18.709683",
     "exception": false,
     "start_time": "2023-04-03T06:22:18.669775",
     "status": "completed"
    },
    "tags": []
   },
   "outputs": [],
   "source": [
    "test['interior_color'].unique()"
   ]
  },
  {
   "cell_type": "code",
   "execution_count": null,
   "metadata": {
    "execution": {
     "iopub.status.busy": "2023-04-08T14:04:10.522969Z",
     "iopub.status.idle": "2023-04-08T14:04:10.523401Z",
     "shell.execute_reply": "2023-04-08T14:04:10.523212Z",
     "shell.execute_reply.started": "2023-04-08T14:04:10.523191Z"
    },
    "papermill": {
     "duration": 0.128415,
     "end_time": "2023-04-03T06:22:18.860396",
     "exception": false,
     "start_time": "2023-04-03T06:22:18.731981",
     "status": "completed"
    },
    "tags": []
   },
   "outputs": [],
   "source": [
    "train = train.replace({'interior_color':{'—':'unknown'}})\n",
    "test = test.replace({'interior_color':{'—':'unknown'}})"
   ]
  },
  {
   "cell_type": "markdown",
   "metadata": {
    "papermill": {
     "duration": 0.022335,
     "end_time": "2023-04-03T06:22:18.906185",
     "exception": false,
     "start_time": "2023-04-03T06:22:18.883850",
     "status": "completed"
    },
    "tags": []
   },
   "source": [
    "### Изменение типа данных в столбце sale_date и извлечение из него новых признаков."
   ]
  },
  {
   "cell_type": "code",
   "execution_count": null,
   "metadata": {
    "execution": {
     "iopub.status.busy": "2023-04-08T14:04:10.524715Z",
     "iopub.status.idle": "2023-04-08T14:04:10.525424Z",
     "shell.execute_reply": "2023-04-08T14:04:10.525228Z",
     "shell.execute_reply.started": "2023-04-08T14:04:10.525202Z"
    },
    "papermill": {
     "duration": 1.233182,
     "end_time": "2023-04-03T06:22:20.162087",
     "exception": false,
     "start_time": "2023-04-03T06:22:18.928905",
     "status": "completed"
    },
    "tags": []
   },
   "outputs": [],
   "source": [
    "train['sale_date']= pd.to_datetime(train['sale_date'], exact=False, utc=True)\n",
    "test['sale_date']= pd.to_datetime(test['sale_date'], exact=False, utc=True)\n",
    "# преобразуем тип данных"
   ]
  },
  {
   "cell_type": "code",
   "execution_count": null,
   "metadata": {
    "execution": {
     "iopub.status.busy": "2023-04-08T14:04:10.526715Z",
     "iopub.status.idle": "2023-04-08T14:04:10.527098Z",
     "shell.execute_reply": "2023-04-08T14:04:10.526932Z",
     "shell.execute_reply.started": "2023-04-08T14:04:10.526904Z"
    },
    "papermill": {
     "duration": 0.274519,
     "end_time": "2023-04-03T06:22:20.459755",
     "exception": false,
     "start_time": "2023-04-03T06:22:20.185236",
     "status": "completed"
    },
    "tags": []
   },
   "outputs": [],
   "source": [
    "train['sale_year']= pd.DatetimeIndex(train['sale_date']).year\n",
    "train['sale_month']= pd.DatetimeIndex(train['sale_date']).month\n",
    "train['sale_weekday']= pd.DatetimeIndex(train['sale_date']).weekday\n",
    "test['sale_year']= pd.DatetimeIndex(test['sale_date']).year\n",
    "test['sale_month']= pd.DatetimeIndex(test['sale_date']).month\n",
    "test['sale_weekday']= pd.DatetimeIndex(test['sale_date']).weekday\n",
    "train = train.drop(['sale_date'], axis=1)\n",
    "test = test.drop(['sale_date'], axis=1)\n",
    "#создаем столбцы с днем недели, годом и месяцем сделки и исключаем столбец с датой сделки."
   ]
  },
  {
   "cell_type": "markdown",
   "metadata": {},
   "source": [
    "### Добавляем синтетический признак - возраст авто в момент продажи."
   ]
  },
  {
   "cell_type": "code",
   "execution_count": null,
   "metadata": {},
   "outputs": [],
   "source": [
    "train['car_age'] = train['sale_year']-train['production_year']\n",
    "test['car_age'] = test['sale_year']-test['production_year']"
   ]
  },
  {
   "cell_type": "code",
   "execution_count": null,
   "metadata": {},
   "outputs": [],
   "source": [
    "train.query('car_age < 0').head(10)\n",
    "#выявляем аномальные значения"
   ]
  },
  {
   "cell_type": "code",
   "execution_count": null,
   "metadata": {},
   "outputs": [],
   "source": [
    "test.query('car_age < 0').info()\n",
    "#выявляем аномальные значения"
   ]
  },
  {
   "cell_type": "code",
   "execution_count": null,
   "metadata": {},
   "outputs": [],
   "source": [
    "train.loc[(train['car_age'] == -1), 'sale_year'] = 2015\n",
    "train.loc[(train['car_age'] == -1), 'car_age'] = 0\n",
    "test.loc[(test['car_age'] == -1), 'sale_year'] = 2015\n",
    "test.loc[(test['car_age'] == -1), 'car_age'] = 0\n",
    "#исправляем аномальные значения"
   ]
  },
  {
   "cell_type": "markdown",
   "metadata": {},
   "source": [
    "## Выводим матрицу корреляции признаков обучающего датасета после предобработки."
   ]
  },
  {
   "cell_type": "code",
   "execution_count": null,
   "metadata": {},
   "outputs": [],
   "source": [
    "corr_matrix = phik_matrix(train)\n",
    "sns.heatmap(corr_matrix, cmap='coolwarm')"
   ]
  },
  {
   "cell_type": "markdown",
   "metadata": {
    "papermill": {
     "duration": 0.023152,
     "end_time": "2023-04-03T06:22:21.477570",
     "exception": false,
     "start_time": "2023-04-03T06:22:21.454418",
     "status": "completed"
    },
    "tags": []
   },
   "source": [
    "## Обучаем модель Catboost."
   ]
  },
  {
   "cell_type": "code",
   "execution_count": null,
   "metadata": {
    "execution": {
     "iopub.status.busy": "2023-04-08T14:04:10.528452Z",
     "iopub.status.idle": "2023-04-08T14:04:10.528855Z",
     "shell.execute_reply": "2023-04-08T14:04:10.528681Z",
     "shell.execute_reply.started": "2023-04-08T14:04:10.528661Z"
    },
    "papermill": {
     "duration": 0.083223,
     "end_time": "2023-04-03T06:22:21.584194",
     "exception": false,
     "start_time": "2023-04-03T06:22:21.500971",
     "status": "completed"
    },
    "tags": []
   },
   "outputs": [],
   "source": [
    "train.select_dtypes(include='object').columns"
   ]
  },
  {
   "cell_type": "code",
   "execution_count": null,
   "metadata": {
    "execution": {
     "iopub.status.busy": "2023-04-08T14:04:10.529911Z",
     "iopub.status.idle": "2023-04-08T14:04:10.530336Z",
     "shell.execute_reply": "2023-04-08T14:04:10.530169Z",
     "shell.execute_reply.started": "2023-04-08T14:04:10.530148Z"
    },
    "papermill": {
     "duration": 0.044292,
     "end_time": "2023-04-03T06:22:21.652848",
     "exception": false,
     "start_time": "2023-04-03T06:22:21.608556",
     "status": "completed"
    },
    "tags": []
   },
   "outputs": [],
   "source": [
    "train.select_dtypes(exclude='object').columns"
   ]
  },
  {
   "cell_type": "code",
   "execution_count": null,
   "metadata": {
    "execution": {
     "iopub.status.busy": "2023-04-08T14:04:10.531603Z",
     "iopub.status.idle": "2023-04-08T14:04:10.531994Z",
     "shell.execute_reply": "2023-04-08T14:04:10.531810Z",
     "shell.execute_reply.started": "2023-04-08T14:04:10.531791Z"
    },
    "papermill": {
     "duration": 0.03322,
     "end_time": "2023-04-03T06:22:21.710430",
     "exception": false,
     "start_time": "2023-04-03T06:22:21.677210",
     "status": "completed"
    },
    "tags": []
   },
   "outputs": [],
   "source": [
    "target = 'selling_price'\n",
    "categorical_features = ['manufacturer', 'model', 'trim', 'body', 'gearbox_type', 'state', 'body_color', 'interior_color']\n",
    "numerical_features = ['production_year', 'condition', 'mileage', 'sale_year', 'sale_month', 'sale_weekday', 'car_age']\n",
    "features = categorical_features + numerical_features\n",
    "print(features)"
   ]
  },
  {
   "cell_type": "code",
   "execution_count": null,
   "metadata": {
    "execution": {
     "iopub.status.busy": "2023-04-08T14:04:10.533276Z",
     "iopub.status.idle": "2023-04-08T14:04:10.533666Z",
     "shell.execute_reply": "2023-04-08T14:04:10.533481Z",
     "shell.execute_reply.started": "2023-04-08T14:04:10.533462Z"
    },
    "papermill": {
     "duration": 0.047869,
     "end_time": "2023-04-03T06:22:21.781934",
     "exception": false,
     "start_time": "2023-04-03T06:22:21.734065",
     "status": "completed"
    },
    "tags": []
   },
   "outputs": [],
   "source": [
    "test = test[['manufacturer', 'model', 'trim', 'body', 'gearbox_type', \n",
    "      'state', 'body_color', 'interior_color', 'production_year', \n",
    "      'condition', 'mileage', 'sale_year', 'sale_month', 'sale_weekday', 'car_age']]\n",
    "#изменяем порядок столбцов в тестовом датасете для синхронизации с features"
   ]
  },
  {
   "cell_type": "code",
   "execution_count": null,
   "metadata": {
    "execution": {
     "iopub.status.busy": "2023-04-08T14:04:10.534771Z",
     "iopub.status.idle": "2023-04-08T14:04:10.535154Z",
     "shell.execute_reply": "2023-04-08T14:04:10.534984Z",
     "shell.execute_reply.started": "2023-04-08T14:04:10.534964Z"
    },
    "papermill": {
     "duration": 0.311268,
     "end_time": "2023-04-03T06:22:22.117894",
     "exception": false,
     "start_time": "2023-04-03T06:22:21.806626",
     "status": "completed"
    },
    "tags": []
   },
   "outputs": [],
   "source": [
    "train_data = train.sample(frac=0.8, random_state=42)\n",
    "val_data = train.drop(train_data.index)"
   ]
  },
  {
   "cell_type": "code",
   "execution_count": null,
   "metadata": {
    "execution": {
     "iopub.status.busy": "2023-04-08T14:04:10.536724Z",
     "iopub.status.idle": "2023-04-08T14:04:10.537157Z",
     "shell.execute_reply": "2023-04-08T14:04:10.536984Z",
     "shell.execute_reply.started": "2023-04-08T14:04:10.536915Z"
    },
    "papermill": {
     "duration": 0.88558,
     "end_time": "2023-04-03T06:22:23.028208",
     "exception": false,
     "start_time": "2023-04-03T06:22:22.142628",
     "status": "completed"
    },
    "tags": []
   },
   "outputs": [],
   "source": [
    "train_dataset = Pool(train_data[features], train_data[target], cat_features=categorical_features)\n",
    "val_dataset = Pool(val_data[features], val_data[target], cat_features=categorical_features)"
   ]
  },
  {
   "cell_type": "code",
   "execution_count": null,
   "metadata": {
    "execution": {
     "iopub.status.busy": "2023-04-08T14:04:10.539296Z",
     "iopub.status.idle": "2023-04-08T14:04:10.539761Z",
     "shell.execute_reply": "2023-04-08T14:04:10.539559Z",
     "shell.execute_reply.started": "2023-04-08T14:04:10.539526Z"
    },
    "papermill": {
     "duration": 0.034006,
     "end_time": "2023-04-03T06:22:23.086257",
     "exception": false,
     "start_time": "2023-04-03T06:22:23.052251",
     "status": "completed"
    },
    "tags": []
   },
   "outputs": [],
   "source": [
    "model = CatBoostRegressor(\n",
    "    loss_function='RMSE',\n",
    "    cat_features=categorical_features,\n",
    "    eval_metric='MAPE',\n",
    "    random_seed=42,\n",
    "    iterations=5000,\n",
    "    learning_rate=0.15,\n",
    "    depth=11,\n",
    "    l2_leaf_reg=6\n",
    ")\n",
    "# параметры модели были подобраны с помощью библиотеки optuna"
   ]
  },
  {
   "cell_type": "code",
   "execution_count": null,
   "metadata": {
    "execution": {
     "iopub.status.busy": "2023-04-08T14:04:10.542714Z",
     "iopub.status.idle": "2023-04-08T14:04:10.543091Z",
     "shell.execute_reply": "2023-04-08T14:04:10.542917Z",
     "shell.execute_reply.started": "2023-04-08T14:04:10.542898Z"
    },
    "papermill": {
     "duration": 0.032782,
     "end_time": "2023-04-03T06:22:23.142660",
     "exception": false,
     "start_time": "2023-04-03T06:22:23.109878",
     "status": "completed"
    },
    "tags": []
   },
   "outputs": [],
   "source": [
    "# def objective(trial):\n",
    "#     params = {\n",
    "#         'loss_function': 'RMSE',\n",
    "#         'eval_metric': 'MAPE',\n",
    "#         'cat_features': categorical_features,\n",
    "#         'random_seed': 42,\n",
    "#         'iterations': 2000,\n",
    "#         'learning_rate': trial.suggest_categorical('learning_rate', [0.15, 0.17]),\n",
    "#         'depth': trial.suggest_int('depth', 10, 12),\n",
    "#         'l2_leaf_reg': trial.suggest_int('l2_leaf_reg', 5, 7)\n",
    "#             }\n",
    "    \n",
    "#     model = CatBoostRegressor(**params)\n",
    "#     model.fit(train_dataset, eval_set=val_dataset, verbose=100)\n",
    "#     mape = model.best_score_['validation']['MAPE']\n",
    "#     return mape\n"
   ]
  },
  {
   "cell_type": "code",
   "execution_count": null,
   "metadata": {
    "execution": {
     "iopub.status.busy": "2023-04-08T14:04:10.546716Z",
     "iopub.status.idle": "2023-04-08T14:04:10.547123Z",
     "shell.execute_reply": "2023-04-08T14:04:10.546943Z",
     "shell.execute_reply.started": "2023-04-08T14:04:10.546922Z"
    },
    "papermill": {
     "duration": 0.03155,
     "end_time": "2023-04-03T06:22:23.198122",
     "exception": false,
     "start_time": "2023-04-03T06:22:23.166572",
     "status": "completed"
    },
    "tags": []
   },
   "outputs": [],
   "source": [
    "# study = optuna.create_study(direction='minimize')\n",
    "# study.optimize(objective, n_trials=50)"
   ]
  },
  {
   "cell_type": "code",
   "execution_count": null,
   "metadata": {
    "execution": {
     "iopub.status.busy": "2023-04-08T14:04:10.548681Z",
     "iopub.status.idle": "2023-04-08T14:04:10.549068Z",
     "shell.execute_reply": "2023-04-08T14:04:10.548892Z",
     "shell.execute_reply.started": "2023-04-08T14:04:10.548872Z"
    },
    "papermill": {
     "duration": 0.036185,
     "end_time": "2023-04-03T06:22:23.259210",
     "exception": false,
     "start_time": "2023-04-03T06:22:23.223025",
     "status": "completed"
    },
    "tags": []
   },
   "outputs": [],
   "source": [
    "# best_params = study.best_params"
   ]
  },
  {
   "cell_type": "code",
   "execution_count": null,
   "metadata": {
    "execution": {
     "iopub.status.busy": "2023-04-08T14:04:10.552878Z",
     "iopub.status.idle": "2023-04-08T14:04:10.553305Z",
     "shell.execute_reply": "2023-04-08T14:04:10.553124Z",
     "shell.execute_reply.started": "2023-04-08T14:04:10.553103Z"
    },
    "papermill": {
     "duration": 0.032412,
     "end_time": "2023-04-03T06:22:23.316542",
     "exception": false,
     "start_time": "2023-04-03T06:22:23.284130",
     "status": "completed"
    },
    "tags": []
   },
   "outputs": [],
   "source": [
    "# print(best_params)"
   ]
  },
  {
   "cell_type": "code",
   "execution_count": null,
   "metadata": {
    "execution": {
     "iopub.status.busy": "2023-04-08T14:04:10.554563Z",
     "iopub.status.idle": "2023-04-08T14:04:10.554950Z",
     "shell.execute_reply": "2023-04-08T14:04:10.554774Z",
     "shell.execute_reply.started": "2023-04-08T14:04:10.554754Z"
    },
    "papermill": {
     "duration": 0.031721,
     "end_time": "2023-04-03T06:22:23.372274",
     "exception": false,
     "start_time": "2023-04-03T06:22:23.340553",
     "status": "completed"
    },
    "tags": []
   },
   "outputs": [],
   "source": [
    "# model = CatBoostRegressor(**best_params, loss_function='RMSE', cat_features=categorical_features, eval_metric='MAPE', random_seed=42, iterations=2000)\n"
   ]
  },
  {
   "cell_type": "code",
   "execution_count": null,
   "metadata": {
    "execution": {
     "iopub.status.busy": "2023-04-08T14:04:10.563027Z",
     "iopub.status.idle": "2023-04-08T14:04:10.563798Z",
     "shell.execute_reply": "2023-04-08T14:04:10.563597Z",
     "shell.execute_reply.started": "2023-04-08T14:04:10.563571Z"
    },
    "papermill": {
     "duration": 8605.719181,
     "end_time": "2023-04-03T08:45:49.391704",
     "exception": false,
     "start_time": "2023-04-03T06:22:23.672523",
     "status": "completed"
    },
    "tags": []
   },
   "outputs": [],
   "source": [
    "model.fit(\n",
    "    train_dataset,\n",
    "    eval_set=val_dataset,\n",
    "    verbose=100,\n",
    ")"
   ]
  },
  {
   "cell_type": "code",
   "execution_count": null,
   "metadata": {
    "execution": {
     "iopub.status.busy": "2023-04-08T14:04:10.565062Z",
     "iopub.status.idle": "2023-04-08T14:04:10.565729Z",
     "shell.execute_reply": "2023-04-08T14:04:10.565529Z",
     "shell.execute_reply.started": "2023-04-08T14:04:10.565501Z"
    },
    "papermill": {
     "duration": 0.447465,
     "end_time": "2023-04-03T08:45:49.867489",
     "exception": false,
     "start_time": "2023-04-03T08:45:49.420024",
     "status": "completed"
    },
    "tags": []
   },
   "outputs": [],
   "source": [
    "model.get_feature_importance(prettified=True)\n",
    "#выводим значимость признаков"
   ]
  },
  {
   "cell_type": "code",
   "execution_count": null,
   "metadata": {
    "execution": {
     "iopub.status.busy": "2023-04-08T14:04:10.567231Z",
     "iopub.status.idle": "2023-04-08T14:04:10.567811Z",
     "shell.execute_reply": "2023-04-08T14:04:10.567619Z",
     "shell.execute_reply.started": "2023-04-08T14:04:10.567595Z"
    },
    "papermill": {
     "duration": 6.395516,
     "end_time": "2023-04-03T08:45:56.291123",
     "exception": false,
     "start_time": "2023-04-03T08:45:49.895607",
     "status": "completed"
    },
    "tags": []
   },
   "outputs": [],
   "source": [
    "predictions = model.predict(test)\n",
    "output = pd.DataFrame({'vin': initial_test.vin, 'sellingprice': predictions})\n",
    "output.to_csv('submission.csv', index=False)\n",
    "print(\"Your submission was successfully saved!\")"
   ]
  }
 ],
 "metadata": {
  "kernelspec": {
   "display_name": "Python 3 (ipykernel)",
   "language": "python",
   "name": "python3"
  },
  "language_info": {
   "codemirror_mode": {
    "name": "ipython",
    "version": 3
   },
   "file_extension": ".py",
   "mimetype": "text/x-python",
   "name": "python",
   "nbconvert_exporter": "python",
   "pygments_lexer": "ipython3",
   "version": "3.10.9"
  }
 },
 "nbformat": 4,
 "nbformat_minor": 4
}
